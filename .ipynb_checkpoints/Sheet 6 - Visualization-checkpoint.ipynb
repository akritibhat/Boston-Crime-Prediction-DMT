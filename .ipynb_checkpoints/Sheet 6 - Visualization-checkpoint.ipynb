{
 "cells": [
  {
   "cell_type": "code",
   "execution_count": 2,
   "metadata": {
    "scrolled": true
   },
   "outputs": [
    {
     "name": "stdout",
     "output_type": "stream",
     "text": [
      "<class 'pandas.core.frame.DataFrame'>\n",
      "RangeIndex: 327820 entries, 0 to 327819\n",
      "Data columns (total 17 columns):\n",
      "INCIDENT_NUMBER        327820 non-null object\n",
      "OFFENSE_CODE           327820 non-null int64\n",
      "OFFENSE_CODE_GROUP     327820 non-null object\n",
      "OFFENSE_DESCRIPTION    327820 non-null object\n",
      "DISTRICT               326046 non-null object\n",
      "REPORTING_AREA         327820 non-null object\n",
      "SHOOTING               1055 non-null object\n",
      "OCCURRED_ON_DATE       327820 non-null object\n",
      "YEAR                   327820 non-null int64\n",
      "MONTH                  327820 non-null int64\n",
      "DAY_OF_WEEK            327820 non-null object\n",
      "HOUR                   327820 non-null int64\n",
      "UCR_PART               327727 non-null object\n",
      "STREET                 316843 non-null object\n",
      "Lat                    307188 non-null float64\n",
      "Long                   307188 non-null float64\n",
      "Location               327820 non-null object\n",
      "dtypes: float64(2), int64(4), object(11)\n",
      "memory usage: 42.5+ MB\n"
     ]
    }
   ],
   "source": [
    "import numpy as np\n",
    "import matplotlib.pyplot as plt\n",
    "import pandas as pd\n",
    "\n",
    "#Reading The CSV\n",
    "data=pd.read_csv('crime.csv',engine='python')\n",
    "\n",
    "#Display the column names for the data set\n",
    "data.info()"
   ]
  },
  {
   "cell_type": "code",
   "execution_count": 2,
   "metadata": {
    "scrolled": true
   },
   "outputs": [
    {
     "data": {
      "text/html": [
       "<div>\n",
       "<style scoped>\n",
       "    .dataframe tbody tr th:only-of-type {\n",
       "        vertical-align: middle;\n",
       "    }\n",
       "\n",
       "    .dataframe tbody tr th {\n",
       "        vertical-align: top;\n",
       "    }\n",
       "\n",
       "    .dataframe thead th {\n",
       "        text-align: right;\n",
       "    }\n",
       "</style>\n",
       "<table border=\"1\" class=\"dataframe\">\n",
       "  <thead>\n",
       "    <tr style=\"text-align: right;\">\n",
       "      <th></th>\n",
       "      <th>INCIDENT_NUMBER</th>\n",
       "      <th>OFFENSE_CODE</th>\n",
       "      <th>OFFENSE_CODE_GROUP</th>\n",
       "      <th>OFFENSE_DESCRIPTION</th>\n",
       "      <th>DISTRICT</th>\n",
       "      <th>REPORTING_AREA</th>\n",
       "      <th>SHOOTING</th>\n",
       "      <th>OCCURRED_ON_DATE</th>\n",
       "      <th>YEAR</th>\n",
       "      <th>MONTH</th>\n",
       "      <th>DAY_OF_WEEK</th>\n",
       "      <th>HOUR</th>\n",
       "      <th>UCR_PART</th>\n",
       "      <th>STREET</th>\n",
       "      <th>Lat</th>\n",
       "      <th>Long</th>\n",
       "      <th>Location</th>\n",
       "    </tr>\n",
       "  </thead>\n",
       "  <tbody>\n",
       "    <tr>\n",
       "      <th>0</th>\n",
       "      <td>I182080058</td>\n",
       "      <td>2403</td>\n",
       "      <td>Disorderly Conduct</td>\n",
       "      <td>DISTURBING THE PEACE</td>\n",
       "      <td>E18</td>\n",
       "      <td>495</td>\n",
       "      <td>NaN</td>\n",
       "      <td>2018-10-03 20:13:00</td>\n",
       "      <td>2018</td>\n",
       "      <td>10</td>\n",
       "      <td>Wednesday</td>\n",
       "      <td>20</td>\n",
       "      <td>Part Two</td>\n",
       "      <td>ARLINGTON ST</td>\n",
       "      <td>42.262608</td>\n",
       "      <td>-71.121186</td>\n",
       "      <td>(42.26260773, -71.12118637)</td>\n",
       "    </tr>\n",
       "    <tr>\n",
       "      <th>1</th>\n",
       "      <td>I182080053</td>\n",
       "      <td>3201</td>\n",
       "      <td>Property Lost</td>\n",
       "      <td>PROPERTY - LOST</td>\n",
       "      <td>D14</td>\n",
       "      <td>795</td>\n",
       "      <td>NaN</td>\n",
       "      <td>2018-08-30 20:00:00</td>\n",
       "      <td>2018</td>\n",
       "      <td>8</td>\n",
       "      <td>Thursday</td>\n",
       "      <td>20</td>\n",
       "      <td>Part Three</td>\n",
       "      <td>ALLSTON ST</td>\n",
       "      <td>42.352111</td>\n",
       "      <td>-71.135311</td>\n",
       "      <td>(42.35211146, -71.13531147)</td>\n",
       "    </tr>\n",
       "    <tr>\n",
       "      <th>2</th>\n",
       "      <td>I182080052</td>\n",
       "      <td>2647</td>\n",
       "      <td>Other</td>\n",
       "      <td>THREATS TO DO BODILY HARM</td>\n",
       "      <td>B2</td>\n",
       "      <td>329</td>\n",
       "      <td>NaN</td>\n",
       "      <td>2018-10-03 19:20:00</td>\n",
       "      <td>2018</td>\n",
       "      <td>10</td>\n",
       "      <td>Wednesday</td>\n",
       "      <td>19</td>\n",
       "      <td>Part Two</td>\n",
       "      <td>DEVON ST</td>\n",
       "      <td>42.308126</td>\n",
       "      <td>-71.076930</td>\n",
       "      <td>(42.30812619, -71.07692974)</td>\n",
       "    </tr>\n",
       "    <tr>\n",
       "      <th>3</th>\n",
       "      <td>I182080051</td>\n",
       "      <td>413</td>\n",
       "      <td>Aggravated Assault</td>\n",
       "      <td>ASSAULT - AGGRAVATED - BATTERY</td>\n",
       "      <td>A1</td>\n",
       "      <td>92</td>\n",
       "      <td>NaN</td>\n",
       "      <td>2018-10-03 20:00:00</td>\n",
       "      <td>2018</td>\n",
       "      <td>10</td>\n",
       "      <td>Wednesday</td>\n",
       "      <td>20</td>\n",
       "      <td>Part One</td>\n",
       "      <td>CAMBRIDGE ST</td>\n",
       "      <td>42.359454</td>\n",
       "      <td>-71.059648</td>\n",
       "      <td>(42.35945371, -71.05964817)</td>\n",
       "    </tr>\n",
       "    <tr>\n",
       "      <th>4</th>\n",
       "      <td>I182080050</td>\n",
       "      <td>3122</td>\n",
       "      <td>Aircraft</td>\n",
       "      <td>AIRCRAFT INCIDENTS</td>\n",
       "      <td>A7</td>\n",
       "      <td>36</td>\n",
       "      <td>NaN</td>\n",
       "      <td>2018-10-03 20:49:00</td>\n",
       "      <td>2018</td>\n",
       "      <td>10</td>\n",
       "      <td>Wednesday</td>\n",
       "      <td>20</td>\n",
       "      <td>Part Three</td>\n",
       "      <td>PRESCOTT ST</td>\n",
       "      <td>42.375258</td>\n",
       "      <td>-71.024663</td>\n",
       "      <td>(42.37525782, -71.02466343)</td>\n",
       "    </tr>\n",
       "  </tbody>\n",
       "</table>\n",
       "</div>"
      ],
      "text/plain": [
       "  INCIDENT_NUMBER  OFFENSE_CODE  OFFENSE_CODE_GROUP  \\\n",
       "0      I182080058          2403  Disorderly Conduct   \n",
       "1      I182080053          3201       Property Lost   \n",
       "2      I182080052          2647               Other   \n",
       "3      I182080051           413  Aggravated Assault   \n",
       "4      I182080050          3122            Aircraft   \n",
       "\n",
       "              OFFENSE_DESCRIPTION DISTRICT REPORTING_AREA SHOOTING  \\\n",
       "0            DISTURBING THE PEACE      E18            495      NaN   \n",
       "1                 PROPERTY - LOST      D14            795      NaN   \n",
       "2       THREATS TO DO BODILY HARM       B2            329      NaN   \n",
       "3  ASSAULT - AGGRAVATED - BATTERY       A1             92      NaN   \n",
       "4              AIRCRAFT INCIDENTS       A7             36      NaN   \n",
       "\n",
       "      OCCURRED_ON_DATE  YEAR  MONTH DAY_OF_WEEK  HOUR    UCR_PART  \\\n",
       "0  2018-10-03 20:13:00  2018     10   Wednesday    20    Part Two   \n",
       "1  2018-08-30 20:00:00  2018      8    Thursday    20  Part Three   \n",
       "2  2018-10-03 19:20:00  2018     10   Wednesday    19    Part Two   \n",
       "3  2018-10-03 20:00:00  2018     10   Wednesday    20    Part One   \n",
       "4  2018-10-03 20:49:00  2018     10   Wednesday    20  Part Three   \n",
       "\n",
       "         STREET        Lat       Long                     Location  \n",
       "0  ARLINGTON ST  42.262608 -71.121186  (42.26260773, -71.12118637)  \n",
       "1    ALLSTON ST  42.352111 -71.135311  (42.35211146, -71.13531147)  \n",
       "2      DEVON ST  42.308126 -71.076930  (42.30812619, -71.07692974)  \n",
       "3  CAMBRIDGE ST  42.359454 -71.059648  (42.35945371, -71.05964817)  \n",
       "4   PRESCOTT ST  42.375258 -71.024663  (42.37525782, -71.02466343)  "
      ]
     },
     "execution_count": 2,
     "metadata": {},
     "output_type": "execute_result"
    }
   ],
   "source": [
    "data.head()"
   ]
  },
  {
   "cell_type": "code",
   "execution_count": 3,
   "metadata": {},
   "outputs": [
    {
     "data": {
      "text/plain": [
       "327820"
      ]
     },
     "execution_count": 3,
     "metadata": {},
     "output_type": "execute_result"
    }
   ],
   "source": [
    "data['INCIDENT_NUMBER'].count()"
   ]
  },
  {
   "cell_type": "code",
   "execution_count": 4,
   "metadata": {},
   "outputs": [
    {
     "data": {
      "text/plain": [
       "array(['E18', 'D14', 'B2', 'A1', 'A7', 'C11', nan, 'D4', 'E13', 'B3',\n",
       "       'C6', 'A15', 'E5'], dtype=object)"
      ]
     },
     "execution_count": 4,
     "metadata": {},
     "output_type": "execute_result"
    }
   ],
   "source": [
    "#Districts in Boston\n",
    "\n",
    "data['DISTRICT'].unique()\n"
   ]
  },
  {
   "cell_type": "code",
   "execution_count": 38,
   "metadata": {},
   "outputs": [],
   "source": [
    "data['DISTRICT']=data['DISTRICT'].map({'E18':'Hyde Park', 'D14':'Brighton', \n",
    "                                       'B2':'Roxbury', 'A1':'Downtown', \n",
    "                                       'A7':'East Boston', 'C11':'Dorchester', \n",
    "                                       'D4':'South End', 'E13':'Jamaica Plain', \n",
    "                                       'B3':'Mattapan', 'C6':'South Boston', \n",
    "                                       'A15':'Charlestown', 'E5':'West Roxbury'})"
   ]
  },
  {
   "cell_type": "code",
   "execution_count": 39,
   "metadata": {},
   "outputs": [
    {
     "data": {
      "text/plain": [
       "count      326046\n",
       "unique         12\n",
       "top       Roxbury\n",
       "freq        51288\n",
       "Name: DISTRICT, dtype: object"
      ]
     },
     "execution_count": 39,
     "metadata": {},
     "output_type": "execute_result"
    }
   ],
   "source": [
    "data['DISTRICT'].describe()"
   ]
  },
  {
   "cell_type": "code",
   "execution_count": 40,
   "metadata": {},
   "outputs": [
    {
     "data": {
      "text/plain": [
       "Roxbury          51288\n",
       "Dorchester       43817\n",
       "South End        43338\n",
       "Downtown         36735\n",
       "Mattapan         36400\n",
       "South Boston     24190\n",
       "Brighton         20632\n",
       "Jamaica Plain    17981\n",
       "Hyde Park        17825\n",
       "East Boston      13634\n",
       "West Roxbury     13543\n",
       "Charlestown       6663\n",
       "Name: DISTRICT, dtype: int64"
      ]
     },
     "execution_count": 40,
     "metadata": {},
     "output_type": "execute_result"
    }
   ],
   "source": [
    "data['DISTRICT'].value_counts()"
   ]
  },
  {
   "cell_type": "code",
   "execution_count": 41,
   "metadata": {},
   "outputs": [
    {
     "data": {
      "text/plain": [
       "array(['ARLINGTON ST', 'ALLSTON ST', 'DEVON ST', ..., 'NEWCOMB',\n",
       "       'MT PLEASANT AVE', 'SAVIN HILL AV'], dtype=object)"
      ]
     },
     "execution_count": 41,
     "metadata": {},
     "output_type": "execute_result"
    }
   ],
   "source": [
    "#Streets\n",
    "\n",
    "data['STREET'].unique()"
   ]
  },
  {
   "cell_type": "code",
   "execution_count": 42,
   "metadata": {},
   "outputs": [
    {
     "data": {
      "text/plain": [
       "WASHINGTON ST          14590\n",
       "BLUE HILL AVE           8002\n",
       "BOYLSTON ST             7425\n",
       "DORCHESTER AVE          5297\n",
       "TREMONT ST              4925\n",
       "MASSACHUSETTS AVE       4865\n",
       "HARRISON AVE            4739\n",
       "CENTRE ST               4487\n",
       "COMMONWEALTH AVE        4291\n",
       "HYDE PARK AVE           3572\n",
       "COLUMBIA RD             3298\n",
       "HUNTINGTON AVE          3058\n",
       "RIVER ST                2902\n",
       "DUDLEY ST               2440\n",
       "WARREN ST               2423\n",
       "COLUMBUS AVE            2369\n",
       "ADAMS ST                2104\n",
       "BEACON ST               2016\n",
       "NEWBURY ST              1937\n",
       "CAMBRIDGE ST            1719\n",
       "BOWDOIN ST              1718\n",
       "GENEVA AVE              1681\n",
       "AMERICAN LEGION HWY     1672\n",
       "W BROADWAY              1661\n",
       "ALBANY ST               1466\n",
       "Name: STREET, dtype: int64"
      ]
     },
     "execution_count": 42,
     "metadata": {},
     "output_type": "execute_result"
    }
   ],
   "source": [
    "#Top 25 Streets with most Crimes\n",
    "data['STREET'].value_counts().head(25)"
   ]
  },
  {
   "cell_type": "code",
   "execution_count": 43,
   "metadata": {},
   "outputs": [
    {
     "data": {
      "text/plain": [
       "array([2018, 2017, 2016, 2015], dtype=int64)"
      ]
     },
     "execution_count": 43,
     "metadata": {},
     "output_type": "execute_result"
    }
   ],
   "source": [
    "#Years For which we are Analysing the data\n",
    "\n",
    "data['YEAR'].unique()"
   ]
  },
  {
   "cell_type": "code",
   "execution_count": 44,
   "metadata": {},
   "outputs": [
    {
     "data": {
      "text/plain": [
       "count    327820.000000\n",
       "mean       2016.598676\n",
       "std           1.009775\n",
       "min        2015.000000\n",
       "25%        2016.000000\n",
       "50%        2017.000000\n",
       "75%        2017.000000\n",
       "max        2018.000000\n",
       "Name: YEAR, dtype: float64"
      ]
     },
     "execution_count": 44,
     "metadata": {},
     "output_type": "execute_result"
    }
   ],
   "source": [
    "data['YEAR'].describe()"
   ]
  },
  {
   "cell_type": "markdown",
   "metadata": {},
   "source": [
    "The above dataset has details for 327820 crimes in the city of Boston, for 12 districts from 2015-2018. Most of the crimes have been reported in the year 2018, maximum crimes being for B2 district and WASHINGTON ST street."
   ]
  },
  {
   "cell_type": "markdown",
   "metadata": {},
   "source": [
    "# Analysing Districts of Boston"
   ]
  },
  {
   "cell_type": "code",
   "execution_count": 45,
   "metadata": {},
   "outputs": [
    {
     "data": {
      "text/html": [
       "<div>\n",
       "<style scoped>\n",
       "    .dataframe tbody tr th:only-of-type {\n",
       "        vertical-align: middle;\n",
       "    }\n",
       "\n",
       "    .dataframe tbody tr th {\n",
       "        vertical-align: top;\n",
       "    }\n",
       "\n",
       "    .dataframe thead th {\n",
       "        text-align: right;\n",
       "    }\n",
       "</style>\n",
       "<table border=\"1\" class=\"dataframe\">\n",
       "  <thead>\n",
       "    <tr style=\"text-align: right;\">\n",
       "      <th></th>\n",
       "      <th>INCIDENT_NUMBER</th>\n",
       "      <th>SHOOTING</th>\n",
       "    </tr>\n",
       "    <tr>\n",
       "      <th>DISTRICT</th>\n",
       "      <th></th>\n",
       "      <th></th>\n",
       "    </tr>\n",
       "  </thead>\n",
       "  <tbody>\n",
       "    <tr>\n",
       "      <th>Brighton</th>\n",
       "      <td>20632</td>\n",
       "      <td>21</td>\n",
       "    </tr>\n",
       "    <tr>\n",
       "      <th>Charlestown</th>\n",
       "      <td>6663</td>\n",
       "      <td>5</td>\n",
       "    </tr>\n",
       "    <tr>\n",
       "      <th>Dorchester</th>\n",
       "      <td>43817</td>\n",
       "      <td>195</td>\n",
       "    </tr>\n",
       "    <tr>\n",
       "      <th>Downtown</th>\n",
       "      <td>36735</td>\n",
       "      <td>12</td>\n",
       "    </tr>\n",
       "    <tr>\n",
       "      <th>East Boston</th>\n",
       "      <td>13634</td>\n",
       "      <td>17</td>\n",
       "    </tr>\n",
       "    <tr>\n",
       "      <th>Hyde Park</th>\n",
       "      <td>17825</td>\n",
       "      <td>35</td>\n",
       "    </tr>\n",
       "    <tr>\n",
       "      <th>Jamaica Plain</th>\n",
       "      <td>17981</td>\n",
       "      <td>70</td>\n",
       "    </tr>\n",
       "    <tr>\n",
       "      <th>Mattapan</th>\n",
       "      <td>36400</td>\n",
       "      <td>227</td>\n",
       "    </tr>\n",
       "    <tr>\n",
       "      <th>Roxbury</th>\n",
       "      <td>51288</td>\n",
       "      <td>352</td>\n",
       "    </tr>\n",
       "    <tr>\n",
       "      <th>South Boston</th>\n",
       "      <td>24190</td>\n",
       "      <td>41</td>\n",
       "    </tr>\n",
       "    <tr>\n",
       "      <th>South End</th>\n",
       "      <td>43338</td>\n",
       "      <td>59</td>\n",
       "    </tr>\n",
       "    <tr>\n",
       "      <th>West Roxbury</th>\n",
       "      <td>13543</td>\n",
       "      <td>19</td>\n",
       "    </tr>\n",
       "  </tbody>\n",
       "</table>\n",
       "</div>"
      ],
      "text/plain": [
       "               INCIDENT_NUMBER  SHOOTING\n",
       "DISTRICT                                \n",
       "Brighton                 20632        21\n",
       "Charlestown               6663         5\n",
       "Dorchester               43817       195\n",
       "Downtown                 36735        12\n",
       "East Boston              13634        17\n",
       "Hyde Park                17825        35\n",
       "Jamaica Plain            17981        70\n",
       "Mattapan                 36400       227\n",
       "Roxbury                  51288       352\n",
       "South Boston             24190        41\n",
       "South End                43338        59\n",
       "West Roxbury             13543        19"
      ]
     },
     "execution_count": 45,
     "metadata": {},
     "output_type": "execute_result"
    }
   ],
   "source": [
    "#District Wise Crime & SHooting Distribution\n",
    "\n",
    "district_data = data.groupby(by= 'DISTRICT')\n",
    "district_data_counts = district_data.count()\n",
    "district_data_counts[['INCIDENT_NUMBER','SHOOTING']]"
   ]
  },
  {
   "cell_type": "code",
   "execution_count": 46,
   "metadata": {},
   "outputs": [
    {
     "data": {
      "text/plain": [
       "<matplotlib.axes._subplots.AxesSubplot at 0x2099c3575c0>"
      ]
     },
     "execution_count": 46,
     "metadata": {},
     "output_type": "execute_result"
    },
    {
     "data": {
      "image/png": "[encoded data removed]",
      "text/plain": [
       "<Figure size 432x288 with 1 Axes>"
      ]
     },
     "metadata": {
      "needs_background": "light"
     },
     "output_type": "display_data"
    }
   ],
   "source": [
    "#Plotting Crime Count District Wise\n",
    "\n",
    "data['DISTRICT'].value_counts().plot.bar()"
   ]
  },
  {
   "cell_type": "code",
   "execution_count": 57,
   "metadata": {},
   "outputs": [
    {
     "data": {
      "text/plain": [
       "<seaborn.axisgrid.FacetGrid at 0x209a2a92f60>"
      ]
     },
     "execution_count": 57,
     "metadata": {},
     "output_type": "execute_result"
    },
    {
     "data": {
      "image/png": "[encoded data removed]",
      "text/plain": [
       "<Figure size 2352.75x720 with 4 Axes>"
      ]
     },
     "metadata": {
      "needs_background": "light"
     },
     "output_type": "display_data"
    }
   ],
   "source": [
    "#District Wise Crime Count Year and Month Wise Distribution\n",
    "\n",
    "sns.catplot(x=\"DISTRICT\", col=\"YEAR\", hue=\"MONTH\", data=data, orient=\"h\", height=10, aspect=0.8, kind=\"count\")"
   ]
  },
  {
   "cell_type": "code",
   "execution_count": 59,
   "metadata": {},
   "outputs": [
    {
     "data": {
      "image/png": "[encoded data removed]",
      "text/plain": [
       "<Figure size 864x432 with 1 Axes>"
      ]
     },
     "metadata": {
      "needs_background": "light"
     },
     "output_type": "display_data"
    }
   ],
   "source": [
    "#Plotting Shooting Data District Wise\n",
    "\n",
    "import matplotlib.pyplot as plt\n",
    "import seaborn as sns\n",
    "\n",
    "width=12\n",
    "height=6\n",
    "plt.figure(figsize = (width,height) )\n",
    "sns.countplot(x=\"SHOOTING\", hue=\"DISTRICT\", data = data)\n",
    "plt.show()\n"
   ]
  },
  {
   "cell_type": "code",
   "execution_count": 60,
   "metadata": {},
   "outputs": [
    {
     "data": {
      "text/plain": [
       "<seaborn.axisgrid.FacetGrid at 0x20997d7cf98>"
      ]
     },
     "execution_count": 60,
     "metadata": {},
     "output_type": "execute_result"
    },
    {
     "data": {
      "image/png": "[encoded data removed]",
      "text/plain": [
       "<Figure size 522.175x576 with 1 Axes>"
      ]
     },
     "metadata": {
      "needs_background": "light"
     },
     "output_type": "display_data"
    }
   ],
   "source": [
    "#District Wise Shooting Count Year Wise Distribution\n",
    "\n",
    "sns.catplot(x=\"DISTRICT\", col=\"SHOOTING\", hue=\"YEAR\", data=data, orient=\"h\", height=8, aspect=0.8, kind=\"count\")"
   ]
  },
  {
   "cell_type": "markdown",
   "metadata": {},
   "source": [
    "From The Above Visualizations, we observe that:\n",
    "\n",
    "District B2(Roxbury) has the highest total crime rate for 4 years.\n"
   ]
  },
  {
   "cell_type": "markdown",
   "metadata": {},
   "source": [
    "# Analysing Streets of Boston"
   ]
  },
  {
   "cell_type": "code",
   "execution_count": 70,
   "metadata": {},
   "outputs": [
    {
     "data": {
      "text/plain": [
       "WASHINGTON ST          14590\n",
       "BLUE HILL AVE           8002\n",
       "BOYLSTON ST             7425\n",
       "DORCHESTER AVE          5297\n",
       "TREMONT ST              4925\n",
       "MASSACHUSETTS AVE       4865\n",
       "HARRISON AVE            4739\n",
       "CENTRE ST               4487\n",
       "COMMONWEALTH AVE        4291\n",
       "HYDE PARK AVE           3572\n",
       "COLUMBIA RD             3298\n",
       "HUNTINGTON AVE          3058\n",
       "RIVER ST                2902\n",
       "DUDLEY ST               2440\n",
       "WARREN ST               2423\n",
       "COLUMBUS AVE            2369\n",
       "ADAMS ST                2104\n",
       "BEACON ST               2016\n",
       "NEWBURY ST              1937\n",
       "CAMBRIDGE ST            1719\n",
       "BOWDOIN ST              1718\n",
       "GENEVA AVE              1681\n",
       "AMERICAN LEGION HWY     1672\n",
       "W BROADWAY              1661\n",
       "ALBANY ST               1466\n",
       "Name: STREET, dtype: int64"
      ]
     },
     "execution_count": 70,
     "metadata": {},
     "output_type": "execute_result"
    }
   ],
   "source": [
    "df = data['STREET'].value_counts().head(25)\n",
    "df"
   ]
  },
  {
   "cell_type": "code",
   "execution_count": 69,
   "metadata": {},
   "outputs": [],
   "source": [
    "STREET_SELECTED = ('WASHINGTON ST',\n",
    "'BLUE HILL AVE', \n",
    "'BOYLSTON ST', \n",
    "'DORCHESTER AVE', \n",
    "'TREMONT ST',\n",
    "'MASSACHUSETTS AVE',\n",
    "'HARRISON AVE',\n",
    "'CENTRE ST',\n",
    "'COMMONWEALTH AVE',\n",
    "'HYDE PARK AVE',\n",
    "'COLUMBIA RD',\n",
    "'HUNTINGTON AVE',\n",
    "'RIVER ST',\n",
    "'DUDLEY ST',\n",
    "'WARREN ST',\n",
    "'COLUMBUS AVE',\n",
    "'ADAMS ST',\n",
    "'BEACON ST',\n",
    "'NEWBURY ST',\n",
    "'CAMBRIDGE ST',\n",
    "'BOWDOIN ST',\n",
    "'GENEVA AVE',\n",
    "'AMERICAN LEGION HWY',\n",
    "'W BROADWAY',\n",
    "'ALBANY ST')"
   ]
  },
  {
   "cell_type": "code",
   "execution_count": 72,
   "metadata": {},
   "outputs": [
    {
     "data": {
      "text/html": [
       "<div>\n",
       "<style scoped>\n",
       "    .dataframe tbody tr th:only-of-type {\n",
       "        vertical-align: middle;\n",
       "    }\n",
       "\n",
       "    .dataframe tbody tr th {\n",
       "        vertical-align: top;\n",
       "    }\n",
       "\n",
       "    .dataframe thead th {\n",
       "        text-align: right;\n",
       "    }\n",
       "</style>\n",
       "<table border=\"1\" class=\"dataframe\">\n",
       "  <thead>\n",
       "    <tr style=\"text-align: right;\">\n",
       "      <th></th>\n",
       "      <th>INCIDENT_NUMBER</th>\n",
       "      <th>OFFENSE_CODE</th>\n",
       "      <th>OFFENSE_CODE_GROUP</th>\n",
       "      <th>OFFENSE_DESCRIPTION</th>\n",
       "      <th>DISTRICT</th>\n",
       "      <th>REPORTING_AREA</th>\n",
       "      <th>SHOOTING</th>\n",
       "      <th>OCCURRED_ON_DATE</th>\n",
       "      <th>YEAR</th>\n",
       "      <th>MONTH</th>\n",
       "      <th>DAY_OF_WEEK</th>\n",
       "      <th>HOUR</th>\n",
       "      <th>UCR_PART</th>\n",
       "      <th>STREET</th>\n",
       "      <th>Lat</th>\n",
       "      <th>Long</th>\n",
       "      <th>Location</th>\n",
       "    </tr>\n",
       "  </thead>\n",
       "  <tbody>\n",
       "    <tr>\n",
       "      <th>35</th>\n",
       "      <td>I182080016</td>\n",
       "      <td>1402</td>\n",
       "      <td>Vandalism</td>\n",
       "      <td>VANDALISM</td>\n",
       "      <td>Dorchester</td>\n",
       "      <td>405</td>\n",
       "      <td>NaN</td>\n",
       "      <td>2018-09-30 00:00:00</td>\n",
       "      <td>2018</td>\n",
       "      <td>9</td>\n",
       "      <td>Sunday</td>\n",
       "      <td>0</td>\n",
       "      <td>Part Two</td>\n",
       "      <td>WASHINGTON ST</td>\n",
       "      <td>42.272345</td>\n",
       "      <td>-71.068718</td>\n",
       "      <td>(42.27234506, -71.06871774)</td>\n",
       "    </tr>\n",
       "    <tr>\n",
       "      <th>106</th>\n",
       "      <td>I182079942</td>\n",
       "      <td>613</td>\n",
       "      <td>Larceny</td>\n",
       "      <td>LARCENY SHOPLIFTING</td>\n",
       "      <td>Downtown</td>\n",
       "      <td>103</td>\n",
       "      <td>NaN</td>\n",
       "      <td>2018-10-03 14:47:00</td>\n",
       "      <td>2018</td>\n",
       "      <td>10</td>\n",
       "      <td>Wednesday</td>\n",
       "      <td>14</td>\n",
       "      <td>Part One</td>\n",
       "      <td>WASHINGTON ST</td>\n",
       "      <td>42.356801</td>\n",
       "      <td>-71.058930</td>\n",
       "      <td>(42.35680075, -71.05893025)</td>\n",
       "    </tr>\n",
       "    <tr>\n",
       "      <th>123</th>\n",
       "      <td>I182079923</td>\n",
       "      <td>3125</td>\n",
       "      <td>Warrant Arrests</td>\n",
       "      <td>WARRANT ARREST</td>\n",
       "      <td>Dorchester</td>\n",
       "      <td>398</td>\n",
       "      <td>NaN</td>\n",
       "      <td>2018-10-03 13:25:00</td>\n",
       "      <td>2018</td>\n",
       "      <td>10</td>\n",
       "      <td>Wednesday</td>\n",
       "      <td>13</td>\n",
       "      <td>Part Three</td>\n",
       "      <td>WASHINGTON ST</td>\n",
       "      <td>42.288739</td>\n",
       "      <td>-71.071126</td>\n",
       "      <td>(42.28873871, -71.07112627)</td>\n",
       "    </tr>\n",
       "    <tr>\n",
       "      <th>130</th>\n",
       "      <td>I182079915</td>\n",
       "      <td>3108</td>\n",
       "      <td>Fire Related Reports</td>\n",
       "      <td>FIRE REPORT - HOUSE, BUILDING, ETC.</td>\n",
       "      <td>Dorchester</td>\n",
       "      <td>454</td>\n",
       "      <td>NaN</td>\n",
       "      <td>2018-10-03 14:09:00</td>\n",
       "      <td>2018</td>\n",
       "      <td>10</td>\n",
       "      <td>Wednesday</td>\n",
       "      <td>14</td>\n",
       "      <td>Part Three</td>\n",
       "      <td>WASHINGTON ST</td>\n",
       "      <td>42.300226</td>\n",
       "      <td>-71.074683</td>\n",
       "      <td>(42.30022551, -71.07468313)</td>\n",
       "    </tr>\n",
       "    <tr>\n",
       "      <th>131</th>\n",
       "      <td>I182079914</td>\n",
       "      <td>3160</td>\n",
       "      <td>Fire Related Reports</td>\n",
       "      <td>FIRE REPORT - CAR, BRUSH, ETC.</td>\n",
       "      <td>Dorchester</td>\n",
       "      <td>454</td>\n",
       "      <td>NaN</td>\n",
       "      <td>2018-10-03 14:09:00</td>\n",
       "      <td>2018</td>\n",
       "      <td>10</td>\n",
       "      <td>Wednesday</td>\n",
       "      <td>14</td>\n",
       "      <td>Part Three</td>\n",
       "      <td>WASHINGTON ST</td>\n",
       "      <td>42.300226</td>\n",
       "      <td>-71.074683</td>\n",
       "      <td>(42.30022551, -71.07468313)</td>\n",
       "    </tr>\n",
       "  </tbody>\n",
       "</table>\n",
       "</div>"
      ],
      "text/plain": [
       "    INCIDENT_NUMBER  OFFENSE_CODE    OFFENSE_CODE_GROUP  \\\n",
       "35       I182080016          1402             Vandalism   \n",
       "106      I182079942           613               Larceny   \n",
       "123      I182079923          3125       Warrant Arrests   \n",
       "130      I182079915          3108  Fire Related Reports   \n",
       "131      I182079914          3160  Fire Related Reports   \n",
       "\n",
       "                     OFFENSE_DESCRIPTION    DISTRICT REPORTING_AREA SHOOTING  \\\n",
       "35                             VANDALISM  Dorchester            405      NaN   \n",
       "106                  LARCENY SHOPLIFTING    Downtown            103      NaN   \n",
       "123                       WARRANT ARREST  Dorchester            398      NaN   \n",
       "130  FIRE REPORT - HOUSE, BUILDING, ETC.  Dorchester            454      NaN   \n",
       "131       FIRE REPORT - CAR, BRUSH, ETC.  Dorchester            454      NaN   \n",
       "\n",
       "        OCCURRED_ON_DATE  YEAR  MONTH DAY_OF_WEEK  HOUR    UCR_PART  \\\n",
       "35   2018-09-30 00:00:00  2018      9      Sunday     0    Part Two   \n",
       "106  2018-10-03 14:47:00  2018     10   Wednesday    14    Part One   \n",
       "123  2018-10-03 13:25:00  2018     10   Wednesday    13  Part Three   \n",
       "130  2018-10-03 14:09:00  2018     10   Wednesday    14  Part Three   \n",
       "131  2018-10-03 14:09:00  2018     10   Wednesday    14  Part Three   \n",
       "\n",
       "            STREET        Lat       Long                     Location  \n",
       "35   WASHINGTON ST  42.272345 -71.068718  (42.27234506, -71.06871774)  \n",
       "106  WASHINGTON ST  42.356801 -71.058930  (42.35680075, -71.05893025)  \n",
       "123  WASHINGTON ST  42.288739 -71.071126  (42.28873871, -71.07112627)  \n",
       "130  WASHINGTON ST  42.300226 -71.074683  (42.30022551, -71.07468313)  \n",
       "131  WASHINGTON ST  42.300226 -71.074683  (42.30022551, -71.07468313)  "
      ]
     },
     "execution_count": 72,
     "metadata": {},
     "output_type": "execute_result"
    }
   ],
   "source": [
    "processedData = pd.DataFrame()\n",
    "k = 0\n",
    "while k<len(STREET_SELECTED):\n",
    "    processedData = processedData.append(data.loc[data['STREET']==STREET_SELECTED[k]])\n",
    "    k = k+1\n",
    "processedData.head()"
   ]
  },
  {
   "cell_type": "code",
   "execution_count": 74,
   "metadata": {},
   "outputs": [
    {
     "data": {
      "text/html": [
       "<div>\n",
       "<style scoped>\n",
       "    .dataframe tbody tr th:only-of-type {\n",
       "        vertical-align: middle;\n",
       "    }\n",
       "\n",
       "    .dataframe tbody tr th {\n",
       "        vertical-align: top;\n",
       "    }\n",
       "\n",
       "    .dataframe thead th {\n",
       "        text-align: right;\n",
       "    }\n",
       "</style>\n",
       "<table border=\"1\" class=\"dataframe\">\n",
       "  <thead>\n",
       "    <tr style=\"text-align: right;\">\n",
       "      <th></th>\n",
       "      <th>INCIDENT_NUMBER</th>\n",
       "      <th>SHOOTING</th>\n",
       "    </tr>\n",
       "    <tr>\n",
       "      <th>STREET</th>\n",
       "      <th></th>\n",
       "      <th></th>\n",
       "    </tr>\n",
       "  </thead>\n",
       "  <tbody>\n",
       "    <tr>\n",
       "      <th>ADAMS ST</th>\n",
       "      <td>2104</td>\n",
       "      <td>9</td>\n",
       "    </tr>\n",
       "    <tr>\n",
       "      <th>ALBANY ST</th>\n",
       "      <td>1466</td>\n",
       "      <td>0</td>\n",
       "    </tr>\n",
       "    <tr>\n",
       "      <th>AMERICAN LEGION HWY</th>\n",
       "      <td>1672</td>\n",
       "      <td>3</td>\n",
       "    </tr>\n",
       "    <tr>\n",
       "      <th>BEACON ST</th>\n",
       "      <td>2016</td>\n",
       "      <td>0</td>\n",
       "    </tr>\n",
       "    <tr>\n",
       "      <th>BLUE HILL AVE</th>\n",
       "      <td>8002</td>\n",
       "      <td>35</td>\n",
       "    </tr>\n",
       "    <tr>\n",
       "      <th>BOWDOIN ST</th>\n",
       "      <td>1718</td>\n",
       "      <td>10</td>\n",
       "    </tr>\n",
       "    <tr>\n",
       "      <th>BOYLSTON ST</th>\n",
       "      <td>7425</td>\n",
       "      <td>4</td>\n",
       "    </tr>\n",
       "    <tr>\n",
       "      <th>CAMBRIDGE ST</th>\n",
       "      <td>1719</td>\n",
       "      <td>0</td>\n",
       "    </tr>\n",
       "    <tr>\n",
       "      <th>CENTRE ST</th>\n",
       "      <td>4487</td>\n",
       "      <td>16</td>\n",
       "    </tr>\n",
       "    <tr>\n",
       "      <th>COLUMBIA RD</th>\n",
       "      <td>3298</td>\n",
       "      <td>23</td>\n",
       "    </tr>\n",
       "    <tr>\n",
       "      <th>COLUMBUS AVE</th>\n",
       "      <td>2369</td>\n",
       "      <td>7</td>\n",
       "    </tr>\n",
       "    <tr>\n",
       "      <th>COMMONWEALTH AVE</th>\n",
       "      <td>4291</td>\n",
       "      <td>0</td>\n",
       "    </tr>\n",
       "    <tr>\n",
       "      <th>DORCHESTER AVE</th>\n",
       "      <td>5297</td>\n",
       "      <td>7</td>\n",
       "    </tr>\n",
       "    <tr>\n",
       "      <th>DUDLEY ST</th>\n",
       "      <td>2440</td>\n",
       "      <td>24</td>\n",
       "    </tr>\n",
       "    <tr>\n",
       "      <th>GENEVA AVE</th>\n",
       "      <td>1681</td>\n",
       "      <td>10</td>\n",
       "    </tr>\n",
       "    <tr>\n",
       "      <th>HARRISON AVE</th>\n",
       "      <td>4739</td>\n",
       "      <td>11</td>\n",
       "    </tr>\n",
       "    <tr>\n",
       "      <th>HUNTINGTON AVE</th>\n",
       "      <td>3058</td>\n",
       "      <td>4</td>\n",
       "    </tr>\n",
       "    <tr>\n",
       "      <th>HYDE PARK AVE</th>\n",
       "      <td>3572</td>\n",
       "      <td>2</td>\n",
       "    </tr>\n",
       "    <tr>\n",
       "      <th>MASSACHUSETTS AVE</th>\n",
       "      <td>4865</td>\n",
       "      <td>10</td>\n",
       "    </tr>\n",
       "    <tr>\n",
       "      <th>NEWBURY ST</th>\n",
       "      <td>1937</td>\n",
       "      <td>0</td>\n",
       "    </tr>\n",
       "    <tr>\n",
       "      <th>RIVER ST</th>\n",
       "      <td>2902</td>\n",
       "      <td>9</td>\n",
       "    </tr>\n",
       "    <tr>\n",
       "      <th>TREMONT ST</th>\n",
       "      <td>4925</td>\n",
       "      <td>15</td>\n",
       "    </tr>\n",
       "    <tr>\n",
       "      <th>W BROADWAY</th>\n",
       "      <td>1661</td>\n",
       "      <td>0</td>\n",
       "    </tr>\n",
       "    <tr>\n",
       "      <th>WARREN ST</th>\n",
       "      <td>2423</td>\n",
       "      <td>5</td>\n",
       "    </tr>\n",
       "    <tr>\n",
       "      <th>WASHINGTON ST</th>\n",
       "      <td>14590</td>\n",
       "      <td>49</td>\n",
       "    </tr>\n",
       "  </tbody>\n",
       "</table>\n",
       "</div>"
      ],
      "text/plain": [
       "                     INCIDENT_NUMBER  SHOOTING\n",
       "STREET                                        \n",
       "ADAMS ST                        2104         9\n",
       "ALBANY ST                       1466         0\n",
       "AMERICAN LEGION HWY             1672         3\n",
       "BEACON ST                       2016         0\n",
       "BLUE HILL AVE                   8002        35\n",
       "BOWDOIN ST                      1718        10\n",
       "BOYLSTON ST                     7425         4\n",
       "CAMBRIDGE ST                    1719         0\n",
       "CENTRE ST                       4487        16\n",
       "COLUMBIA RD                     3298        23\n",
       "COLUMBUS AVE                    2369         7\n",
       "COMMONWEALTH AVE                4291         0\n",
       "DORCHESTER AVE                  5297         7\n",
       "DUDLEY ST                       2440        24\n",
       "GENEVA AVE                      1681        10\n",
       "HARRISON AVE                    4739        11\n",
       "HUNTINGTON AVE                  3058         4\n",
       "HYDE PARK AVE                   3572         2\n",
       "MASSACHUSETTS AVE               4865        10\n",
       "NEWBURY ST                      1937         0\n",
       "RIVER ST                        2902         9\n",
       "TREMONT ST                      4925        15\n",
       "W BROADWAY                      1661         0\n",
       "WARREN ST                       2423         5\n",
       "WASHINGTON ST                  14590        49"
      ]
     },
     "execution_count": 74,
     "metadata": {},
     "output_type": "execute_result"
    }
   ],
   "source": [
    "#Street Wise Crime & Shooting Distribution\n",
    "\n",
    "street_data = processedData.groupby(by= 'STREET')\n",
    "street_data_counts = street_data.count()\n",
    "street_data_counts[['INCIDENT_NUMBER','SHOOTING']]\n"
   ]
  },
  {
   "cell_type": "code",
   "execution_count": 78,
   "metadata": {},
   "outputs": [
    {
     "data": {
      "text/plain": [
       "<matplotlib.legend.Legend at 0x20996a790f0>"
      ]
     },
     "execution_count": 78,
     "metadata": {},
     "output_type": "execute_result"
    },
    {
     "data": {
      "image/png": "[encoded data removed]",
      "text/plain": [
       "<Figure size 1296x360 with 1 Axes>"
      ]
     },
     "metadata": {
      "needs_background": "light"
     },
     "output_type": "display_data"
    }
   ],
   "source": [
    "#Plotting Crime Count Street Wise for Top 25 streets\n",
    "\n",
    "f, ax = plt.subplots(figsize=(18,5))\n",
    "processedData['STREET'].value_counts().plot.bar()\n",
    "ax.legend(fontsize = 14)\n"
   ]
  },
  {
   "cell_type": "code",
   "execution_count": 83,
   "metadata": {},
   "outputs": [
    {
     "data": {
      "text/plain": [
       "<seaborn.axisgrid.FacetGrid at 0x2098ede07f0>"
      ]
     },
     "execution_count": 83,
     "metadata": {},
     "output_type": "execute_result"
    },
    {
     "data": {
      "image/png": "[encoded data removed]",
      "text/plain": [
       "<Figure size 2304x720 with 4 Axes>"
      ]
     },
     "metadata": {
      "needs_background": "light"
     },
     "output_type": "display_data"
    }
   ],
   "source": [
    "#District Wise Crime Count Year Wise Distribution\n",
    "\n",
    "sns.catplot(x=\"STREET\", col=\"YEAR\", data=processedData, orient=\"h\", height=10, aspect=0.8, kind=\"count\")"
   ]
  },
  {
   "cell_type": "code",
   "execution_count": 85,
   "metadata": {},
   "outputs": [
    {
     "data": {
      "image/png": "[encoded data removed]",
      "text/plain": [
       "<Figure size 864x864 with 1 Axes>"
      ]
     },
     "metadata": {
      "needs_background": "light"
     },
     "output_type": "display_data"
    }
   ],
   "source": [
    "#Plotting Shooting Data Street Wise\n",
    "\n",
    "import matplotlib.pyplot as plt\n",
    "import seaborn as sns\n",
    "\n",
    "width=12\n",
    "height=12\n",
    "plt.figure(figsize = (width,height) )\n",
    "sns.countplot(x=\"SHOOTING\", hue=\"STREET\", data = processedData)\n",
    "plt.show()\n"
   ]
  },
  {
   "cell_type": "code",
   "execution_count": 86,
   "metadata": {},
   "outputs": [
    {
     "data": {
      "text/plain": [
       "<seaborn.axisgrid.FacetGrid at 0x209a39c3d68>"
      ]
     },
     "execution_count": 86,
     "metadata": {},
     "output_type": "execute_result"
    },
    {
     "data": {
      "image/png": "[encoded data removed]",
      "text/plain": [
       "<Figure size 522.175x576 with 1 Axes>"
      ]
     },
     "metadata": {
      "needs_background": "light"
     },
     "output_type": "display_data"
    }
   ],
   "source": [
    "#District Wise Shooting Count Year Wise Distribution\n",
    "\n",
    "sns.catplot(x=\"STREET\", col=\"SHOOTING\", hue=\"YEAR\", data=processedData, orient=\"h\", height=8, aspect=0.8, kind=\"count\")"
   ]
  },
  {
   "cell_type": "markdown",
   "metadata": {},
   "source": [
    "From The Above Visualizations, we observe that:\n",
    "\n",
    "Street: Washington has the highest total crime rate for 4 years.\n"
   ]
  },
  {
   "cell_type": "code",
   "execution_count": 37,
   "metadata": {},
   "outputs": [
    {
     "data": {
      "text/html": [
       "<div>\n",
       "<style scoped>\n",
       "    .dataframe tbody tr th:only-of-type {\n",
       "        vertical-align: middle;\n",
       "    }\n",
       "\n",
       "    .dataframe tbody tr th {\n",
       "        vertical-align: top;\n",
       "    }\n",
       "\n",
       "    .dataframe thead tr th {\n",
       "        text-align: left;\n",
       "    }\n",
       "\n",
       "    .dataframe thead tr:last-of-type th {\n",
       "        text-align: right;\n",
       "    }\n",
       "</style>\n",
       "<table border=\"1\" class=\"dataframe\">\n",
       "  <thead>\n",
       "    <tr>\n",
       "      <th></th>\n",
       "      <th colspan=\"4\" halign=\"left\">OFFENSE_CODE</th>\n",
       "    </tr>\n",
       "    <tr>\n",
       "      <th>YEAR</th>\n",
       "      <th>2015</th>\n",
       "      <th>2016</th>\n",
       "      <th>2017</th>\n",
       "      <th>2018</th>\n",
       "    </tr>\n",
       "    <tr>\n",
       "      <th>OFFENSE_CODE_GROUP</th>\n",
       "      <th></th>\n",
       "      <th></th>\n",
       "      <th></th>\n",
       "      <th></th>\n",
       "    </tr>\n",
       "  </thead>\n",
       "  <tbody>\n",
       "    <tr>\n",
       "      <th>Aggravated Assault</th>\n",
       "      <td>1386.0</td>\n",
       "      <td>2365.0</td>\n",
       "      <td>2405.0</td>\n",
       "      <td>1877.0</td>\n",
       "    </tr>\n",
       "    <tr>\n",
       "      <th>Aircraft</th>\n",
       "      <td>4.0</td>\n",
       "      <td>4.0</td>\n",
       "      <td>22.0</td>\n",
       "      <td>7.0</td>\n",
       "    </tr>\n",
       "    <tr>\n",
       "      <th>Arson</th>\n",
       "      <td>11.0</td>\n",
       "      <td>34.0</td>\n",
       "      <td>32.0</td>\n",
       "      <td>18.0</td>\n",
       "    </tr>\n",
       "    <tr>\n",
       "      <th>Assembly or Gathering Violations</th>\n",
       "      <td>240.0</td>\n",
       "      <td>333.0</td>\n",
       "      <td>243.0</td>\n",
       "      <td>161.0</td>\n",
       "    </tr>\n",
       "    <tr>\n",
       "      <th>Auto Theft</th>\n",
       "      <td>988.0</td>\n",
       "      <td>1537.0</td>\n",
       "      <td>1393.0</td>\n",
       "      <td>1036.0</td>\n",
       "    </tr>\n",
       "    <tr>\n",
       "      <th>Auto Theft Recovery</th>\n",
       "      <td>137.0</td>\n",
       "      <td>312.0</td>\n",
       "      <td>371.0</td>\n",
       "      <td>262.0</td>\n",
       "    </tr>\n",
       "    <tr>\n",
       "      <th>Ballistics</th>\n",
       "      <td>166.0</td>\n",
       "      <td>303.0</td>\n",
       "      <td>339.0</td>\n",
       "      <td>199.0</td>\n",
       "    </tr>\n",
       "    <tr>\n",
       "      <th>Biological Threat</th>\n",
       "      <td>NaN</td>\n",
       "      <td>NaN</td>\n",
       "      <td>2.0</td>\n",
       "      <td>NaN</td>\n",
       "    </tr>\n",
       "    <tr>\n",
       "      <th>Bomb Hoax</th>\n",
       "      <td>17.0</td>\n",
       "      <td>38.0</td>\n",
       "      <td>11.0</td>\n",
       "      <td>11.0</td>\n",
       "    </tr>\n",
       "    <tr>\n",
       "      <th>Burglary - No Property Taken</th>\n",
       "      <td>1.0</td>\n",
       "      <td>1.0</td>\n",
       "      <td>NaN</td>\n",
       "      <td>NaN</td>\n",
       "    </tr>\n",
       "  </tbody>\n",
       "</table>\n",
       "</div>"
      ],
      "text/plain": [
       "                                 OFFENSE_CODE                        \n",
       "YEAR                                     2015    2016    2017    2018\n",
       "OFFENSE_CODE_GROUP                                                   \n",
       "Aggravated Assault                     1386.0  2365.0  2405.0  1877.0\n",
       "Aircraft                                  4.0     4.0    22.0     7.0\n",
       "Arson                                    11.0    34.0    32.0    18.0\n",
       "Assembly or Gathering Violations        240.0   333.0   243.0   161.0\n",
       "Auto Theft                              988.0  1537.0  1393.0  1036.0\n",
       "Auto Theft Recovery                     137.0   312.0   371.0   262.0\n",
       "Ballistics                              166.0   303.0   339.0   199.0\n",
       "Biological Threat                         NaN     NaN     2.0     NaN\n",
       "Bomb Hoax                                17.0    38.0    11.0    11.0\n",
       "Burglary - No Property Taken              1.0     1.0     NaN     NaN"
      ]
     },
     "execution_count": 37,
     "metadata": {},
     "output_type": "execute_result"
    }
   ],
   "source": [
    "#Ten Most Frequent Offenses in Boston\n",
    "\n",
    "offense=pd.pivot_table(data.loc[:,['OFFENSE_CODE_GROUP','YEAR','OFFENSE_CODE']],index='OFFENSE_CODE_GROUP', columns='YEAR',aggfunc=np.count_nonzero)\n",
    "offense.head(10)"
   ]
  },
  {
   "cell_type": "code",
   "execution_count": 12,
   "metadata": {},
   "outputs": [
    {
     "data": {
      "text/html": [
       "<div>\n",
       "<style scoped>\n",
       "    .dataframe tbody tr th:only-of-type {\n",
       "        vertical-align: middle;\n",
       "    }\n",
       "\n",
       "    .dataframe tbody tr th {\n",
       "        vertical-align: top;\n",
       "    }\n",
       "\n",
       "    .dataframe thead th {\n",
       "        text-align: right;\n",
       "    }\n",
       "</style>\n",
       "<table border=\"1\" class=\"dataframe\">\n",
       "  <thead>\n",
       "    <tr style=\"text-align: right;\">\n",
       "      <th></th>\n",
       "      <th>Total Count</th>\n",
       "    </tr>\n",
       "    <tr>\n",
       "      <th>OFFENSE_CODE_GROUP</th>\n",
       "      <th></th>\n",
       "    </tr>\n",
       "  </thead>\n",
       "  <tbody>\n",
       "    <tr>\n",
       "      <th>Motor Vehicle Accident Response</th>\n",
       "      <td>38134.0</td>\n",
       "    </tr>\n",
       "    <tr>\n",
       "      <th>Larceny</th>\n",
       "      <td>26670.0</td>\n",
       "    </tr>\n",
       "    <tr>\n",
       "      <th>Medical Assistance</th>\n",
       "      <td>24226.0</td>\n",
       "    </tr>\n",
       "    <tr>\n",
       "      <th>Investigate Person</th>\n",
       "      <td>19176.0</td>\n",
       "    </tr>\n",
       "    <tr>\n",
       "      <th>Other</th>\n",
       "      <td>18612.0</td>\n",
       "    </tr>\n",
       "    <tr>\n",
       "      <th>Drug Violation</th>\n",
       "      <td>17037.0</td>\n",
       "    </tr>\n",
       "    <tr>\n",
       "      <th>Simple Assault</th>\n",
       "      <td>16263.0</td>\n",
       "    </tr>\n",
       "    <tr>\n",
       "      <th>Vandalism</th>\n",
       "      <td>15810.0</td>\n",
       "    </tr>\n",
       "    <tr>\n",
       "      <th>Verbal Disputes</th>\n",
       "      <td>13478.0</td>\n",
       "    </tr>\n",
       "    <tr>\n",
       "      <th>Towed</th>\n",
       "      <td>11632.0</td>\n",
       "    </tr>\n",
       "  </tbody>\n",
       "</table>\n",
       "</div>"
      ],
      "text/plain": [
       "                                 Total Count\n",
       "OFFENSE_CODE_GROUP                          \n",
       "Motor Vehicle Accident Response      38134.0\n",
       "Larceny                              26670.0\n",
       "Medical Assistance                   24226.0\n",
       "Investigate Person                   19176.0\n",
       "Other                                18612.0\n",
       "Drug Violation                       17037.0\n",
       "Simple Assault                       16263.0\n",
       "Vandalism                            15810.0\n",
       "Verbal Disputes                      13478.0\n",
       "Towed                                11632.0"
      ]
     },
     "execution_count": 12,
     "metadata": {},
     "output_type": "execute_result"
    }
   ],
   "source": [
    "\n",
    "summary=pd.DataFrame(offense.apply(np.sum,axis=1))\n",
    "summary=summary.rename(columns={0:'Total Count'})\n",
    "sumsort=summary.sort_values(by='Total Count',ascending=False)\n",
    "top5=sumsort.iloc[0:10,:]\n",
    "top5"
   ]
  }
 ],
 "metadata": {
  "kernelspec": {
   "display_name": "Python 3",
   "language": "python",
   "name": "python3"
  },
  "language_info": {
   "codemirror_mode": {
    "name": "ipython",
    "version": 3
   },
   "file_extension": ".py",
   "mimetype": "text/x-python",
   "name": "python",
   "nbconvert_exporter": "python",
   "pygments_lexer": "ipython3",
   "version": "3.7.1"
  }
 },
 "nbformat": 4,
 "nbformat_minor": 2
}
