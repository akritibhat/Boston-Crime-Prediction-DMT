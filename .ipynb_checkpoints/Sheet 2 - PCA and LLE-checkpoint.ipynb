{
 "cells": [
  {
   "cell_type": "code",
   "execution_count": 103,
   "metadata": {},
   "outputs": [],
   "source": [
    "import numpy as np\n",
    "import matplotlib.pyplot as plt\n",
    "import pandas as pd\n",
    "from sklearn.preprocessing import LabelEncoder\n",
    "from sklearn.decomposition import PCA\n",
    "#Reading The CSV\n",
    "data=pd.read_csv('crime.csv',engine='python')"
   ]
  },
  {
   "cell_type": "code",
   "execution_count": 104,
   "metadata": {},
   "outputs": [
    {
     "data": {
      "text/plain": [
       "array(['N', 'Y'], dtype=object)"
      ]
     },
     "execution_count": 104,
     "metadata": {},
     "output_type": "execute_result"
    }
   ],
   "source": [
    "data['SHOOTING']=data['SHOOTING'].fillna('N')\n",
    "data['SHOOTING'].unique()"
   ]
  },
  {
   "cell_type": "code",
   "execution_count": 109,
   "metadata": {},
   "outputs": [],
   "source": [
    "transform_labels=data.iloc[:,:]\n",
    "transform_labels.loc[:,'STREET']=LabelEncoder().fit_transform(transform_labels.loc[:,'STREET'].astype('str'))\n",
    "transform_labels.loc[:,'UCR_PART']=LabelEncoder().fit_transform(transform_labels.loc[:,'UCR_PART'].astype('str'))\n",
    "transform_labels.loc[:,'OFFENSE_CODE_GROUP']=LabelEncoder().fit_transform(transform_labels.loc[:,'OFFENSE_CODE_GROUP'])\n",
    "transform_labels.loc[:,'OFFENSE_DESCRIPTION']=LabelEncoder().fit_transform(transform_labels.loc[:,'OFFENSE_DESCRIPTION'])\n",
    "transform_labels.loc[:,'DISTRICT']=LabelEncoder().fit_transform(transform_labels.loc[:,'DISTRICT'].astype('str'))\n",
    "transform_labels.loc[:,'REPORTING_AREA']=LabelEncoder().fit_transform(transform_labels.loc[:,'REPORTING_AREA'].astype('str'))\n",
    "transform_labels.loc[:,'SHOOTING']=LabelEncoder().fit_transform(transform_labels.loc[:,'SHOOTING'])\n",
    "transform_labels.loc[:,'DAY_OF_WEEK']=LabelEncoder().fit_transform(transform_labels.loc[:,'DAY_OF_WEEK'])\n"
   ]
  },
  {
   "cell_type": "code",
   "execution_count": 91,
   "metadata": {},
   "outputs": [
    {
     "data": {
      "text/html": [
       "<div>\n",
       "<style scoped>\n",
       "    .dataframe tbody tr th:only-of-type {\n",
       "        vertical-align: middle;\n",
       "    }\n",
       "\n",
       "    .dataframe tbody tr th {\n",
       "        vertical-align: top;\n",
       "    }\n",
       "\n",
       "    .dataframe thead th {\n",
       "        text-align: right;\n",
       "    }\n",
       "</style>\n",
       "<table border=\"1\" class=\"dataframe\">\n",
       "  <thead>\n",
       "    <tr style=\"text-align: right;\">\n",
       "      <th></th>\n",
       "      <th>OFFENSE_CODE</th>\n",
       "      <th>OFFENSE_CODE_GROUP</th>\n",
       "      <th>OFFENSE_DESCRIPTION</th>\n",
       "      <th>DISTRICT</th>\n",
       "      <th>REPORTING_AREA</th>\n",
       "      <th>SHOOTING</th>\n",
       "      <th>YEAR</th>\n",
       "      <th>DAY_OF_WEEK</th>\n",
       "      <th>HOUR</th>\n",
       "      <th>UCR_PART</th>\n",
       "      <th>STREET</th>\n",
       "    </tr>\n",
       "  </thead>\n",
       "  <tbody>\n",
       "    <tr>\n",
       "      <th>0</th>\n",
       "      <td>2403</td>\n",
       "      <td>14</td>\n",
       "      <td>62</td>\n",
       "      <td>10</td>\n",
       "      <td>439</td>\n",
       "      <td>1</td>\n",
       "      <td>2018</td>\n",
       "      <td>6</td>\n",
       "      <td>20</td>\n",
       "      <td>3</td>\n",
       "      <td>240</td>\n",
       "    </tr>\n",
       "    <tr>\n",
       "      <th>1</th>\n",
       "      <td>3201</td>\n",
       "      <td>52</td>\n",
       "      <td>186</td>\n",
       "      <td>7</td>\n",
       "      <td>770</td>\n",
       "      <td>1</td>\n",
       "      <td>2018</td>\n",
       "      <td>4</td>\n",
       "      <td>20</td>\n",
       "      <td>2</td>\n",
       "      <td>143</td>\n",
       "    </tr>\n",
       "    <tr>\n",
       "      <th>2</th>\n",
       "      <td>2647</td>\n",
       "      <td>46</td>\n",
       "      <td>221</td>\n",
       "      <td>3</td>\n",
       "      <td>256</td>\n",
       "      <td>1</td>\n",
       "      <td>2018</td>\n",
       "      <td>6</td>\n",
       "      <td>19</td>\n",
       "      <td>3</td>\n",
       "      <td>1273</td>\n",
       "    </tr>\n",
       "    <tr>\n",
       "      <th>3</th>\n",
       "      <td>413</td>\n",
       "      <td>0</td>\n",
       "      <td>16</td>\n",
       "      <td>0</td>\n",
       "      <td>835</td>\n",
       "      <td>1</td>\n",
       "      <td>2018</td>\n",
       "      <td>6</td>\n",
       "      <td>20</td>\n",
       "      <td>1</td>\n",
       "      <td>728</td>\n",
       "    </tr>\n",
       "    <tr>\n",
       "      <th>4</th>\n",
       "      <td>3122</td>\n",
       "      <td>1</td>\n",
       "      <td>4</td>\n",
       "      <td>2</td>\n",
       "      <td>290</td>\n",
       "      <td>1</td>\n",
       "      <td>2018</td>\n",
       "      <td>6</td>\n",
       "      <td>20</td>\n",
       "      <td>2</td>\n",
       "      <td>3408</td>\n",
       "    </tr>\n",
       "  </tbody>\n",
       "</table>\n",
       "</div>"
      ],
      "text/plain": [
       "   OFFENSE_CODE  OFFENSE_CODE_GROUP  OFFENSE_DESCRIPTION  DISTRICT  \\\n",
       "0          2403                  14                   62        10   \n",
       "1          3201                  52                  186         7   \n",
       "2          2647                  46                  221         3   \n",
       "3           413                   0                   16         0   \n",
       "4          3122                   1                    4         2   \n",
       "\n",
       "   REPORTING_AREA  SHOOTING  YEAR  DAY_OF_WEEK  HOUR  UCR_PART  STREET  \n",
       "0             439         1  2018            6    20         3     240  \n",
       "1             770         1  2018            4    20         2     143  \n",
       "2             256         1  2018            6    19         3    1273  \n",
       "3             835         1  2018            6    20         1     728  \n",
       "4             290         1  2018            6    20         2    3408  "
      ]
     },
     "execution_count": 91,
     "metadata": {},
     "output_type": "execute_result"
    }
   ],
   "source": [
    "transform_labels.head()"
   ]
  },
  {
   "cell_type": "code",
   "execution_count": 113,
   "metadata": {},
   "outputs": [],
   "source": [
    "data=transform_labels.loc[:,['OFFENSE_CODE', 'OFFENSE_CODE_GROUP','OFFENSE_DESCRIPTION', 'DISTRICT', 'REPORTING_AREA', \n",
    "                             'SHOOTING', 'YEAR','DAY_OF_WEEK', 'HOUR', 'UCR_PART', 'STREET']]"
   ]
  },
  {
   "cell_type": "code",
   "execution_count": 114,
   "metadata": {},
   "outputs": [],
   "source": [
    "pca=PCA(n_components=5).fit(data)"
   ]
  },
  {
   "cell_type": "code",
   "execution_count": 115,
   "metadata": {},
   "outputs": [
    {
     "name": "stdout",
     "output_type": "stream",
     "text": [
      "[5.09234244e-01 4.67603197e-01 2.18856286e-02 1.19387537e-03\n",
      " 6.48782247e-05]\n"
     ]
    }
   ],
   "source": [
    "print(pca.explained_variance_ratio_)"
   ]
  },
  {
   "cell_type": "code",
   "execution_count": 116,
   "metadata": {},
   "outputs": [
    {
     "name": "stdout",
     "output_type": "stream",
     "text": [
      "[707688.13477116 678143.8848384  146710.9829614   34265.9368941\n",
      "   7987.89951401]\n"
     ]
    }
   ],
   "source": [
    "print(pca.singular_values_)"
   ]
  },
  {
   "cell_type": "code",
   "execution_count": 117,
   "metadata": {},
   "outputs": [],
   "source": [
    "from sklearn import manifold"
   ]
  },
  {
   "cell_type": "code",
   "execution_count": 118,
   "metadata": {},
   "outputs": [],
   "source": [
    "clf = manifold.LocallyLinearEmbedding(n_neighbors=20, n_components=2, method='standard')\n",
    "lle = clf.fit_transform(data)"
   ]
  },
  {
   "cell_type": "code",
   "execution_count": 121,
   "metadata": {},
   "outputs": [
    {
     "data": {
      "text/plain": [
       "(327820, 2)"
      ]
     },
     "execution_count": 121,
     "metadata": {},
     "output_type": "execute_result"
    }
   ],
   "source": [
    "lle.shape"
   ]
  },
  {
   "cell_type": "code",
   "execution_count": null,
   "metadata": {},
   "outputs": [],
   "source": []
  }
 ],
 "metadata": {
  "kernelspec": {
   "display_name": "Python 3",
   "language": "python",
   "name": "python3"
  },
  "language_info": {
   "codemirror_mode": {
    "name": "ipython",
    "version": 3
   },
   "file_extension": ".py",
   "mimetype": "text/x-python",
   "name": "python",
   "nbconvert_exporter": "python",
   "pygments_lexer": "ipython3",
   "version": "3.7.1"
  }
 },
 "nbformat": 4,
 "nbformat_minor": 2
}
