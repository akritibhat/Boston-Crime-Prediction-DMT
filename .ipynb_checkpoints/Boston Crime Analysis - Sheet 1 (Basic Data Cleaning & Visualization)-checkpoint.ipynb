{
 "cells": [
  {
   "cell_type": "code",
   "execution_count": 2,
   "metadata": {},
   "outputs": [
    {
     "name": "stdout",
     "output_type": "stream",
     "text": [
      "<class 'pandas.core.frame.DataFrame'>\n",
      "RangeIndex: 327820 entries, 0 to 327819\n",
      "Data columns (total 17 columns):\n",
      "INCIDENT_NUMBER        327820 non-null object\n",
      "OFFENSE_CODE           327820 non-null int64\n",
      "OFFENSE_CODE_GROUP     327820 non-null object\n",
      "OFFENSE_DESCRIPTION    327820 non-null object\n",
      "DISTRICT               326046 non-null object\n",
      "REPORTING_AREA         327820 non-null object\n",
      "SHOOTING               1055 non-null object\n",
      "OCCURRED_ON_DATE       327820 non-null object\n",
      "YEAR                   327820 non-null int64\n",
      "MONTH                  327820 non-null int64\n",
      "DAY_OF_WEEK            327820 non-null object\n",
      "HOUR                   327820 non-null int64\n",
      "UCR_PART               327727 non-null object\n",
      "STREET                 316843 non-null object\n",
      "Lat                    307188 non-null float64\n",
      "Long                   307188 non-null float64\n",
      "Location               327820 non-null object\n",
      "dtypes: float64(2), int64(4), object(11)\n",
      "memory usage: 42.5+ MB\n"
     ]
    }
   ],
   "source": [
    "import numpy as np\n",
    "import matplotlib.pyplot as plt\n",
    "import pandas as pd\n",
    "\n",
    "#Reading The CSV\n",
    "data=pd.read_csv('crime.csv',engine='python')\n",
    "\n",
    "#Displaying the column names and their info for the data set\n",
    "data.info()"
   ]
  },
  {
   "cell_type": "markdown",
   "metadata": {},
   "source": [
    "Data Cleaning and Pre Processing"
   ]
  },
  {
   "cell_type": "code",
   "execution_count": null,
   "metadata": {},
   "outputs": [],
   "source": [
    "#Finding Missing Values\n",
    "\n",
    "data['SHOOTING'].unique()\n"
   ]
  },
  {
   "cell_type": "code",
   "execution_count": null,
   "metadata": {},
   "outputs": [],
   "source": [
    "#Replacing Shooting Null Values with N\n",
    "\n",
    "data['SHOOTING']=data['SHOOTING'].fillna('N')\n",
    "data['SHOOTING'].unique()"
   ]
  }
 ],
 "metadata": {
  "kernelspec": {
   "display_name": "Python 3",
   "language": "python",
   "name": "python3"
  },
  "language_info": {
   "codemirror_mode": {
    "name": "ipython",
    "version": 3
   },
   "file_extension": ".py",
   "mimetype": "text/x-python",
   "name": "python",
   "nbconvert_exporter": "python",
   "pygments_lexer": "ipython3",
   "version": "3.7.1"
  }
 },
 "nbformat": 4,
 "nbformat_minor": 2
}
