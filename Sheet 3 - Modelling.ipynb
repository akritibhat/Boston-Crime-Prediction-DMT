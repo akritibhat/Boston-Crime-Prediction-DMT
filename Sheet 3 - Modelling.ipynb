{
 "cells": [
  {
   "cell_type": "code",
   "execution_count": 113,
   "metadata": {},
   "outputs": [],
   "source": [
    "#Loading the Data\n",
    "\n",
    "import numpy as np\n",
    "import matplotlib.pyplot as plt\n",
    "import pandas as pd\n",
    "from sklearn.preprocessing import LabelEncoder\n",
    "\n",
    "#Reading The CSV\n",
    "data=pd.read_csv('crime.csv',engine='python')"
   ]
  },
  {
   "cell_type": "markdown",
   "metadata": {},
   "source": [
    "Pre Processing The Data to Generate Decision Trees"
   ]
  },
  {
   "cell_type": "code",
   "execution_count": 114,
   "metadata": {},
   "outputs": [
    {
     "data": {
      "text/plain": [
       "Index(['INCIDENT_NUMBER', 'OFFENSE_CODE', 'OFFENSE_CODE_GROUP',\n",
       "       'OFFENSE_DESCRIPTION', 'DISTRICT', 'REPORTING_AREA', 'SHOOTING',\n",
       "       'OCCURRED_ON_DATE', 'YEAR', 'MONTH', 'DAY_OF_WEEK', 'HOUR', 'UCR_PART',\n",
       "       'STREET', 'Lat', 'Long', 'Location'],\n",
       "      dtype='object')"
      ]
     },
     "execution_count": 114,
     "metadata": {},
     "output_type": "execute_result"
    }
   ],
   "source": [
    "data.columns"
   ]
  },
  {
   "cell_type": "code",
   "execution_count": 250,
   "metadata": {},
   "outputs": [
    {
     "data": {
      "text/plain": [
       "INCIDENT_NUMBER            0\n",
       "OFFENSE_CODE               0\n",
       "OFFENSE_CODE_GROUP         0\n",
       "OFFENSE_DESCRIPTION        0\n",
       "DISTRICT                   0\n",
       "REPORTING_AREA             0\n",
       "SHOOTING                   0\n",
       "OCCURRED_ON_DATE           0\n",
       "YEAR                       0\n",
       "MONTH                      0\n",
       "DAY_OF_WEEK                0\n",
       "HOUR                       0\n",
       "UCR_PART                  93\n",
       "STREET                     0\n",
       "Lat                    20632\n",
       "Long                   20632\n",
       "Location                   0\n",
       "dtype: int64"
      ]
     },
     "execution_count": 250,
     "metadata": {},
     "output_type": "execute_result"
    }
   ],
   "source": [
    "data['SHOOTING']=data['SHOOTING'].fillna(0)\n",
    "data['SHOOTING']=data['SHOOTING'].map({0: 0,'Y':1})\n",
    "\n",
    "data.isnull().sum()"
   ]
  },
  {
   "cell_type": "code",
   "execution_count": 251,
   "metadata": {},
   "outputs": [
    {
     "data": {
      "text/plain": [
       "INCIDENT_NUMBER        0\n",
       "OFFENSE_CODE           0\n",
       "OFFENSE_CODE_GROUP     0\n",
       "OFFENSE_DESCRIPTION    0\n",
       "DISTRICT               0\n",
       "REPORTING_AREA         0\n",
       "SHOOTING               0\n",
       "OCCURRED_ON_DATE       0\n",
       "YEAR                   0\n",
       "MONTH                  0\n",
       "DAY_OF_WEEK            0\n",
       "HOUR                   0\n",
       "UCR_PART               0\n",
       "STREET                 0\n",
       "Lat                    0\n",
       "Long                   0\n",
       "Location               0\n",
       "dtype: int64"
      ]
     },
     "execution_count": 251,
     "metadata": {},
     "output_type": "execute_result"
    }
   ],
   "source": [
    "#Drop All Null Values\n",
    "datanew= data.dropna()\n",
    "datanew.isnull().sum()"
   ]
  },
  {
   "cell_type": "code",
   "execution_count": 252,
   "metadata": {},
   "outputs": [
    {
     "name": "stderr",
     "output_type": "stream",
     "text": [
      "C:\\Users\\akrit\\Anaconda3\\lib\\site-packages\\ipykernel_launcher.py:1: SettingWithCopyWarning: \n",
      "A value is trying to be set on a copy of a slice from a DataFrame.\n",
      "Try using .loc[row_indexer,col_indexer] = value instead\n",
      "\n",
      "See the caveats in the documentation: http://pandas.pydata.org/pandas-docs/stable/indexing.html#indexing-view-versus-copy\n",
      "  \"\"\"Entry point for launching an IPython kernel.\n"
     ]
    }
   ],
   "source": [
    "datanew['NightTime'] = 0\n"
   ]
  },
  {
   "cell_type": "code",
   "execution_count": 253,
   "metadata": {},
   "outputs": [
    {
     "name": "stderr",
     "output_type": "stream",
     "text": [
      "C:\\Users\\akrit\\Anaconda3\\lib\\site-packages\\pandas\\core\\indexing.py:189: SettingWithCopyWarning: \n",
      "A value is trying to be set on a copy of a slice from a DataFrame\n",
      "\n",
      "See the caveats in the documentation: http://pandas.pydata.org/pandas-docs/stable/indexing.html#indexing-view-versus-copy\n",
      "  self._setitem_with_indexer(indexer, value)\n",
      "C:\\Users\\akrit\\Anaconda3\\lib\\site-packages\\ipykernel_launcher.py:1: SettingWithCopyWarning: \n",
      "A value is trying to be set on a copy of a slice from a DataFrame\n",
      "\n",
      "See the caveats in the documentation: http://pandas.pydata.org/pandas-docs/stable/indexing.html#indexing-view-versus-copy\n",
      "  \"\"\"Entry point for launching an IPython kernel.\n",
      "C:\\Users\\akrit\\Anaconda3\\lib\\site-packages\\ipykernel_launcher.py:2: SettingWithCopyWarning: \n",
      "A value is trying to be set on a copy of a slice from a DataFrame\n",
      "\n",
      "See the caveats in the documentation: http://pandas.pydata.org/pandas-docs/stable/indexing.html#indexing-view-versus-copy\n",
      "  \n"
     ]
    },
    {
     "data": {
      "text/html": [
       "<div>\n",
       "<style scoped>\n",
       "    .dataframe tbody tr th:only-of-type {\n",
       "        vertical-align: middle;\n",
       "    }\n",
       "\n",
       "    .dataframe tbody tr th {\n",
       "        vertical-align: top;\n",
       "    }\n",
       "\n",
       "    .dataframe thead th {\n",
       "        text-align: right;\n",
       "    }\n",
       "</style>\n",
       "<table border=\"1\" class=\"dataframe\">\n",
       "  <thead>\n",
       "    <tr style=\"text-align: right;\">\n",
       "      <th></th>\n",
       "      <th>INCIDENT_NUMBER</th>\n",
       "      <th>OFFENSE_CODE</th>\n",
       "      <th>OFFENSE_CODE_GROUP</th>\n",
       "      <th>OFFENSE_DESCRIPTION</th>\n",
       "      <th>DISTRICT</th>\n",
       "      <th>REPORTING_AREA</th>\n",
       "      <th>SHOOTING</th>\n",
       "      <th>OCCURRED_ON_DATE</th>\n",
       "      <th>YEAR</th>\n",
       "      <th>MONTH</th>\n",
       "      <th>DAY_OF_WEEK</th>\n",
       "      <th>HOUR</th>\n",
       "      <th>UCR_PART</th>\n",
       "      <th>STREET</th>\n",
       "      <th>Lat</th>\n",
       "      <th>Long</th>\n",
       "      <th>Location</th>\n",
       "      <th>NightTime</th>\n",
       "    </tr>\n",
       "  </thead>\n",
       "  <tbody>\n",
       "    <tr>\n",
       "      <th>0</th>\n",
       "      <td>I182080058</td>\n",
       "      <td>2403</td>\n",
       "      <td>Disorderly Conduct</td>\n",
       "      <td>DISTURBING THE PEACE</td>\n",
       "      <td>10</td>\n",
       "      <td>439</td>\n",
       "      <td>0</td>\n",
       "      <td>2018-10-03 20:13:00</td>\n",
       "      <td>2018</td>\n",
       "      <td>10</td>\n",
       "      <td>6</td>\n",
       "      <td>20</td>\n",
       "      <td>Part Two</td>\n",
       "      <td>240</td>\n",
       "      <td>42.262608</td>\n",
       "      <td>-71.121186</td>\n",
       "      <td>(42.26260773, -71.12118637)</td>\n",
       "      <td>1</td>\n",
       "    </tr>\n",
       "    <tr>\n",
       "      <th>1</th>\n",
       "      <td>I182080053</td>\n",
       "      <td>3201</td>\n",
       "      <td>Property Lost</td>\n",
       "      <td>PROPERTY - LOST</td>\n",
       "      <td>7</td>\n",
       "      <td>770</td>\n",
       "      <td>0</td>\n",
       "      <td>2018-08-30 20:00:00</td>\n",
       "      <td>2018</td>\n",
       "      <td>8</td>\n",
       "      <td>4</td>\n",
       "      <td>20</td>\n",
       "      <td>Part Three</td>\n",
       "      <td>143</td>\n",
       "      <td>42.352111</td>\n",
       "      <td>-71.135311</td>\n",
       "      <td>(42.35211146, -71.13531147)</td>\n",
       "      <td>1</td>\n",
       "    </tr>\n",
       "    <tr>\n",
       "      <th>2</th>\n",
       "      <td>I182080052</td>\n",
       "      <td>2647</td>\n",
       "      <td>Other</td>\n",
       "      <td>THREATS TO DO BODILY HARM</td>\n",
       "      <td>3</td>\n",
       "      <td>256</td>\n",
       "      <td>0</td>\n",
       "      <td>2018-10-03 19:20:00</td>\n",
       "      <td>2018</td>\n",
       "      <td>10</td>\n",
       "      <td>6</td>\n",
       "      <td>19</td>\n",
       "      <td>Part Two</td>\n",
       "      <td>1273</td>\n",
       "      <td>42.308126</td>\n",
       "      <td>-71.076930</td>\n",
       "      <td>(42.30812619, -71.07692974)</td>\n",
       "      <td>0</td>\n",
       "    </tr>\n",
       "    <tr>\n",
       "      <th>3</th>\n",
       "      <td>I182080051</td>\n",
       "      <td>413</td>\n",
       "      <td>Aggravated Assault</td>\n",
       "      <td>ASSAULT - AGGRAVATED - BATTERY</td>\n",
       "      <td>0</td>\n",
       "      <td>835</td>\n",
       "      <td>0</td>\n",
       "      <td>2018-10-03 20:00:00</td>\n",
       "      <td>2018</td>\n",
       "      <td>10</td>\n",
       "      <td>6</td>\n",
       "      <td>20</td>\n",
       "      <td>Part One</td>\n",
       "      <td>728</td>\n",
       "      <td>42.359454</td>\n",
       "      <td>-71.059648</td>\n",
       "      <td>(42.35945371, -71.05964817)</td>\n",
       "      <td>1</td>\n",
       "    </tr>\n",
       "    <tr>\n",
       "      <th>4</th>\n",
       "      <td>I182080050</td>\n",
       "      <td>3122</td>\n",
       "      <td>Aircraft</td>\n",
       "      <td>AIRCRAFT INCIDENTS</td>\n",
       "      <td>2</td>\n",
       "      <td>290</td>\n",
       "      <td>0</td>\n",
       "      <td>2018-10-03 20:49:00</td>\n",
       "      <td>2018</td>\n",
       "      <td>10</td>\n",
       "      <td>6</td>\n",
       "      <td>20</td>\n",
       "      <td>Part Three</td>\n",
       "      <td>3408</td>\n",
       "      <td>42.375258</td>\n",
       "      <td>-71.024663</td>\n",
       "      <td>(42.37525782, -71.02466343)</td>\n",
       "      <td>1</td>\n",
       "    </tr>\n",
       "  </tbody>\n",
       "</table>\n",
       "</div>"
      ],
      "text/plain": [
       "  INCIDENT_NUMBER  OFFENSE_CODE  OFFENSE_CODE_GROUP  \\\n",
       "0      I182080058          2403  Disorderly Conduct   \n",
       "1      I182080053          3201       Property Lost   \n",
       "2      I182080052          2647               Other   \n",
       "3      I182080051           413  Aggravated Assault   \n",
       "4      I182080050          3122            Aircraft   \n",
       "\n",
       "              OFFENSE_DESCRIPTION  DISTRICT  REPORTING_AREA  SHOOTING  \\\n",
       "0            DISTURBING THE PEACE        10             439         0   \n",
       "1                 PROPERTY - LOST         7             770         0   \n",
       "2       THREATS TO DO BODILY HARM         3             256         0   \n",
       "3  ASSAULT - AGGRAVATED - BATTERY         0             835         0   \n",
       "4              AIRCRAFT INCIDENTS         2             290         0   \n",
       "\n",
       "      OCCURRED_ON_DATE  YEAR  MONTH  DAY_OF_WEEK  HOUR    UCR_PART  STREET  \\\n",
       "0  2018-10-03 20:13:00  2018     10            6    20    Part Two     240   \n",
       "1  2018-08-30 20:00:00  2018      8            4    20  Part Three     143   \n",
       "2  2018-10-03 19:20:00  2018     10            6    19    Part Two    1273   \n",
       "3  2018-10-03 20:00:00  2018     10            6    20    Part One     728   \n",
       "4  2018-10-03 20:49:00  2018     10            6    20  Part Three    3408   \n",
       "\n",
       "         Lat       Long                     Location  NightTime  \n",
       "0  42.262608 -71.121186  (42.26260773, -71.12118637)          1  \n",
       "1  42.352111 -71.135311  (42.35211146, -71.13531147)          1  \n",
       "2  42.308126 -71.076930  (42.30812619, -71.07692974)          0  \n",
       "3  42.359454 -71.059648  (42.35945371, -71.05964817)          1  \n",
       "4  42.375258 -71.024663  (42.37525782, -71.02466343)          1  "
      ]
     },
     "execution_count": 253,
     "metadata": {},
     "output_type": "execute_result"
    }
   ],
   "source": [
    "datanew['NightTime'].loc[(datanew['HOUR'] >= 20)] = 1\n",
    "datanew['NightTime'].loc[(datanew['HOUR'] <= 5)] = 1\n",
    "datanew.head()"
   ]
  },
  {
   "cell_type": "code",
   "execution_count": 254,
   "metadata": {
    "scrolled": true
   },
   "outputs": [
    {
     "data": {
      "image/png": "[encoded data removed]",
      "text/plain": [
       "<Figure size 360x360 with 1 Axes>"
      ]
     },
     "metadata": {
      "needs_background": "light"
     },
     "output_type": "display_data"
    }
   ],
   "source": [
    "plt.figure(figsize=(5,5))\n",
    "datanew['NightTime'].value_counts().plot.bar()\n",
    "plt.show()"
   ]
  },
  {
   "cell_type": "code",
   "execution_count": 255,
   "metadata": {},
   "outputs": [
    {
     "data": {
      "text/plain": [
       "Motor Vehicle Accident Response    31874\n",
       "Larceny                            25900\n",
       "Medical Assistance                 23158\n",
       "Investigate Person                 18471\n",
       "Other                              17615\n",
       "Simple Assault                     15356\n",
       "Vandalism                          15292\n",
       "Drug Violation                     15081\n",
       "Verbal Disputes                    13338\n",
       "Towed                              11120\n",
       "Name: OFFENSE_CODE_GROUP, dtype: int64"
      ]
     },
     "execution_count": 255,
     "metadata": {},
     "output_type": "execute_result"
    }
   ],
   "source": [
    "datanew['OFFENSE_CODE_GROUP'].value_counts().head(10)\n",
    "\n",
    "#Analysing The Top Ten Offense Groups"
   ]
  },
  {
   "cell_type": "code",
   "execution_count": 274,
   "metadata": {},
   "outputs": [],
   "source": [
    "OFFENSE_CODE_GROUP_SELECTED = ('Motor Vehicle Accident Response','Larceny','Medical Assistance','Investigate Person','Other', \n",
    "            'Drug Violation'\n",
    "                               , 'Simple Assault', 'Vandalism', 'Verbal Disputes', 'Towed'\n",
    "                              )"
   ]
  },
  {
   "cell_type": "code",
   "execution_count": 275,
   "metadata": {},
   "outputs": [
    {
     "data": {
      "text/html": [
       "<div>\n",
       "<style scoped>\n",
       "    .dataframe tbody tr th:only-of-type {\n",
       "        vertical-align: middle;\n",
       "    }\n",
       "\n",
       "    .dataframe tbody tr th {\n",
       "        vertical-align: top;\n",
       "    }\n",
       "\n",
       "    .dataframe thead th {\n",
       "        text-align: right;\n",
       "    }\n",
       "</style>\n",
       "<table border=\"1\" class=\"dataframe\">\n",
       "  <thead>\n",
       "    <tr style=\"text-align: right;\">\n",
       "      <th></th>\n",
       "      <th>INCIDENT_NUMBER</th>\n",
       "      <th>OFFENSE_CODE</th>\n",
       "      <th>OFFENSE_CODE_GROUP</th>\n",
       "      <th>OFFENSE_DESCRIPTION</th>\n",
       "      <th>DISTRICT</th>\n",
       "      <th>REPORTING_AREA</th>\n",
       "      <th>SHOOTING</th>\n",
       "      <th>OCCURRED_ON_DATE</th>\n",
       "      <th>YEAR</th>\n",
       "      <th>MONTH</th>\n",
       "      <th>DAY_OF_WEEK</th>\n",
       "      <th>HOUR</th>\n",
       "      <th>UCR_PART</th>\n",
       "      <th>STREET</th>\n",
       "      <th>Lat</th>\n",
       "      <th>Long</th>\n",
       "      <th>Location</th>\n",
       "      <th>NightTime</th>\n",
       "    </tr>\n",
       "  </thead>\n",
       "  <tbody>\n",
       "    <tr>\n",
       "      <th>6</th>\n",
       "      <td>I182080048</td>\n",
       "      <td>3803</td>\n",
       "      <td>Motor Vehicle Accident Response</td>\n",
       "      <td>M/V ACCIDENT - PERSONAL INJURY</td>\n",
       "      <td>4</td>\n",
       "      <td>0</td>\n",
       "      <td>0</td>\n",
       "      <td>2018-10-03 20:16:00</td>\n",
       "      <td>2018</td>\n",
       "      <td>10</td>\n",
       "      <td>6</td>\n",
       "      <td>20</td>\n",
       "      <td>Part Three</td>\n",
       "      <td>3166</td>\n",
       "      <td>42.320734</td>\n",
       "      <td>-71.056764</td>\n",
       "      <td>(42.32073413, -71.05676415)</td>\n",
       "      <td>1</td>\n",
       "    </tr>\n",
       "    <tr>\n",
       "      <th>10</th>\n",
       "      <td>I182080043</td>\n",
       "      <td>3803</td>\n",
       "      <td>Motor Vehicle Accident Response</td>\n",
       "      <td>M/V ACCIDENT - PERSONAL INJURY</td>\n",
       "      <td>10</td>\n",
       "      <td>691</td>\n",
       "      <td>0</td>\n",
       "      <td>2018-10-03 19:33:00</td>\n",
       "      <td>2018</td>\n",
       "      <td>10</td>\n",
       "      <td>6</td>\n",
       "      <td>19</td>\n",
       "      <td>Part Three</td>\n",
       "      <td>594</td>\n",
       "      <td>42.344323</td>\n",
       "      <td>-71.157784</td>\n",
       "      <td>(42.34432328, -71.15778368)</td>\n",
       "      <td>0</td>\n",
       "    </tr>\n",
       "    <tr>\n",
       "      <th>15</th>\n",
       "      <td>I182080038</td>\n",
       "      <td>3831</td>\n",
       "      <td>Motor Vehicle Accident Response</td>\n",
       "      <td>M/V - LEAVING SCENE - PROPERTY DAMAGE</td>\n",
       "      <td>4</td>\n",
       "      <td>0</td>\n",
       "      <td>0</td>\n",
       "      <td>2018-10-03 19:30:00</td>\n",
       "      <td>2018</td>\n",
       "      <td>10</td>\n",
       "      <td>6</td>\n",
       "      <td>19</td>\n",
       "      <td>Part Three</td>\n",
       "      <td>3166</td>\n",
       "      <td>42.315961</td>\n",
       "      <td>-71.090426</td>\n",
       "      <td>(42.31596119, -71.09042564)</td>\n",
       "      <td>0</td>\n",
       "    </tr>\n",
       "    <tr>\n",
       "      <th>20</th>\n",
       "      <td>I182080030</td>\n",
       "      <td>3831</td>\n",
       "      <td>Motor Vehicle Accident Response</td>\n",
       "      <td>M/V - LEAVING SCENE - PROPERTY DAMAGE</td>\n",
       "      <td>9</td>\n",
       "      <td>58</td>\n",
       "      <td>0</td>\n",
       "      <td>2018-10-02 20:00:00</td>\n",
       "      <td>2018</td>\n",
       "      <td>10</td>\n",
       "      <td>5</td>\n",
       "      <td>20</td>\n",
       "      <td>Part Three</td>\n",
       "      <td>3</td>\n",
       "      <td>42.330015</td>\n",
       "      <td>-71.038513</td>\n",
       "      <td>(42.33001489, -71.03851306)</td>\n",
       "      <td>1</td>\n",
       "    </tr>\n",
       "    <tr>\n",
       "      <th>68</th>\n",
       "      <td>I182079979</td>\n",
       "      <td>3831</td>\n",
       "      <td>Motor Vehicle Accident Response</td>\n",
       "      <td>M/V - LEAVING SCENE - PROPERTY DAMAGE</td>\n",
       "      <td>8</td>\n",
       "      <td>83</td>\n",
       "      <td>0</td>\n",
       "      <td>2018-10-03 15:13:00</td>\n",
       "      <td>2018</td>\n",
       "      <td>10</td>\n",
       "      <td>6</td>\n",
       "      <td>15</td>\n",
       "      <td>Part Three</td>\n",
       "      <td>265</td>\n",
       "      <td>42.310910</td>\n",
       "      <td>-71.057674</td>\n",
       "      <td>(42.31091044, -71.05767414)</td>\n",
       "      <td>0</td>\n",
       "    </tr>\n",
       "  </tbody>\n",
       "</table>\n",
       "</div>"
      ],
      "text/plain": [
       "   INCIDENT_NUMBER  OFFENSE_CODE               OFFENSE_CODE_GROUP  \\\n",
       "6       I182080048          3803  Motor Vehicle Accident Response   \n",
       "10      I182080043          3803  Motor Vehicle Accident Response   \n",
       "15      I182080038          3831  Motor Vehicle Accident Response   \n",
       "20      I182080030          3831  Motor Vehicle Accident Response   \n",
       "68      I182079979          3831  Motor Vehicle Accident Response   \n",
       "\n",
       "                      OFFENSE_DESCRIPTION  DISTRICT  REPORTING_AREA  SHOOTING  \\\n",
       "6          M/V ACCIDENT - PERSONAL INJURY         4               0         0   \n",
       "10         M/V ACCIDENT - PERSONAL INJURY        10             691         0   \n",
       "15  M/V - LEAVING SCENE - PROPERTY DAMAGE         4               0         0   \n",
       "20  M/V - LEAVING SCENE - PROPERTY DAMAGE         9              58         0   \n",
       "68  M/V - LEAVING SCENE - PROPERTY DAMAGE         8              83         0   \n",
       "\n",
       "       OCCURRED_ON_DATE  YEAR  MONTH  DAY_OF_WEEK  HOUR    UCR_PART  STREET  \\\n",
       "6   2018-10-03 20:16:00  2018     10            6    20  Part Three    3166   \n",
       "10  2018-10-03 19:33:00  2018     10            6    19  Part Three     594   \n",
       "15  2018-10-03 19:30:00  2018     10            6    19  Part Three    3166   \n",
       "20  2018-10-02 20:00:00  2018     10            5    20  Part Three       3   \n",
       "68  2018-10-03 15:13:00  2018     10            6    15  Part Three     265   \n",
       "\n",
       "          Lat       Long                     Location  NightTime  \n",
       "6   42.320734 -71.056764  (42.32073413, -71.05676415)          1  \n",
       "10  42.344323 -71.157784  (42.34432328, -71.15778368)          0  \n",
       "15  42.315961 -71.090426  (42.31596119, -71.09042564)          0  \n",
       "20  42.330015 -71.038513  (42.33001489, -71.03851306)          1  \n",
       "68  42.310910 -71.057674  (42.31091044, -71.05767414)          0  "
      ]
     },
     "execution_count": 275,
     "metadata": {},
     "output_type": "execute_result"
    }
   ],
   "source": [
    "processedData = pd.DataFrame()\n",
    "k = 0\n",
    "while k<len(OFFENSE_CODE_GROUP_SELECTED):\n",
    "    processedData = processedData.append(datanew.loc[datanew['OFFENSE_CODE_GROUP']==OFFENSE_CODE_GROUP_SELECTED[k]])\n",
    "    k = k+1\n",
    "processedData.head()"
   ]
  },
  {
   "cell_type": "code",
   "execution_count": 276,
   "metadata": {},
   "outputs": [
    {
     "data": {
      "text/html": [
       "<div>\n",
       "<style scoped>\n",
       "    .dataframe tbody tr th:only-of-type {\n",
       "        vertical-align: middle;\n",
       "    }\n",
       "\n",
       "    .dataframe tbody tr th {\n",
       "        vertical-align: top;\n",
       "    }\n",
       "\n",
       "    .dataframe thead th {\n",
       "        text-align: right;\n",
       "    }\n",
       "</style>\n",
       "<table border=\"1\" class=\"dataframe\">\n",
       "  <thead>\n",
       "    <tr style=\"text-align: right;\">\n",
       "      <th></th>\n",
       "      <th>INCIDENT_NUMBER</th>\n",
       "      <th>OFFENSE_CODE</th>\n",
       "      <th>OFFENSE_CODE_GROUP</th>\n",
       "      <th>OFFENSE_DESCRIPTION</th>\n",
       "      <th>DISTRICT</th>\n",
       "      <th>REPORTING_AREA</th>\n",
       "      <th>SHOOTING</th>\n",
       "      <th>OCCURRED_ON_DATE</th>\n",
       "      <th>YEAR</th>\n",
       "      <th>MONTH</th>\n",
       "      <th>DAY_OF_WEEK</th>\n",
       "      <th>HOUR</th>\n",
       "      <th>UCR_PART</th>\n",
       "      <th>STREET</th>\n",
       "      <th>Lat</th>\n",
       "      <th>Long</th>\n",
       "      <th>Location</th>\n",
       "      <th>NightTime</th>\n",
       "    </tr>\n",
       "  </thead>\n",
       "  <tbody>\n",
       "    <tr>\n",
       "      <th>6</th>\n",
       "      <td>I182080048</td>\n",
       "      <td>3803</td>\n",
       "      <td>Motor Vehicle Accident Response</td>\n",
       "      <td>M/V ACCIDENT - PERSONAL INJURY</td>\n",
       "      <td>7</td>\n",
       "      <td>0</td>\n",
       "      <td>0</td>\n",
       "      <td>2018-10-03 20:16:00</td>\n",
       "      <td>2018</td>\n",
       "      <td>10</td>\n",
       "      <td>6</td>\n",
       "      <td>20</td>\n",
       "      <td>Part Three</td>\n",
       "      <td>2409</td>\n",
       "      <td>42.320734</td>\n",
       "      <td>-71.056764</td>\n",
       "      <td>(42.32073413, -71.05676415)</td>\n",
       "      <td>1</td>\n",
       "    </tr>\n",
       "    <tr>\n",
       "      <th>10</th>\n",
       "      <td>I182080043</td>\n",
       "      <td>3803</td>\n",
       "      <td>Motor Vehicle Accident Response</td>\n",
       "      <td>M/V ACCIDENT - PERSONAL INJURY</td>\n",
       "      <td>2</td>\n",
       "      <td>658</td>\n",
       "      <td>0</td>\n",
       "      <td>2018-10-03 19:33:00</td>\n",
       "      <td>2018</td>\n",
       "      <td>10</td>\n",
       "      <td>6</td>\n",
       "      <td>19</td>\n",
       "      <td>Part Three</td>\n",
       "      <td>3178</td>\n",
       "      <td>42.344323</td>\n",
       "      <td>-71.157784</td>\n",
       "      <td>(42.34432328, -71.15778368)</td>\n",
       "      <td>0</td>\n",
       "    </tr>\n",
       "    <tr>\n",
       "      <th>15</th>\n",
       "      <td>I182080038</td>\n",
       "      <td>3831</td>\n",
       "      <td>Motor Vehicle Accident Response</td>\n",
       "      <td>M/V - LEAVING SCENE - PROPERTY DAMAGE</td>\n",
       "      <td>7</td>\n",
       "      <td>0</td>\n",
       "      <td>0</td>\n",
       "      <td>2018-10-03 19:30:00</td>\n",
       "      <td>2018</td>\n",
       "      <td>10</td>\n",
       "      <td>6</td>\n",
       "      <td>19</td>\n",
       "      <td>Part Three</td>\n",
       "      <td>2409</td>\n",
       "      <td>42.315961</td>\n",
       "      <td>-71.090426</td>\n",
       "      <td>(42.31596119, -71.09042564)</td>\n",
       "      <td>0</td>\n",
       "    </tr>\n",
       "    <tr>\n",
       "      <th>20</th>\n",
       "      <td>I182080030</td>\n",
       "      <td>3831</td>\n",
       "      <td>Motor Vehicle Accident Response</td>\n",
       "      <td>M/V - LEAVING SCENE - PROPERTY DAMAGE</td>\n",
       "      <td>12</td>\n",
       "      <td>534</td>\n",
       "      <td>0</td>\n",
       "      <td>2018-10-02 20:00:00</td>\n",
       "      <td>2018</td>\n",
       "      <td>10</td>\n",
       "      <td>5</td>\n",
       "      <td>20</td>\n",
       "      <td>Part Three</td>\n",
       "      <td>2223</td>\n",
       "      <td>42.330015</td>\n",
       "      <td>-71.038513</td>\n",
       "      <td>(42.33001489, -71.03851306)</td>\n",
       "      <td>1</td>\n",
       "    </tr>\n",
       "    <tr>\n",
       "      <th>68</th>\n",
       "      <td>I182079979</td>\n",
       "      <td>3831</td>\n",
       "      <td>Motor Vehicle Accident Response</td>\n",
       "      <td>M/V - LEAVING SCENE - PROPERTY DAMAGE</td>\n",
       "      <td>11</td>\n",
       "      <td>812</td>\n",
       "      <td>0</td>\n",
       "      <td>2018-10-03 15:13:00</td>\n",
       "      <td>2018</td>\n",
       "      <td>10</td>\n",
       "      <td>6</td>\n",
       "      <td>15</td>\n",
       "      <td>Part Three</td>\n",
       "      <td>1835</td>\n",
       "      <td>42.310910</td>\n",
       "      <td>-71.057674</td>\n",
       "      <td>(42.31091044, -71.05767414)</td>\n",
       "      <td>0</td>\n",
       "    </tr>\n",
       "  </tbody>\n",
       "</table>\n",
       "</div>"
      ],
      "text/plain": [
       "   INCIDENT_NUMBER  OFFENSE_CODE               OFFENSE_CODE_GROUP  \\\n",
       "6       I182080048          3803  Motor Vehicle Accident Response   \n",
       "10      I182080043          3803  Motor Vehicle Accident Response   \n",
       "15      I182080038          3831  Motor Vehicle Accident Response   \n",
       "20      I182080030          3831  Motor Vehicle Accident Response   \n",
       "68      I182079979          3831  Motor Vehicle Accident Response   \n",
       "\n",
       "                      OFFENSE_DESCRIPTION  DISTRICT  REPORTING_AREA  SHOOTING  \\\n",
       "6          M/V ACCIDENT - PERSONAL INJURY         7               0         0   \n",
       "10         M/V ACCIDENT - PERSONAL INJURY         2             658         0   \n",
       "15  M/V - LEAVING SCENE - PROPERTY DAMAGE         7               0         0   \n",
       "20  M/V - LEAVING SCENE - PROPERTY DAMAGE        12             534         0   \n",
       "68  M/V - LEAVING SCENE - PROPERTY DAMAGE        11             812         0   \n",
       "\n",
       "       OCCURRED_ON_DATE  YEAR  MONTH  DAY_OF_WEEK  HOUR    UCR_PART  STREET  \\\n",
       "6   2018-10-03 20:16:00  2018     10            6    20  Part Three    2409   \n",
       "10  2018-10-03 19:33:00  2018     10            6    19  Part Three    3178   \n",
       "15  2018-10-03 19:30:00  2018     10            6    19  Part Three    2409   \n",
       "20  2018-10-02 20:00:00  2018     10            5    20  Part Three    2223   \n",
       "68  2018-10-03 15:13:00  2018     10            6    15  Part Three    1835   \n",
       "\n",
       "          Lat       Long                     Location  NightTime  \n",
       "6   42.320734 -71.056764  (42.32073413, -71.05676415)          1  \n",
       "10  42.344323 -71.157784  (42.34432328, -71.15778368)          0  \n",
       "15  42.315961 -71.090426  (42.31596119, -71.09042564)          0  \n",
       "20  42.330015 -71.038513  (42.33001489, -71.03851306)          1  \n",
       "68  42.310910 -71.057674  (42.31091044, -71.05767414)          0  "
      ]
     },
     "execution_count": 276,
     "metadata": {},
     "output_type": "execute_result"
    }
   ],
   "source": [
    "transform_labels=processedData.iloc[:,:]\n",
    "transform_labels.loc[:,'STREET']=LabelEncoder().fit_transform(transform_labels.loc[:,'STREET'].astype('str'))\n",
    "transform_labels.loc[:,'DISTRICT']=LabelEncoder().fit_transform(transform_labels.loc[:,'DISTRICT'].astype('str'))\n",
    "transform_labels.loc[:,'REPORTING_AREA']=LabelEncoder().fit_transform(transform_labels.loc[:,'REPORTING_AREA'].astype('str'))\n",
    "transform_labels.loc[:,'DAY_OF_WEEK']=LabelEncoder().fit_transform(transform_labels.loc[:,'DAY_OF_WEEK'])\n",
    "#transform_labels.loc[:,'OFFENSE_CODE_GROUP']=LabelEncoder().fit_transform(transform_labels.loc[:,'DISTRICT'].astype('str'))\n",
    "\n",
    "transform_labels.head()"
   ]
  },
  {
   "cell_type": "markdown",
   "metadata": {},
   "source": [
    "# DecisionTreeClassifier "
   ]
  },
  {
   "cell_type": "code",
   "execution_count": 277,
   "metadata": {},
   "outputs": [
    {
     "name": "stdout",
     "output_type": "stream",
     "text": [
      "125494\n",
      "6605\n"
     ]
    }
   ],
   "source": [
    "from sklearn.model_selection import train_test_split\n",
    "datanew= transform_labels.dropna()\n",
    "train_data, test_data= train_test_split(datanew, random_state=0, test_size=0.05)\n",
    "\n",
    "print(len(train_data))\n",
    "print(len(test_data))\n"
   ]
  },
  {
   "cell_type": "code",
   "execution_count": 278,
   "metadata": {
    "scrolled": true
   },
   "outputs": [
    {
     "data": {
      "text/html": [
       "<div>\n",
       "<style scoped>\n",
       "    .dataframe tbody tr th:only-of-type {\n",
       "        vertical-align: middle;\n",
       "    }\n",
       "\n",
       "    .dataframe tbody tr th {\n",
       "        vertical-align: top;\n",
       "    }\n",
       "\n",
       "    .dataframe thead th {\n",
       "        text-align: right;\n",
       "    }\n",
       "</style>\n",
       "<table border=\"1\" class=\"dataframe\">\n",
       "  <thead>\n",
       "    <tr style=\"text-align: right;\">\n",
       "      <th></th>\n",
       "      <th>INCIDENT_NUMBER</th>\n",
       "      <th>OFFENSE_CODE</th>\n",
       "      <th>OFFENSE_CODE_GROUP</th>\n",
       "      <th>OFFENSE_DESCRIPTION</th>\n",
       "      <th>DISTRICT</th>\n",
       "      <th>REPORTING_AREA</th>\n",
       "      <th>SHOOTING</th>\n",
       "      <th>OCCURRED_ON_DATE</th>\n",
       "      <th>YEAR</th>\n",
       "      <th>MONTH</th>\n",
       "      <th>DAY_OF_WEEK</th>\n",
       "      <th>HOUR</th>\n",
       "      <th>UCR_PART</th>\n",
       "      <th>STREET</th>\n",
       "      <th>Lat</th>\n",
       "      <th>Long</th>\n",
       "      <th>Location</th>\n",
       "      <th>NightTime</th>\n",
       "    </tr>\n",
       "  </thead>\n",
       "  <tbody>\n",
       "    <tr>\n",
       "      <th>61343</th>\n",
       "      <td>I182014509</td>\n",
       "      <td>1842</td>\n",
       "      <td>Drug Violation</td>\n",
       "      <td>DRUGS - POSS CLASS A - HEROIN, ETC.</td>\n",
       "      <td>2</td>\n",
       "      <td>713</td>\n",
       "      <td>0</td>\n",
       "      <td>2018-02-24 10:36:00</td>\n",
       "      <td>2018</td>\n",
       "      <td>2</td>\n",
       "      <td>2</td>\n",
       "      <td>10</td>\n",
       "      <td>Part Two</td>\n",
       "      <td>668</td>\n",
       "      <td>42.343624</td>\n",
       "      <td>-71.142684</td>\n",
       "      <td>(42.34362416, -71.14268401)</td>\n",
       "      <td>0</td>\n",
       "    </tr>\n",
       "    <tr>\n",
       "      <th>219402</th>\n",
       "      <td>I162059589</td>\n",
       "      <td>3115</td>\n",
       "      <td>Investigate Person</td>\n",
       "      <td>INVESTIGATE PERSON</td>\n",
       "      <td>0</td>\n",
       "      <td>126</td>\n",
       "      <td>0</td>\n",
       "      <td>2016-07-25 23:00:00</td>\n",
       "      <td>2016</td>\n",
       "      <td>7</td>\n",
       "      <td>1</td>\n",
       "      <td>23</td>\n",
       "      <td>Part Three</td>\n",
       "      <td>1681</td>\n",
       "      <td>42.358911</td>\n",
       "      <td>-71.157651</td>\n",
       "      <td>(42.35891094, -71.15765076)</td>\n",
       "      <td>1</td>\n",
       "    </tr>\n",
       "    <tr>\n",
       "      <th>71050</th>\n",
       "      <td>I182004200</td>\n",
       "      <td>1810</td>\n",
       "      <td>Drug Violation</td>\n",
       "      <td>DRUGS - SALE / MANUFACTURING</td>\n",
       "      <td>0</td>\n",
       "      <td>697</td>\n",
       "      <td>0</td>\n",
       "      <td>2018-01-16 16:00:00</td>\n",
       "      <td>2018</td>\n",
       "      <td>1</td>\n",
       "      <td>5</td>\n",
       "      <td>16</td>\n",
       "      <td>Part Two</td>\n",
       "      <td>561</td>\n",
       "      <td>42.361596</td>\n",
       "      <td>-71.056925</td>\n",
       "      <td>(42.36159585, -71.05692518)</td>\n",
       "      <td>0</td>\n",
       "    </tr>\n",
       "    <tr>\n",
       "      <th>128668</th>\n",
       "      <td>I172050512</td>\n",
       "      <td>3831</td>\n",
       "      <td>Motor Vehicle Accident Response</td>\n",
       "      <td>M/V - LEAVING SCENE - PROPERTY DAMAGE</td>\n",
       "      <td>11</td>\n",
       "      <td>142</td>\n",
       "      <td>0</td>\n",
       "      <td>2017-06-23 16:30:00</td>\n",
       "      <td>2017</td>\n",
       "      <td>6</td>\n",
       "      <td>0</td>\n",
       "      <td>16</td>\n",
       "      <td>Part Three</td>\n",
       "      <td>2021</td>\n",
       "      <td>42.297459</td>\n",
       "      <td>-71.051028</td>\n",
       "      <td>(42.29745944, -71.05102780)</td>\n",
       "      <td>0</td>\n",
       "    </tr>\n",
       "    <tr>\n",
       "      <th>181160</th>\n",
       "      <td>I162100719</td>\n",
       "      <td>3006</td>\n",
       "      <td>Medical Assistance</td>\n",
       "      <td>SICK/INJURED/MEDICAL - PERSON</td>\n",
       "      <td>10</td>\n",
       "      <td>233</td>\n",
       "      <td>0</td>\n",
       "      <td>2016-12-10 12:55:00</td>\n",
       "      <td>2016</td>\n",
       "      <td>12</td>\n",
       "      <td>2</td>\n",
       "      <td>12</td>\n",
       "      <td>Part Three</td>\n",
       "      <td>1778</td>\n",
       "      <td>42.288812</td>\n",
       "      <td>-71.085132</td>\n",
       "      <td>(42.28881222, -71.08513152)</td>\n",
       "      <td>0</td>\n",
       "    </tr>\n",
       "  </tbody>\n",
       "</table>\n",
       "</div>"
      ],
      "text/plain": [
       "       INCIDENT_NUMBER  OFFENSE_CODE               OFFENSE_CODE_GROUP  \\\n",
       "61343       I182014509          1842                   Drug Violation   \n",
       "219402      I162059589          3115               Investigate Person   \n",
       "71050       I182004200          1810                   Drug Violation   \n",
       "128668      I172050512          3831  Motor Vehicle Accident Response   \n",
       "181160      I162100719          3006               Medical Assistance   \n",
       "\n",
       "                          OFFENSE_DESCRIPTION  DISTRICT  REPORTING_AREA  \\\n",
       "61343    DRUGS - POSS CLASS A - HEROIN, ETC.          2             713   \n",
       "219402                     INVESTIGATE PERSON         0             126   \n",
       "71050            DRUGS - SALE / MANUFACTURING         0             697   \n",
       "128668  M/V - LEAVING SCENE - PROPERTY DAMAGE        11             142   \n",
       "181160          SICK/INJURED/MEDICAL - PERSON        10             233   \n",
       "\n",
       "        SHOOTING     OCCURRED_ON_DATE  YEAR  MONTH  DAY_OF_WEEK  HOUR  \\\n",
       "61343          0  2018-02-24 10:36:00  2018      2            2    10   \n",
       "219402         0  2016-07-25 23:00:00  2016      7            1    23   \n",
       "71050          0  2018-01-16 16:00:00  2018      1            5    16   \n",
       "128668         0  2017-06-23 16:30:00  2017      6            0    16   \n",
       "181160         0  2016-12-10 12:55:00  2016     12            2    12   \n",
       "\n",
       "          UCR_PART  STREET        Lat       Long                     Location  \\\n",
       "61343     Part Two     668  42.343624 -71.142684  (42.34362416, -71.14268401)   \n",
       "219402  Part Three    1681  42.358911 -71.157651  (42.35891094, -71.15765076)   \n",
       "71050     Part Two     561  42.361596 -71.056925  (42.36159585, -71.05692518)   \n",
       "128668  Part Three    2021  42.297459 -71.051028  (42.29745944, -71.05102780)   \n",
       "181160  Part Three    1778  42.288812 -71.085132  (42.28881222, -71.08513152)   \n",
       "\n",
       "        NightTime  \n",
       "61343           0  \n",
       "219402          1  \n",
       "71050           0  \n",
       "128668          0  \n",
       "181160          0  "
      ]
     },
     "execution_count": 278,
     "metadata": {},
     "output_type": "execute_result"
    }
   ],
   "source": [
    "train_data.head()"
   ]
  },
  {
   "cell_type": "code",
   "execution_count": 279,
   "metadata": {},
   "outputs": [],
   "source": [
    "from sklearn import tree\n",
    "\n",
    "features_train = train_data[['DISTRICT','REPORTING_AREA','MONTH','DAY_OF_WEEK','HOUR','Lat','Long']]\n",
    "target_train = train_data[['OFFENSE_CODE_GROUP']]\n",
    "features_test = test_data[['DISTRICT','REPORTING_AREA','MONTH','DAY_OF_WEEK','HOUR','Lat','Long']]\n",
    "target_test = test_data[['OFFENSE_CODE_GROUP']]\n",
    "\n",
    "#Creating Our classifier By Providing Training Data\n",
    "clf = tree.DecisionTreeClassifier()\n",
    "\n",
    "clf = clf.fit(features_train, target_train)"
   ]
  },
  {
   "cell_type": "code",
   "execution_count": 280,
   "metadata": {},
   "outputs": [
    {
     "data": {
      "text/plain": [
       "array(['Larceny', 'Drug Violation', 'Larceny', ..., 'Drug Violation',\n",
       "       'Motor Vehicle Accident Response', 'Other'], dtype=object)"
      ]
     },
     "execution_count": 280,
     "metadata": {},
     "output_type": "execute_result"
    }
   ],
   "source": [
    "#Predicting for the test set using the classifier created above\n",
    "target_pred = clf.predict(features_test)\n",
    "target_pred"
   ]
  },
  {
   "cell_type": "code",
   "execution_count": 281,
   "metadata": {},
   "outputs": [
    {
     "name": "stdout",
     "output_type": "stream",
     "text": [
      "                                 precision    recall  f1-score   support\n",
      "\n",
      "                 Drug Violation       0.50      0.58      0.54       794\n",
      "             Investigate Person       0.20      0.18      0.19       948\n",
      "                        Larceny       0.40      0.40      0.40      1249\n",
      "             Medical Assistance       0.26      0.25      0.26      1153\n",
      "Motor Vehicle Accident Response       0.36      0.36      0.36      1543\n",
      "                          Other       0.20      0.20      0.20       918\n",
      "\n",
      "                      micro avg       0.33      0.33      0.33      6605\n",
      "                      macro avg       0.32      0.33      0.32      6605\n",
      "                   weighted avg       0.32      0.33      0.32      6605\n",
      "\n"
     ]
    }
   ],
   "source": [
    "from sklearn.metrics import classification_report\n",
    "rep = classification_report(target_test, target_pred)\n",
    "print(rep)\n",
    "\n",
    "#Accurate Predictions with more Training Data"
   ]
  },
  {
   "cell_type": "code",
   "execution_count": 282,
   "metadata": {},
   "outputs": [
    {
     "data": {
      "text/plain": [
       "0.3259651778955337"
      ]
     },
     "execution_count": 282,
     "metadata": {},
     "output_type": "execute_result"
    }
   ],
   "source": [
    "#1. The accuracy of your model on the test data\n",
    "\n",
    "from sklearn.metrics import accuracy_score\n",
    "\n",
    "accuracy_score(target_test, target_pred)"
   ]
  },
  {
   "cell_type": "code",
   "execution_count": 283,
   "metadata": {},
   "outputs": [
    {
     "data": {
      "text/plain": [
       "0.3259651778955337"
      ]
     },
     "execution_count": 283,
     "metadata": {},
     "output_type": "execute_result"
    }
   ],
   "source": [
    "# 2. The precision and recall values\n",
    "\n",
    "# Calculate Precision Value\n",
    "\n",
    "from sklearn import metrics\n",
    "\n",
    "metrics.precision_score(target_test, target_pred, average='micro')\n"
   ]
  },
  {
   "cell_type": "code",
   "execution_count": 284,
   "metadata": {},
   "outputs": [
    {
     "data": {
      "text/plain": [
       "0.3259651778955337"
      ]
     },
     "execution_count": 284,
     "metadata": {},
     "output_type": "execute_result"
    }
   ],
   "source": [
    "# Calculate Recall Value\n",
    "# recall = TP/(TP+FN)\n",
    "metrics.recall_score(target_test, target_pred, average='micro')\n"
   ]
  },
  {
   "cell_type": "code",
   "execution_count": 285,
   "metadata": {},
   "outputs": [
    {
     "data": {
      "text/plain": [
       "(0.3259651778955337, 0.3259651778955337, 0.3259651778955337, None)"
      ]
     },
     "execution_count": 285,
     "metadata": {},
     "output_type": "execute_result"
    }
   ],
   "source": [
    "#Calculate precision, recall and fscore\n",
    "\n",
    "from sklearn.metrics import precision_recall_fscore_support\n",
    "precision_recall_fscore_support(target_test, target_pred, average='micro')"
   ]
  },
  {
   "cell_type": "markdown",
   "metadata": {},
   "source": [
    "# ExtraTreeClassifier"
   ]
  },
  {
   "cell_type": "code",
   "execution_count": 301,
   "metadata": {},
   "outputs": [],
   "source": [
    "#Creating Our classifier By Providing Training Data\n",
    "clf2 = tree.ExtraTreeClassifier()\n",
    "\n",
    "clf2 = clf2.fit(features_train, target_train)"
   ]
  },
  {
   "cell_type": "code",
   "execution_count": 302,
   "metadata": {},
   "outputs": [
    {
     "data": {
      "text/plain": [
       "array(['Larceny', 'Drug Violation', 'Medical Assistance', ...,\n",
       "       'Drug Violation', 'Motor Vehicle Accident Response', 'Other'],\n",
       "      dtype=object)"
      ]
     },
     "execution_count": 302,
     "metadata": {},
     "output_type": "execute_result"
    }
   ],
   "source": [
    "#Predicting for the test set using the classifier created above\n",
    "target_pred = clf2.predict(features_test)\n",
    "target_pred"
   ]
  },
  {
   "cell_type": "code",
   "execution_count": 303,
   "metadata": {},
   "outputs": [
    {
     "name": "stdout",
     "output_type": "stream",
     "text": [
      "                                 precision    recall  f1-score   support\n",
      "\n",
      "                 Drug Violation       0.51      0.56      0.53       794\n",
      "             Investigate Person       0.19      0.17      0.18       948\n",
      "                        Larceny       0.37      0.39      0.38      1249\n",
      "             Medical Assistance       0.25      0.26      0.25      1153\n",
      "Motor Vehicle Accident Response       0.35      0.34      0.35      1543\n",
      "                          Other       0.19      0.18      0.19       918\n",
      "\n",
      "                      micro avg       0.32      0.32      0.32      6605\n",
      "                      macro avg       0.31      0.32      0.31      6605\n",
      "                   weighted avg       0.31      0.32      0.31      6605\n",
      "\n"
     ]
    }
   ],
   "source": [
    "from sklearn.metrics import classification_report\n",
    "rep = classification_report(target_test, target_pred)\n",
    "print(rep)\n",
    "\n",
    "#Accurate Predictions with more Training Data"
   ]
  },
  {
   "cell_type": "code",
   "execution_count": 304,
   "metadata": {},
   "outputs": [
    {
     "data": {
      "text/plain": [
       "0.3152157456472369"
      ]
     },
     "execution_count": 304,
     "metadata": {},
     "output_type": "execute_result"
    }
   ],
   "source": [
    "#1. The accuracy of your model on the test data\n",
    "\n",
    "from sklearn.metrics import accuracy_score\n",
    "\n",
    "accuracy_score(target_test, target_pred)"
   ]
  },
  {
   "cell_type": "code",
   "execution_count": 305,
   "metadata": {},
   "outputs": [
    {
     "data": {
      "text/plain": [
       "0.3152157456472369"
      ]
     },
     "execution_count": 305,
     "metadata": {},
     "output_type": "execute_result"
    }
   ],
   "source": [
    "# 2. The precision and recall values\n",
    "\n",
    "# Calculate Precision Value\n",
    "\n",
    "from sklearn import metrics\n",
    "\n",
    "metrics.precision_score(target_test, target_pred, average='micro')\n"
   ]
  },
  {
   "cell_type": "code",
   "execution_count": 306,
   "metadata": {},
   "outputs": [
    {
     "data": {
      "text/plain": [
       "0.3152157456472369"
      ]
     },
     "execution_count": 306,
     "metadata": {},
     "output_type": "execute_result"
    }
   ],
   "source": [
    "# Calculate Recall Value\n",
    "# recall = TP/(TP+FN)\n",
    "metrics.recall_score(target_test, target_pred, average='micro')\n"
   ]
  },
  {
   "cell_type": "code",
   "execution_count": 307,
   "metadata": {},
   "outputs": [
    {
     "data": {
      "text/plain": [
       "(0.3152157456472369, 0.3152157456472369, 0.3152157456472369, None)"
      ]
     },
     "execution_count": 307,
     "metadata": {},
     "output_type": "execute_result"
    }
   ],
   "source": [
    "#Calculate precision, recall and fscore\n",
    "\n",
    "from sklearn.metrics import precision_recall_fscore_support\n",
    "precision_recall_fscore_support(target_test, target_pred, average='micro')"
   ]
  },
  {
   "cell_type": "markdown",
   "metadata": {},
   "source": [
    "# KNN"
   ]
  },
  {
   "cell_type": "code",
   "execution_count": 308,
   "metadata": {},
   "outputs": [
    {
     "name": "stderr",
     "output_type": "stream",
     "text": [
      "C:\\Users\\akrit\\Anaconda3\\lib\\site-packages\\ipykernel_launcher.py:6: DataConversionWarning: A column-vector y was passed when a 1d array was expected. Please change the shape of y to (n_samples, ), for example using ravel().\n",
      "  \n"
     ]
    }
   ],
   "source": [
    "from sklearn.neighbors import KNeighborsClassifier\n",
    "\n",
    "#Creating Our classifier By Providing Training Data\n",
    "clf3 = KNeighborsClassifier()\n",
    "\n",
    "clf3 = clf3.fit(features_train, target_train)"
   ]
  },
  {
   "cell_type": "code",
   "execution_count": 309,
   "metadata": {},
   "outputs": [
    {
     "data": {
      "text/plain": [
       "array(['Larceny', 'Drug Violation', 'Medical Assistance', ...,\n",
       "       'Drug Violation', 'Motor Vehicle Accident Response', 'Other'],\n",
       "      dtype=object)"
      ]
     },
     "execution_count": 309,
     "metadata": {},
     "output_type": "execute_result"
    }
   ],
   "source": [
    "#Predicting for the test set using the classifier created above\n",
    "target_pred = clf2.predict(features_test)\n",
    "target_pred"
   ]
  },
  {
   "cell_type": "code",
   "execution_count": 310,
   "metadata": {},
   "outputs": [
    {
     "name": "stdout",
     "output_type": "stream",
     "text": [
      "                                 precision    recall  f1-score   support\n",
      "\n",
      "                 Drug Violation       0.51      0.56      0.53       794\n",
      "             Investigate Person       0.19      0.17      0.18       948\n",
      "                        Larceny       0.37      0.39      0.38      1249\n",
      "             Medical Assistance       0.25      0.26      0.25      1153\n",
      "Motor Vehicle Accident Response       0.35      0.34      0.35      1543\n",
      "                          Other       0.19      0.18      0.19       918\n",
      "\n",
      "                      micro avg       0.32      0.32      0.32      6605\n",
      "                      macro avg       0.31      0.32      0.31      6605\n",
      "                   weighted avg       0.31      0.32      0.31      6605\n",
      "\n"
     ]
    }
   ],
   "source": [
    "from sklearn.metrics import classification_report\n",
    "rep = classification_report(target_test, target_pred)\n",
    "print(rep)\n",
    "\n",
    "#Accurate Predictions with more Training Data"
   ]
  },
  {
   "cell_type": "code",
   "execution_count": 311,
   "metadata": {},
   "outputs": [
    {
     "data": {
      "text/plain": [
       "0.3152157456472369"
      ]
     },
     "execution_count": 311,
     "metadata": {},
     "output_type": "execute_result"
    }
   ],
   "source": [
    "#1. The accuracy of your model on the test data\n",
    "\n",
    "from sklearn.metrics import accuracy_score\n",
    "\n",
    "accuracy_score(target_test, target_pred)"
   ]
  },
  {
   "cell_type": "code",
   "execution_count": 312,
   "metadata": {},
   "outputs": [
    {
     "data": {
      "text/plain": [
       "0.3152157456472369"
      ]
     },
     "execution_count": 312,
     "metadata": {},
     "output_type": "execute_result"
    }
   ],
   "source": [
    "# 2. The precision and recall values\n",
    "\n",
    "# Calculate Precision Value\n",
    "\n",
    "from sklearn import metrics\n",
    "\n",
    "metrics.precision_score(target_test, target_pred, average='micro')\n"
   ]
  },
  {
   "cell_type": "code",
   "execution_count": 313,
   "metadata": {},
   "outputs": [
    {
     "data": {
      "text/plain": [
       "0.3152157456472369"
      ]
     },
     "execution_count": 313,
     "metadata": {},
     "output_type": "execute_result"
    }
   ],
   "source": [
    "# Calculate Recall Value\n",
    "# recall = TP/(TP+FN)\n",
    "metrics.recall_score(target_test, target_pred, average='micro')\n"
   ]
  },
  {
   "cell_type": "code",
   "execution_count": 314,
   "metadata": {},
   "outputs": [
    {
     "data": {
      "text/plain": [
       "(0.3152157456472369, 0.3152157456472369, 0.3152157456472369, None)"
      ]
     },
     "execution_count": 314,
     "metadata": {},
     "output_type": "execute_result"
    }
   ],
   "source": [
    "#Calculate precision, recall and fscore\n",
    "\n",
    "from sklearn.metrics import precision_recall_fscore_support\n",
    "precision_recall_fscore_support(target_test, target_pred, average='micro')"
   ]
  },
  {
   "cell_type": "markdown",
   "metadata": {},
   "source": [
    "# Rainforest"
   ]
  },
  {
   "cell_type": "code",
   "execution_count": 315,
   "metadata": {},
   "outputs": [
    {
     "name": "stderr",
     "output_type": "stream",
     "text": [
      "C:\\Users\\akrit\\Anaconda3\\lib\\site-packages\\sklearn\\ensemble\\forest.py:246: FutureWarning: The default value of n_estimators will change from 10 in version 0.20 to 100 in 0.22.\n",
      "  \"10 in version 0.20 to 100 in 0.22.\", FutureWarning)\n",
      "C:\\Users\\akrit\\Anaconda3\\lib\\site-packages\\ipykernel_launcher.py:6: DataConversionWarning: A column-vector y was passed when a 1d array was expected. Please change the shape of y to (n_samples,), for example using ravel().\n",
      "  \n"
     ]
    }
   ],
   "source": [
    "from sklearn.ensemble import RandomForestClassifier\n",
    "\n",
    "#Creating Our classifier By Providing Training Data\n",
    "clf4 = RandomForestClassifier()\n",
    "\n",
    "clf4 = clf4.fit(features_train, target_train)"
   ]
  },
  {
   "cell_type": "code",
   "execution_count": 316,
   "metadata": {},
   "outputs": [
    {
     "data": {
      "text/plain": [
       "array(['Larceny', 'Drug Violation', 'Medical Assistance', ...,\n",
       "       'Drug Violation', 'Motor Vehicle Accident Response', 'Other'],\n",
       "      dtype=object)"
      ]
     },
     "execution_count": 316,
     "metadata": {},
     "output_type": "execute_result"
    }
   ],
   "source": [
    "#Predicting for the test set using the classifier created above\n",
    "target_pred = clf2.predict(features_test)\n",
    "target_pred"
   ]
  },
  {
   "cell_type": "code",
   "execution_count": 317,
   "metadata": {},
   "outputs": [
    {
     "name": "stdout",
     "output_type": "stream",
     "text": [
      "                                 precision    recall  f1-score   support\n",
      "\n",
      "                 Drug Violation       0.51      0.56      0.53       794\n",
      "             Investigate Person       0.19      0.17      0.18       948\n",
      "                        Larceny       0.37      0.39      0.38      1249\n",
      "             Medical Assistance       0.25      0.26      0.25      1153\n",
      "Motor Vehicle Accident Response       0.35      0.34      0.35      1543\n",
      "                          Other       0.19      0.18      0.19       918\n",
      "\n",
      "                      micro avg       0.32      0.32      0.32      6605\n",
      "                      macro avg       0.31      0.32      0.31      6605\n",
      "                   weighted avg       0.31      0.32      0.31      6605\n",
      "\n"
     ]
    }
   ],
   "source": [
    "from sklearn.metrics import classification_report\n",
    "rep = classification_report(target_test, target_pred)\n",
    "print(rep)\n",
    "\n",
    "#Accurate Predictions with more Training Data"
   ]
  },
  {
   "cell_type": "code",
   "execution_count": 318,
   "metadata": {},
   "outputs": [
    {
     "data": {
      "text/plain": [
       "0.3152157456472369"
      ]
     },
     "execution_count": 318,
     "metadata": {},
     "output_type": "execute_result"
    }
   ],
   "source": [
    "#1. The accuracy of your model on the test data\n",
    "\n",
    "from sklearn.metrics import accuracy_score\n",
    "\n",
    "accuracy_score(target_test, target_pred)"
   ]
  },
  {
   "cell_type": "code",
   "execution_count": 319,
   "metadata": {},
   "outputs": [
    {
     "data": {
      "text/plain": [
       "0.3152157456472369"
      ]
     },
     "execution_count": 319,
     "metadata": {},
     "output_type": "execute_result"
    }
   ],
   "source": [
    "# 2. The precision and recall values\n",
    "\n",
    "# Calculate Precision Value\n",
    "\n",
    "from sklearn import metrics\n",
    "\n",
    "metrics.precision_score(target_test, target_pred, average='micro')\n"
   ]
  },
  {
   "cell_type": "code",
   "execution_count": 328,
   "metadata": {},
   "outputs": [
    {
     "data": {
      "text/plain": [
       "0.3152157456472369"
      ]
     },
     "execution_count": 328,
     "metadata": {},
     "output_type": "execute_result"
    }
   ],
   "source": [
    "# Calculate Recall Value\n",
    "# recall = TP/(TP+FN)\n",
    "metrics.recall_score(target_test, target_pred, average='micro')\n"
   ]
  },
  {
   "cell_type": "code",
   "execution_count": 330,
   "metadata": {},
   "outputs": [
    {
     "data": {
      "text/plain": [
       "(0.3152157456472369, 0.3152157456472369, 0.3152157456472369, None)"
      ]
     },
     "execution_count": 330,
     "metadata": {},
     "output_type": "execute_result"
    }
   ],
   "source": [
    "#Calculate precision, recall and fscore\n",
    "\n",
    "from sklearn.metrics import precision_recall_fscore_support\n",
    "precision_recall_fscore_support(target_test, target_pred, average='micro')"
   ]
  },
  {
   "cell_type": "code",
   "execution_count": 334,
   "metadata": {},
   "outputs": [
    {
     "data": {
      "text/plain": [
       "0.3152157456472369"
      ]
     },
     "execution_count": 334,
     "metadata": {},
     "output_type": "execute_result"
    }
   ],
   "source": [
    "from sklearn.metrics import f1_score\n",
    "\n",
    "f1_score(target_test, target_pred, average='micro')\n",
    " "
   ]
  },
  {
   "cell_type": "code",
   "execution_count": null,
   "metadata": {},
   "outputs": [],
   "source": []
  }
 ],
 "metadata": {
  "kernelspec": {
   "display_name": "Python 3",
   "language": "python",
   "name": "python3"
  },
  "language_info": {
   "codemirror_mode": {
    "name": "ipython",
    "version": 3
   },
   "file_extension": ".py",
   "mimetype": "text/x-python",
   "name": "python",
   "nbconvert_exporter": "python",
   "pygments_lexer": "ipython3",
   "version": "3.7.1"
  }
 },
 "nbformat": 4,
 "nbformat_minor": 2
}
