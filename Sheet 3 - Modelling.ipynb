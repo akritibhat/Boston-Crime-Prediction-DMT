{
 "cells": [
  {
   "cell_type": "code",
   "execution_count": 68,
   "metadata": {},
   "outputs": [],
   "source": [
    "#Loading the Data\n",
    "\n",
    "import numpy as np\n",
    "import matplotlib.pyplot as plt\n",
    "import pandas as pd\n",
    "from sklearn.preprocessing import LabelEncoder\n",
    "from sklearn.decomposition import PCA\n",
    "#Reading The CSV\n",
    "data=pd.read_csv('crime.csv',engine='python')"
   ]
  },
  {
   "cell_type": "markdown",
   "metadata": {},
   "source": [
    "Pre Processing The Data to Generate Decision Trees"
   ]
  },
  {
   "cell_type": "code",
   "execution_count": 74,
   "metadata": {},
   "outputs": [
    {
     "data": {
      "text/plain": [
       "INCIDENT_NUMBER            0\n",
       "OFFENSE_CODE               0\n",
       "OFFENSE_CODE_GROUP         0\n",
       "OFFENSE_DESCRIPTION        0\n",
       "DISTRICT                1774\n",
       "REPORTING_AREA             0\n",
       "SHOOTING                1055\n",
       "OCCURRED_ON_DATE           0\n",
       "YEAR                       0\n",
       "MONTH                      0\n",
       "DAY_OF_WEEK                0\n",
       "HOUR                       0\n",
       "UCR_PART                  93\n",
       "STREET                 10977\n",
       "Lat                    20632\n",
       "Long                   20632\n",
       "Location                   0\n",
       "dtype: int64"
      ]
     },
     "execution_count": 74,
     "metadata": {},
     "output_type": "execute_result"
    }
   ],
   "source": [
    "data['SHOOTING']=data['SHOOTING'].fillna(0)\n",
    "data['SHOOTING']=data['SHOOTING'].map({0: 0,'Y':1})\n",
    "\n",
    "data.isnull().sum()"
   ]
  },
  {
   "cell_type": "code",
   "execution_count": 75,
   "metadata": {},
   "outputs": [
    {
     "data": {
      "text/plain": [
       "INCIDENT_NUMBER        0\n",
       "OFFENSE_CODE           0\n",
       "OFFENSE_CODE_GROUP     0\n",
       "OFFENSE_DESCRIPTION    0\n",
       "DISTRICT               0\n",
       "REPORTING_AREA         0\n",
       "SHOOTING               0\n",
       "OCCURRED_ON_DATE       0\n",
       "YEAR                   0\n",
       "MONTH                  0\n",
       "DAY_OF_WEEK            0\n",
       "HOUR                   0\n",
       "UCR_PART               0\n",
       "STREET                 0\n",
       "Lat                    0\n",
       "Long                   0\n",
       "Location               0\n",
       "dtype: int64"
      ]
     },
     "execution_count": 75,
     "metadata": {},
     "output_type": "execute_result"
    }
   ],
   "source": [
    "#Drop All Null Values\n",
    "datanew= data.dropna()\n",
    "datanew.isnull().sum()"
   ]
  },
  {
   "cell_type": "code",
   "execution_count": 76,
   "metadata": {},
   "outputs": [
    {
     "name": "stderr",
     "output_type": "stream",
     "text": [
      "C:\\Users\\akrit\\Anaconda3\\lib\\site-packages\\ipykernel_launcher.py:1: SettingWithCopyWarning: \n",
      "A value is trying to be set on a copy of a slice from a DataFrame.\n",
      "Try using .loc[row_indexer,col_indexer] = value instead\n",
      "\n",
      "See the caveats in the documentation: http://pandas.pydata.org/pandas-docs/stable/indexing.html#indexing-view-versus-copy\n",
      "  \"\"\"Entry point for launching an IPython kernel.\n"
     ]
    }
   ],
   "source": [
    "datanew['NightTime'] = 0\n"
   ]
  },
  {
   "cell_type": "code",
   "execution_count": 77,
   "metadata": {},
   "outputs": [
    {
     "name": "stderr",
     "output_type": "stream",
     "text": [
      "C:\\Users\\akrit\\Anaconda3\\lib\\site-packages\\pandas\\core\\indexing.py:189: SettingWithCopyWarning: \n",
      "A value is trying to be set on a copy of a slice from a DataFrame\n",
      "\n",
      "See the caveats in the documentation: http://pandas.pydata.org/pandas-docs/stable/indexing.html#indexing-view-versus-copy\n",
      "  self._setitem_with_indexer(indexer, value)\n",
      "C:\\Users\\akrit\\Anaconda3\\lib\\site-packages\\ipykernel_launcher.py:1: SettingWithCopyWarning: \n",
      "A value is trying to be set on a copy of a slice from a DataFrame\n",
      "\n",
      "See the caveats in the documentation: http://pandas.pydata.org/pandas-docs/stable/indexing.html#indexing-view-versus-copy\n",
      "  \"\"\"Entry point for launching an IPython kernel.\n",
      "C:\\Users\\akrit\\Anaconda3\\lib\\site-packages\\ipykernel_launcher.py:2: SettingWithCopyWarning: \n",
      "A value is trying to be set on a copy of a slice from a DataFrame\n",
      "\n",
      "See the caveats in the documentation: http://pandas.pydata.org/pandas-docs/stable/indexing.html#indexing-view-versus-copy\n",
      "  \n"
     ]
    },
    {
     "data": {
      "text/html": [
       "<div>\n",
       "<style scoped>\n",
       "    .dataframe tbody tr th:only-of-type {\n",
       "        vertical-align: middle;\n",
       "    }\n",
       "\n",
       "    .dataframe tbody tr th {\n",
       "        vertical-align: top;\n",
       "    }\n",
       "\n",
       "    .dataframe thead th {\n",
       "        text-align: right;\n",
       "    }\n",
       "</style>\n",
       "<table border=\"1\" class=\"dataframe\">\n",
       "  <thead>\n",
       "    <tr style=\"text-align: right;\">\n",
       "      <th></th>\n",
       "      <th>INCIDENT_NUMBER</th>\n",
       "      <th>OFFENSE_CODE</th>\n",
       "      <th>OFFENSE_CODE_GROUP</th>\n",
       "      <th>OFFENSE_DESCRIPTION</th>\n",
       "      <th>DISTRICT</th>\n",
       "      <th>REPORTING_AREA</th>\n",
       "      <th>SHOOTING</th>\n",
       "      <th>OCCURRED_ON_DATE</th>\n",
       "      <th>YEAR</th>\n",
       "      <th>MONTH</th>\n",
       "      <th>DAY_OF_WEEK</th>\n",
       "      <th>HOUR</th>\n",
       "      <th>UCR_PART</th>\n",
       "      <th>STREET</th>\n",
       "      <th>Lat</th>\n",
       "      <th>Long</th>\n",
       "      <th>Location</th>\n",
       "      <th>NightTime</th>\n",
       "    </tr>\n",
       "  </thead>\n",
       "  <tbody>\n",
       "    <tr>\n",
       "      <th>0</th>\n",
       "      <td>I182080058</td>\n",
       "      <td>2403</td>\n",
       "      <td>Disorderly Conduct</td>\n",
       "      <td>DISTURBING THE PEACE</td>\n",
       "      <td>E18</td>\n",
       "      <td>495</td>\n",
       "      <td>0.0</td>\n",
       "      <td>2018-10-03 20:13:00</td>\n",
       "      <td>2018</td>\n",
       "      <td>10</td>\n",
       "      <td>Wednesday</td>\n",
       "      <td>20</td>\n",
       "      <td>Part Two</td>\n",
       "      <td>ARLINGTON ST</td>\n",
       "      <td>42.262608</td>\n",
       "      <td>-71.121186</td>\n",
       "      <td>(42.26260773, -71.12118637)</td>\n",
       "      <td>1</td>\n",
       "    </tr>\n",
       "    <tr>\n",
       "      <th>1</th>\n",
       "      <td>I182080053</td>\n",
       "      <td>3201</td>\n",
       "      <td>Property Lost</td>\n",
       "      <td>PROPERTY - LOST</td>\n",
       "      <td>D14</td>\n",
       "      <td>795</td>\n",
       "      <td>0.0</td>\n",
       "      <td>2018-08-30 20:00:00</td>\n",
       "      <td>2018</td>\n",
       "      <td>8</td>\n",
       "      <td>Thursday</td>\n",
       "      <td>20</td>\n",
       "      <td>Part Three</td>\n",
       "      <td>ALLSTON ST</td>\n",
       "      <td>42.352111</td>\n",
       "      <td>-71.135311</td>\n",
       "      <td>(42.35211146, -71.13531147)</td>\n",
       "      <td>1</td>\n",
       "    </tr>\n",
       "    <tr>\n",
       "      <th>2</th>\n",
       "      <td>I182080052</td>\n",
       "      <td>2647</td>\n",
       "      <td>Other</td>\n",
       "      <td>THREATS TO DO BODILY HARM</td>\n",
       "      <td>B2</td>\n",
       "      <td>329</td>\n",
       "      <td>0.0</td>\n",
       "      <td>2018-10-03 19:20:00</td>\n",
       "      <td>2018</td>\n",
       "      <td>10</td>\n",
       "      <td>Wednesday</td>\n",
       "      <td>19</td>\n",
       "      <td>Part Two</td>\n",
       "      <td>DEVON ST</td>\n",
       "      <td>42.308126</td>\n",
       "      <td>-71.076930</td>\n",
       "      <td>(42.30812619, -71.07692974)</td>\n",
       "      <td>1</td>\n",
       "    </tr>\n",
       "    <tr>\n",
       "      <th>3</th>\n",
       "      <td>I182080051</td>\n",
       "      <td>413</td>\n",
       "      <td>Aggravated Assault</td>\n",
       "      <td>ASSAULT - AGGRAVATED - BATTERY</td>\n",
       "      <td>A1</td>\n",
       "      <td>92</td>\n",
       "      <td>0.0</td>\n",
       "      <td>2018-10-03 20:00:00</td>\n",
       "      <td>2018</td>\n",
       "      <td>10</td>\n",
       "      <td>Wednesday</td>\n",
       "      <td>20</td>\n",
       "      <td>Part One</td>\n",
       "      <td>CAMBRIDGE ST</td>\n",
       "      <td>42.359454</td>\n",
       "      <td>-71.059648</td>\n",
       "      <td>(42.35945371, -71.05964817)</td>\n",
       "      <td>1</td>\n",
       "    </tr>\n",
       "    <tr>\n",
       "      <th>4</th>\n",
       "      <td>I182080050</td>\n",
       "      <td>3122</td>\n",
       "      <td>Aircraft</td>\n",
       "      <td>AIRCRAFT INCIDENTS</td>\n",
       "      <td>A7</td>\n",
       "      <td>36</td>\n",
       "      <td>0.0</td>\n",
       "      <td>2018-10-03 20:49:00</td>\n",
       "      <td>2018</td>\n",
       "      <td>10</td>\n",
       "      <td>Wednesday</td>\n",
       "      <td>20</td>\n",
       "      <td>Part Three</td>\n",
       "      <td>PRESCOTT ST</td>\n",
       "      <td>42.375258</td>\n",
       "      <td>-71.024663</td>\n",
       "      <td>(42.37525782, -71.02466343)</td>\n",
       "      <td>1</td>\n",
       "    </tr>\n",
       "  </tbody>\n",
       "</table>\n",
       "</div>"
      ],
      "text/plain": [
       "  INCIDENT_NUMBER  OFFENSE_CODE  OFFENSE_CODE_GROUP  \\\n",
       "0      I182080058          2403  Disorderly Conduct   \n",
       "1      I182080053          3201       Property Lost   \n",
       "2      I182080052          2647               Other   \n",
       "3      I182080051           413  Aggravated Assault   \n",
       "4      I182080050          3122            Aircraft   \n",
       "\n",
       "              OFFENSE_DESCRIPTION DISTRICT REPORTING_AREA  SHOOTING  \\\n",
       "0            DISTURBING THE PEACE      E18            495       0.0   \n",
       "1                 PROPERTY - LOST      D14            795       0.0   \n",
       "2       THREATS TO DO BODILY HARM       B2            329       0.0   \n",
       "3  ASSAULT - AGGRAVATED - BATTERY       A1             92       0.0   \n",
       "4              AIRCRAFT INCIDENTS       A7             36       0.0   \n",
       "\n",
       "      OCCURRED_ON_DATE  YEAR  MONTH DAY_OF_WEEK  HOUR    UCR_PART  \\\n",
       "0  2018-10-03 20:13:00  2018     10   Wednesday    20    Part Two   \n",
       "1  2018-08-30 20:00:00  2018      8    Thursday    20  Part Three   \n",
       "2  2018-10-03 19:20:00  2018     10   Wednesday    19    Part Two   \n",
       "3  2018-10-03 20:00:00  2018     10   Wednesday    20    Part One   \n",
       "4  2018-10-03 20:49:00  2018     10   Wednesday    20  Part Three   \n",
       "\n",
       "         STREET        Lat       Long                     Location  NightTime  \n",
       "0  ARLINGTON ST  42.262608 -71.121186  (42.26260773, -71.12118637)          1  \n",
       "1    ALLSTON ST  42.352111 -71.135311  (42.35211146, -71.13531147)          1  \n",
       "2      DEVON ST  42.308126 -71.076930  (42.30812619, -71.07692974)          1  \n",
       "3  CAMBRIDGE ST  42.359454 -71.059648  (42.35945371, -71.05964817)          1  \n",
       "4   PRESCOTT ST  42.375258 -71.024663  (42.37525782, -71.02466343)          1  "
      ]
     },
     "execution_count": 77,
     "metadata": {},
     "output_type": "execute_result"
    }
   ],
   "source": [
    "datanew['NightTime'].loc[(datanew['HOUR'] >= 18)] = 1\n",
    "datanew['NightTime'].loc[(datanew['HOUR'] <= 5)] = 1\n",
    "datanew.head()"
   ]
  },
  {
   "cell_type": "code",
   "execution_count": 78,
   "metadata": {
    "scrolled": true
   },
   "outputs": [
    {
     "data": {
      "image/png": "[encoded data removed]",
      "text/plain": [
       "<Figure size 360x360 with 1 Axes>"
      ]
     },
     "metadata": {
      "needs_background": "light"
     },
     "output_type": "display_data"
    }
   ],
   "source": [
    "plt.figure(figsize=(5,5))\n",
    "datanew['NightTime'].value_counts().plot.bar()\n",
    "plt.show()"
   ]
  },
  {
   "cell_type": "code",
   "execution_count": 79,
   "metadata": {},
   "outputs": [
    {
     "data": {
      "text/plain": [
       "Motor Vehicle Accident Response    31180\n",
       "Larceny                            25808\n",
       "Medical Assistance                 23021\n",
       "Investigate Person                 18371\n",
       "Other                              17494\n",
       "Simple Assault                     15259\n",
       "Vandalism                          15217\n",
       "Drug Violation                     14800\n",
       "Verbal Disputes                    13321\n",
       "Towed                              11057\n",
       "Name: OFFENSE_CODE_GROUP, dtype: int64"
      ]
     },
     "execution_count": 79,
     "metadata": {},
     "output_type": "execute_result"
    }
   ],
   "source": [
    "datanew['OFFENSE_CODE_GROUP'].value_counts().head(10)\n",
    "\n",
    "#Analysing The Top Ten Offense Groups"
   ]
  },
  {
   "cell_type": "code",
   "execution_count": 80,
   "metadata": {},
   "outputs": [
    {
     "data": {
      "text/html": [
       "<div>\n",
       "<style scoped>\n",
       "    .dataframe tbody tr th:only-of-type {\n",
       "        vertical-align: middle;\n",
       "    }\n",
       "\n",
       "    .dataframe tbody tr th {\n",
       "        vertical-align: top;\n",
       "    }\n",
       "\n",
       "    .dataframe thead th {\n",
       "        text-align: right;\n",
       "    }\n",
       "</style>\n",
       "<table border=\"1\" class=\"dataframe\">\n",
       "  <thead>\n",
       "    <tr style=\"text-align: right;\">\n",
       "      <th></th>\n",
       "      <th>INCIDENT_NUMBER</th>\n",
       "      <th>OFFENSE_CODE</th>\n",
       "      <th>OFFENSE_CODE_GROUP</th>\n",
       "      <th>OFFENSE_DESCRIPTION</th>\n",
       "      <th>DISTRICT</th>\n",
       "      <th>REPORTING_AREA</th>\n",
       "      <th>SHOOTING</th>\n",
       "      <th>OCCURRED_ON_DATE</th>\n",
       "      <th>YEAR</th>\n",
       "      <th>MONTH</th>\n",
       "      <th>DAY_OF_WEEK</th>\n",
       "      <th>HOUR</th>\n",
       "      <th>UCR_PART</th>\n",
       "      <th>STREET</th>\n",
       "      <th>Lat</th>\n",
       "      <th>Long</th>\n",
       "      <th>Location</th>\n",
       "      <th>NightTime</th>\n",
       "    </tr>\n",
       "  </thead>\n",
       "  <tbody>\n",
       "    <tr>\n",
       "      <th>10</th>\n",
       "      <td>I182080043</td>\n",
       "      <td>3803</td>\n",
       "      <td>Motor Vehicle Accident Response</td>\n",
       "      <td>M/V ACCIDENT - PERSONAL INJURY</td>\n",
       "      <td>D14</td>\n",
       "      <td>750</td>\n",
       "      <td>0.0</td>\n",
       "      <td>2018-10-03 19:33:00</td>\n",
       "      <td>2018</td>\n",
       "      <td>10</td>\n",
       "      <td>Wednesday</td>\n",
       "      <td>19</td>\n",
       "      <td>Part Three</td>\n",
       "      <td>FOSTER ST</td>\n",
       "      <td>42.344323</td>\n",
       "      <td>-71.157784</td>\n",
       "      <td>(42.34432328, -71.15778368)</td>\n",
       "      <td>1</td>\n",
       "    </tr>\n",
       "    <tr>\n",
       "      <th>20</th>\n",
       "      <td>I182080030</td>\n",
       "      <td>3831</td>\n",
       "      <td>Motor Vehicle Accident Response</td>\n",
       "      <td>M/V - LEAVING SCENE - PROPERTY DAMAGE</td>\n",
       "      <td>C6</td>\n",
       "      <td>234</td>\n",
       "      <td>0.0</td>\n",
       "      <td>2018-10-02 20:00:00</td>\n",
       "      <td>2018</td>\n",
       "      <td>10</td>\n",
       "      <td>Tuesday</td>\n",
       "      <td>20</td>\n",
       "      <td>Part Three</td>\n",
       "      <td>COLUMBIA RD</td>\n",
       "      <td>42.330015</td>\n",
       "      <td>-71.038513</td>\n",
       "      <td>(42.33001489, -71.03851306)</td>\n",
       "      <td>1</td>\n",
       "    </tr>\n",
       "    <tr>\n",
       "      <th>68</th>\n",
       "      <td>I182079979</td>\n",
       "      <td>3831</td>\n",
       "      <td>Motor Vehicle Accident Response</td>\n",
       "      <td>M/V - LEAVING SCENE - PROPERTY DAMAGE</td>\n",
       "      <td>C11</td>\n",
       "      <td>255</td>\n",
       "      <td>0.0</td>\n",
       "      <td>2018-10-03 15:13:00</td>\n",
       "      <td>2018</td>\n",
       "      <td>10</td>\n",
       "      <td>Wednesday</td>\n",
       "      <td>15</td>\n",
       "      <td>Part Three</td>\n",
       "      <td>DORCHESTER AVE</td>\n",
       "      <td>42.310910</td>\n",
       "      <td>-71.057674</td>\n",
       "      <td>(42.31091044, -71.05767414)</td>\n",
       "      <td>0</td>\n",
       "    </tr>\n",
       "    <tr>\n",
       "      <th>72</th>\n",
       "      <td>I182079974</td>\n",
       "      <td>3831</td>\n",
       "      <td>Motor Vehicle Accident Response</td>\n",
       "      <td>M/V - LEAVING SCENE - PROPERTY DAMAGE</td>\n",
       "      <td>D14</td>\n",
       "      <td>773</td>\n",
       "      <td>0.0</td>\n",
       "      <td>2018-10-01 19:00:00</td>\n",
       "      <td>2018</td>\n",
       "      <td>10</td>\n",
       "      <td>Monday</td>\n",
       "      <td>19</td>\n",
       "      <td>Part Three</td>\n",
       "      <td>COLWELL AVE</td>\n",
       "      <td>42.342592</td>\n",
       "      <td>-71.155817</td>\n",
       "      <td>(42.34259153, -71.15581674)</td>\n",
       "      <td>1</td>\n",
       "    </tr>\n",
       "    <tr>\n",
       "      <th>77</th>\n",
       "      <td>I182079969</td>\n",
       "      <td>3820</td>\n",
       "      <td>Motor Vehicle Accident Response</td>\n",
       "      <td>M/V ACCIDENT INVOLVING PEDESTRIAN - INJURY</td>\n",
       "      <td>B2</td>\n",
       "      <td>613</td>\n",
       "      <td>0.0</td>\n",
       "      <td>2018-10-03 15:51:00</td>\n",
       "      <td>2018</td>\n",
       "      <td>10</td>\n",
       "      <td>Wednesday</td>\n",
       "      <td>15</td>\n",
       "      <td>Part Three</td>\n",
       "      <td>LONGWOOD AVE</td>\n",
       "      <td>42.339727</td>\n",
       "      <td>-71.108683</td>\n",
       "      <td>(42.33972732, -71.10868260)</td>\n",
       "      <td>0</td>\n",
       "    </tr>\n",
       "  </tbody>\n",
       "</table>\n",
       "</div>"
      ],
      "text/plain": [
       "   INCIDENT_NUMBER  OFFENSE_CODE               OFFENSE_CODE_GROUP  \\\n",
       "10      I182080043          3803  Motor Vehicle Accident Response   \n",
       "20      I182080030          3831  Motor Vehicle Accident Response   \n",
       "68      I182079979          3831  Motor Vehicle Accident Response   \n",
       "72      I182079974          3831  Motor Vehicle Accident Response   \n",
       "77      I182079969          3820  Motor Vehicle Accident Response   \n",
       "\n",
       "                           OFFENSE_DESCRIPTION DISTRICT REPORTING_AREA  \\\n",
       "10              M/V ACCIDENT - PERSONAL INJURY      D14            750   \n",
       "20       M/V - LEAVING SCENE - PROPERTY DAMAGE       C6            234   \n",
       "68       M/V - LEAVING SCENE - PROPERTY DAMAGE      C11            255   \n",
       "72       M/V - LEAVING SCENE - PROPERTY DAMAGE      D14            773   \n",
       "77  M/V ACCIDENT INVOLVING PEDESTRIAN - INJURY       B2            613   \n",
       "\n",
       "    SHOOTING     OCCURRED_ON_DATE  YEAR  MONTH DAY_OF_WEEK  HOUR    UCR_PART  \\\n",
       "10       0.0  2018-10-03 19:33:00  2018     10   Wednesday    19  Part Three   \n",
       "20       0.0  2018-10-02 20:00:00  2018     10     Tuesday    20  Part Three   \n",
       "68       0.0  2018-10-03 15:13:00  2018     10   Wednesday    15  Part Three   \n",
       "72       0.0  2018-10-01 19:00:00  2018     10      Monday    19  Part Three   \n",
       "77       0.0  2018-10-03 15:51:00  2018     10   Wednesday    15  Part Three   \n",
       "\n",
       "            STREET        Lat       Long                     Location  \\\n",
       "10       FOSTER ST  42.344323 -71.157784  (42.34432328, -71.15778368)   \n",
       "20     COLUMBIA RD  42.330015 -71.038513  (42.33001489, -71.03851306)   \n",
       "68  DORCHESTER AVE  42.310910 -71.057674  (42.31091044, -71.05767414)   \n",
       "72     COLWELL AVE  42.342592 -71.155817  (42.34259153, -71.15581674)   \n",
       "77    LONGWOOD AVE  42.339727 -71.108683  (42.33972732, -71.10868260)   \n",
       "\n",
       "    NightTime  \n",
       "10          1  \n",
       "20          1  \n",
       "68          0  \n",
       "72          1  \n",
       "77          0  "
      ]
     },
     "execution_count": 80,
     "metadata": {},
     "output_type": "execute_result"
    }
   ],
   "source": [
    "OFFENSE_CODE_GROUP_SELECTED = ('Motor Vehicle Accident Response','Larceny','Medical Assistance','Investigate Person','Other', \n",
    "            'Drug Violation','Other','Simple Assault','Vandalism','Verbal Disputes','Towed')\n",
    "\n",
    "processedData = pd.DataFrame()\n",
    "k = 0\n",
    "while k<len(OFFENSE_CODE_GROUP_SELECTED):\n",
    "    processedData = processedData.append(datanew.loc[datanew['OFFENSE_CODE_GROUP']==OFFENSE_CODE_GROUP_SELECTED[k]])\n",
    "    k = k+1\n",
    "processedData.head()"
   ]
  },
  {
   "cell_type": "code",
   "execution_count": 81,
   "metadata": {},
   "outputs": [
    {
     "data": {
      "text/html": [
       "<div>\n",
       "<style scoped>\n",
       "    .dataframe tbody tr th:only-of-type {\n",
       "        vertical-align: middle;\n",
       "    }\n",
       "\n",
       "    .dataframe tbody tr th {\n",
       "        vertical-align: top;\n",
       "    }\n",
       "\n",
       "    .dataframe thead th {\n",
       "        text-align: right;\n",
       "    }\n",
       "</style>\n",
       "<table border=\"1\" class=\"dataframe\">\n",
       "  <thead>\n",
       "    <tr style=\"text-align: right;\">\n",
       "      <th></th>\n",
       "      <th>INCIDENT_NUMBER</th>\n",
       "      <th>OFFENSE_CODE</th>\n",
       "      <th>OFFENSE_CODE_GROUP</th>\n",
       "      <th>OFFENSE_DESCRIPTION</th>\n",
       "      <th>DISTRICT</th>\n",
       "      <th>REPORTING_AREA</th>\n",
       "      <th>SHOOTING</th>\n",
       "      <th>OCCURRED_ON_DATE</th>\n",
       "      <th>YEAR</th>\n",
       "      <th>MONTH</th>\n",
       "      <th>DAY_OF_WEEK</th>\n",
       "      <th>HOUR</th>\n",
       "      <th>UCR_PART</th>\n",
       "      <th>STREET</th>\n",
       "      <th>Lat</th>\n",
       "      <th>Long</th>\n",
       "      <th>Location</th>\n",
       "      <th>NightTime</th>\n",
       "    </tr>\n",
       "  </thead>\n",
       "  <tbody>\n",
       "    <tr>\n",
       "      <th>10</th>\n",
       "      <td>I182080043</td>\n",
       "      <td>3803</td>\n",
       "      <td>4</td>\n",
       "      <td>70</td>\n",
       "      <td>9</td>\n",
       "      <td>692</td>\n",
       "      <td>0</td>\n",
       "      <td>2018-10-03 19:33:00</td>\n",
       "      <td>2018</td>\n",
       "      <td>10</td>\n",
       "      <td>6</td>\n",
       "      <td>19</td>\n",
       "      <td>2</td>\n",
       "      <td>346</td>\n",
       "      <td>42.344323</td>\n",
       "      <td>-71.157784</td>\n",
       "      <td>(42.34432328, -71.15778368)</td>\n",
       "      <td>1</td>\n",
       "    </tr>\n",
       "    <tr>\n",
       "      <th>20</th>\n",
       "      <td>I182080030</td>\n",
       "      <td>3831</td>\n",
       "      <td>4</td>\n",
       "      <td>64</td>\n",
       "      <td>8</td>\n",
       "      <td>59</td>\n",
       "      <td>0</td>\n",
       "      <td>2018-10-02 20:00:00</td>\n",
       "      <td>2018</td>\n",
       "      <td>10</td>\n",
       "      <td>5</td>\n",
       "      <td>20</td>\n",
       "      <td>2</td>\n",
       "      <td>3383</td>\n",
       "      <td>42.330015</td>\n",
       "      <td>-71.038513</td>\n",
       "      <td>(42.33001489, -71.03851306)</td>\n",
       "      <td>1</td>\n",
       "    </tr>\n",
       "    <tr>\n",
       "      <th>68</th>\n",
       "      <td>I182079979</td>\n",
       "      <td>3831</td>\n",
       "      <td>4</td>\n",
       "      <td>64</td>\n",
       "      <td>7</td>\n",
       "      <td>84</td>\n",
       "      <td>0</td>\n",
       "      <td>2018-10-03 15:13:00</td>\n",
       "      <td>2018</td>\n",
       "      <td>10</td>\n",
       "      <td>6</td>\n",
       "      <td>15</td>\n",
       "      <td>2</td>\n",
       "      <td>9</td>\n",
       "      <td>42.310910</td>\n",
       "      <td>-71.057674</td>\n",
       "      <td>(42.31091044, -71.05767414)</td>\n",
       "      <td>0</td>\n",
       "    </tr>\n",
       "    <tr>\n",
       "      <th>72</th>\n",
       "      <td>I182079974</td>\n",
       "      <td>3831</td>\n",
       "      <td>4</td>\n",
       "      <td>64</td>\n",
       "      <td>9</td>\n",
       "      <td>719</td>\n",
       "      <td>0</td>\n",
       "      <td>2018-10-01 19:00:00</td>\n",
       "      <td>2018</td>\n",
       "      <td>10</td>\n",
       "      <td>1</td>\n",
       "      <td>19</td>\n",
       "      <td>2</td>\n",
       "      <td>3389</td>\n",
       "      <td>42.342592</td>\n",
       "      <td>-71.155817</td>\n",
       "      <td>(42.34259153, -71.15581674)</td>\n",
       "      <td>1</td>\n",
       "    </tr>\n",
       "    <tr>\n",
       "      <th>77</th>\n",
       "      <td>I182079969</td>\n",
       "      <td>3820</td>\n",
       "      <td>4</td>\n",
       "      <td>73</td>\n",
       "      <td>5</td>\n",
       "      <td>524</td>\n",
       "      <td>0</td>\n",
       "      <td>2018-10-03 15:51:00</td>\n",
       "      <td>2018</td>\n",
       "      <td>10</td>\n",
       "      <td>6</td>\n",
       "      <td>15</td>\n",
       "      <td>2</td>\n",
       "      <td>1156</td>\n",
       "      <td>42.339727</td>\n",
       "      <td>-71.108683</td>\n",
       "      <td>(42.33972732, -71.10868260)</td>\n",
       "      <td>0</td>\n",
       "    </tr>\n",
       "  </tbody>\n",
       "</table>\n",
       "</div>"
      ],
      "text/plain": [
       "   INCIDENT_NUMBER  OFFENSE_CODE  OFFENSE_CODE_GROUP  OFFENSE_DESCRIPTION  \\\n",
       "10      I182080043          3803                   4                   70   \n",
       "20      I182080030          3831                   4                   64   \n",
       "68      I182079979          3831                   4                   64   \n",
       "72      I182079974          3831                   4                   64   \n",
       "77      I182079969          3820                   4                   73   \n",
       "\n",
       "    DISTRICT  REPORTING_AREA  SHOOTING     OCCURRED_ON_DATE  YEAR  MONTH  \\\n",
       "10         9             692         0  2018-10-03 19:33:00  2018     10   \n",
       "20         8              59         0  2018-10-02 20:00:00  2018     10   \n",
       "68         7              84         0  2018-10-03 15:13:00  2018     10   \n",
       "72         9             719         0  2018-10-01 19:00:00  2018     10   \n",
       "77         5             524         0  2018-10-03 15:51:00  2018     10   \n",
       "\n",
       "    DAY_OF_WEEK  HOUR  UCR_PART  STREET        Lat       Long  \\\n",
       "10            6    19         2     346  42.344323 -71.157784   \n",
       "20            5    20         2    3383  42.330015 -71.038513   \n",
       "68            6    15         2       9  42.310910 -71.057674   \n",
       "72            1    19         2    3389  42.342592 -71.155817   \n",
       "77            6    15         2    1156  42.339727 -71.108683   \n",
       "\n",
       "                       Location  NightTime  \n",
       "10  (42.34432328, -71.15778368)          1  \n",
       "20  (42.33001489, -71.03851306)          1  \n",
       "68  (42.31091044, -71.05767414)          0  \n",
       "72  (42.34259153, -71.15581674)          1  \n",
       "77  (42.33972732, -71.10868260)          0  "
      ]
     },
     "execution_count": 81,
     "metadata": {},
     "output_type": "execute_result"
    }
   ],
   "source": [
    "transform_labels=processedData.iloc[:,:]\n",
    "transform_labels.loc[:,'STREET']=LabelEncoder().fit_transform(transform_labels.loc[:,'STREET'].astype('str'))\n",
    "transform_labels.loc[:,'DISTRICT']=LabelEncoder().fit_transform(transform_labels.loc[:,'DISTRICT'].astype('str'))\n",
    "transform_labels.loc[:,'REPORTING_AREA']=LabelEncoder().fit_transform(transform_labels.loc[:,'REPORTING_AREA'].astype('str'))\n",
    "transform_labels.loc[:,'DAY_OF_WEEK']=LabelEncoder().fit_transform(transform_labels.loc[:,'DAY_OF_WEEK'])\n",
    "transform_labels.loc[:,'STREET']=LabelEncoder().fit_transform(transform_labels.loc[:,'STREET'].astype('str'))\n",
    "transform_labels.loc[:,'UCR_PART']=LabelEncoder().fit_transform(transform_labels.loc[:,'UCR_PART'].astype('str'))\n",
    "transform_labels.loc[:,'OFFENSE_CODE_GROUP']=LabelEncoder().fit_transform(transform_labels.loc[:,'OFFENSE_CODE_GROUP'])\n",
    "transform_labels.loc[:,'OFFENSE_DESCRIPTION']=LabelEncoder().fit_transform(transform_labels.loc[:,'OFFENSE_DESCRIPTION'])\n",
    "transform_labels.loc[:,'DISTRICT']=LabelEncoder().fit_transform(transform_labels.loc[:,'DISTRICT'].astype('str'))\n",
    "transform_labels.loc[:,'REPORTING_AREA']=LabelEncoder().fit_transform(transform_labels.loc[:,'REPORTING_AREA'].astype('str'))\n",
    "transform_labels.loc[:,'SHOOTING']=LabelEncoder().fit_transform(transform_labels.loc[:,'SHOOTING'])\n",
    "transform_labels.loc[:,'DAY_OF_WEEK']=LabelEncoder().fit_transform(transform_labels.loc[:,'DAY_OF_WEEK'])\n",
    "\n",
    "transform_labels.head()"
   ]
  },
  {
   "cell_type": "code",
   "execution_count": 82,
   "metadata": {},
   "outputs": [],
   "source": [
    "data=transform_labels.loc[:,['OFFENSE_CODE', 'OFFENSE_CODE_GROUP','OFFENSE_DESCRIPTION', 'DISTRICT', 'REPORTING_AREA', \n",
    "                             'SHOOTING', 'YEAR','DAY_OF_WEEK', 'HOUR', 'UCR_PART', 'STREET']]\n",
    "pca=PCA(n_components=11).fit(data)"
   ]
  },
  {
   "cell_type": "code",
   "execution_count": 83,
   "metadata": {},
   "outputs": [
    {
     "name": "stdout",
     "output_type": "stream",
     "text": [
      "192870\n",
      "10152\n"
     ]
    }
   ],
   "source": [
    "from sklearn.model_selection import train_test_split\n",
    "datanew= transform_labels.dropna()\n",
    "train_data, test_data= train_test_split(datanew, random_state=0, test_size=0.05)\n",
    "\n",
    "print(len(train_data))\n",
    "print(len(test_data))"
   ]
  },
  {
   "cell_type": "code",
   "execution_count": 84,
   "metadata": {
    "scrolled": true
   },
   "outputs": [
    {
     "data": {
      "text/html": [
       "<div>\n",
       "<style scoped>\n",
       "    .dataframe tbody tr th:only-of-type {\n",
       "        vertical-align: middle;\n",
       "    }\n",
       "\n",
       "    .dataframe tbody tr th {\n",
       "        vertical-align: top;\n",
       "    }\n",
       "\n",
       "    .dataframe thead th {\n",
       "        text-align: right;\n",
       "    }\n",
       "</style>\n",
       "<table border=\"1\" class=\"dataframe\">\n",
       "  <thead>\n",
       "    <tr style=\"text-align: right;\">\n",
       "      <th></th>\n",
       "      <th>INCIDENT_NUMBER</th>\n",
       "      <th>OFFENSE_CODE</th>\n",
       "      <th>OFFENSE_CODE_GROUP</th>\n",
       "      <th>OFFENSE_DESCRIPTION</th>\n",
       "      <th>DISTRICT</th>\n",
       "      <th>REPORTING_AREA</th>\n",
       "      <th>SHOOTING</th>\n",
       "      <th>OCCURRED_ON_DATE</th>\n",
       "      <th>YEAR</th>\n",
       "      <th>MONTH</th>\n",
       "      <th>DAY_OF_WEEK</th>\n",
       "      <th>HOUR</th>\n",
       "      <th>UCR_PART</th>\n",
       "      <th>STREET</th>\n",
       "      <th>Lat</th>\n",
       "      <th>Long</th>\n",
       "      <th>Location</th>\n",
       "      <th>NightTime</th>\n",
       "    </tr>\n",
       "  </thead>\n",
       "  <tbody>\n",
       "    <tr>\n",
       "      <th>194571</th>\n",
       "      <td>I162086313</td>\n",
       "      <td>802</td>\n",
       "      <td>6</td>\n",
       "      <td>6</td>\n",
       "      <td>5</td>\n",
       "      <td>150</td>\n",
       "      <td>0</td>\n",
       "      <td>2016-10-21 15:12:00</td>\n",
       "      <td>2016</td>\n",
       "      <td>10</td>\n",
       "      <td>0</td>\n",
       "      <td>15</td>\n",
       "      <td>3</td>\n",
       "      <td>641</td>\n",
       "      <td>42.319337</td>\n",
       "      <td>-71.088852</td>\n",
       "      <td>(42.31933723, -71.08885165)</td>\n",
       "      <td>0</td>\n",
       "    </tr>\n",
       "    <tr>\n",
       "      <th>296953</th>\n",
       "      <td>I152083409</td>\n",
       "      <td>3831</td>\n",
       "      <td>4</td>\n",
       "      <td>64</td>\n",
       "      <td>5</td>\n",
       "      <td>874</td>\n",
       "      <td>0</td>\n",
       "      <td>2015-10-07 16:49:00</td>\n",
       "      <td>2015</td>\n",
       "      <td>10</td>\n",
       "      <td>6</td>\n",
       "      <td>16</td>\n",
       "      <td>2</td>\n",
       "      <td>3352</td>\n",
       "      <td>42.323212</td>\n",
       "      <td>-71.070797</td>\n",
       "      <td>(42.32321224, -71.07079676)</td>\n",
       "      <td>0</td>\n",
       "    </tr>\n",
       "    <tr>\n",
       "      <th>56810</th>\n",
       "      <td>I182019391</td>\n",
       "      <td>3006</td>\n",
       "      <td>3</td>\n",
       "      <td>79</td>\n",
       "      <td>0</td>\n",
       "      <td>543</td>\n",
       "      <td>0</td>\n",
       "      <td>2018-03-14 21:15:00</td>\n",
       "      <td>2018</td>\n",
       "      <td>3</td>\n",
       "      <td>6</td>\n",
       "      <td>21</td>\n",
       "      <td>2</td>\n",
       "      <td>1547</td>\n",
       "      <td>42.361839</td>\n",
       "      <td>-71.059765</td>\n",
       "      <td>(42.36183857, -71.05976489)</td>\n",
       "      <td>1</td>\n",
       "    </tr>\n",
       "    <tr>\n",
       "      <th>58690</th>\n",
       "      <td>I182017405</td>\n",
       "      <td>3115</td>\n",
       "      <td>1</td>\n",
       "      <td>42</td>\n",
       "      <td>9</td>\n",
       "      <td>743</td>\n",
       "      <td>0</td>\n",
       "      <td>2018-03-07 05:36:00</td>\n",
       "      <td>2018</td>\n",
       "      <td>3</td>\n",
       "      <td>6</td>\n",
       "      <td>5</td>\n",
       "      <td>2</td>\n",
       "      <td>3394</td>\n",
       "      <td>42.349378</td>\n",
       "      <td>-71.132490</td>\n",
       "      <td>(42.34937839, -71.13249037)</td>\n",
       "      <td>1</td>\n",
       "    </tr>\n",
       "    <tr>\n",
       "      <th>176002</th>\n",
       "      <td>I162106353</td>\n",
       "      <td>3102</td>\n",
       "      <td>5</td>\n",
       "      <td>43</td>\n",
       "      <td>11</td>\n",
       "      <td>149</td>\n",
       "      <td>0</td>\n",
       "      <td>2016-12-31 13:43:00</td>\n",
       "      <td>2016</td>\n",
       "      <td>12</td>\n",
       "      <td>2</td>\n",
       "      <td>13</td>\n",
       "      <td>2</td>\n",
       "      <td>2684</td>\n",
       "      <td>42.315237</td>\n",
       "      <td>-71.095965</td>\n",
       "      <td>(42.31523737, -71.09596494)</td>\n",
       "      <td>0</td>\n",
       "    </tr>\n",
       "  </tbody>\n",
       "</table>\n",
       "</div>"
      ],
      "text/plain": [
       "       INCIDENT_NUMBER  OFFENSE_CODE  OFFENSE_CODE_GROUP  OFFENSE_DESCRIPTION  \\\n",
       "194571      I162086313           802                   6                    6   \n",
       "296953      I152083409          3831                   4                   64   \n",
       "56810       I182019391          3006                   3                   79   \n",
       "58690       I182017405          3115                   1                   42   \n",
       "176002      I162106353          3102                   5                   43   \n",
       "\n",
       "        DISTRICT  REPORTING_AREA  SHOOTING     OCCURRED_ON_DATE  YEAR  MONTH  \\\n",
       "194571         5             150         0  2016-10-21 15:12:00  2016     10   \n",
       "296953         5             874         0  2015-10-07 16:49:00  2015     10   \n",
       "56810          0             543         0  2018-03-14 21:15:00  2018      3   \n",
       "58690          9             743         0  2018-03-07 05:36:00  2018      3   \n",
       "176002        11             149         0  2016-12-31 13:43:00  2016     12   \n",
       "\n",
       "        DAY_OF_WEEK  HOUR  UCR_PART  STREET        Lat       Long  \\\n",
       "194571            0    15         3     641  42.319337 -71.088852   \n",
       "296953            6    16         2    3352  42.323212 -71.070797   \n",
       "56810             6    21         2    1547  42.361839 -71.059765   \n",
       "58690             6     5         2    3394  42.349378 -71.132490   \n",
       "176002            2    13         2    2684  42.315237 -71.095965   \n",
       "\n",
       "                           Location  NightTime  \n",
       "194571  (42.31933723, -71.08885165)          0  \n",
       "296953  (42.32321224, -71.07079676)          0  \n",
       "56810   (42.36183857, -71.05976489)          1  \n",
       "58690   (42.34937839, -71.13249037)          1  \n",
       "176002  (42.31523737, -71.09596494)          0  "
      ]
     },
     "execution_count": 84,
     "metadata": {},
     "output_type": "execute_result"
    }
   ],
   "source": [
    "train_data.head()"
   ]
  },
  {
   "cell_type": "markdown",
   "metadata": {},
   "source": [
    "# Predicting Month"
   ]
  },
  {
   "cell_type": "code",
   "execution_count": 85,
   "metadata": {},
   "outputs": [],
   "source": [
    "from sklearn import tree\n",
    "\n",
    "features_train = train_data[['DISTRICT','REPORTING_AREA','OFFENSE_CODE_GROUP','DAY_OF_WEEK','HOUR','Lat','Long']]\n",
    "target_train = train_data[['MONTH']]\n",
    "features_test = test_data[['DISTRICT','REPORTING_AREA','OFFENSE_CODE_GROUP','DAY_OF_WEEK','HOUR','Lat','Long']]\n",
    "target_test = test_data[['MONTH']]\n",
    "\n",
    "#Creating Our classifier By Providing Training Data\n",
    "clf = tree.DecisionTreeClassifier()\n",
    "\n",
    "clf = clf.fit(features_train, target_train)"
   ]
  },
  {
   "cell_type": "code",
   "execution_count": 86,
   "metadata": {},
   "outputs": [
    {
     "data": {
      "text/plain": [
       "array([5, 4, 7, ..., 6, 4, 6], dtype=int64)"
      ]
     },
     "execution_count": 86,
     "metadata": {},
     "output_type": "execute_result"
    }
   ],
   "source": [
    "#Predicting for the test set using the classifier created above\n",
    "target_pred = clf.predict(features_test)\n",
    "target_pred"
   ]
  },
  {
   "cell_type": "code",
   "execution_count": 88,
   "metadata": {},
   "outputs": [
    {
     "name": "stdout",
     "output_type": "stream",
     "text": [
      "              precision    recall  f1-score   support\n",
      "\n",
      "           1       0.28      0.28      0.28       747\n",
      "           2       0.24      0.25      0.25       702\n",
      "           3       0.26      0.27      0.26       744\n",
      "           4       0.26      0.28      0.27       716\n",
      "           5       0.25      0.25      0.25       797\n",
      "           6       0.28      0.28      0.28       960\n",
      "           7       0.28      0.27      0.28      1052\n",
      "           8       0.31      0.31      0.31      1076\n",
      "           9       0.29      0.28      0.29      1057\n",
      "          10       0.26      0.26      0.26       819\n",
      "          11       0.28      0.27      0.27       754\n",
      "          12       0.25      0.24      0.24       728\n",
      "\n",
      "   micro avg       0.27      0.27      0.27     10152\n",
      "   macro avg       0.27      0.27      0.27     10152\n",
      "weighted avg       0.27      0.27      0.27     10152\n",
      "\n"
     ]
    }
   ],
   "source": [
    "from sklearn.metrics import classification_report\n",
    "rep = classification_report(target_test, target_pred)\n",
    "print(rep)\n",
    "\n",
    "#Accurate Predictions with more Training Data"
   ]
  },
  {
   "cell_type": "code",
   "execution_count": 89,
   "metadata": {},
   "outputs": [
    {
     "data": {
      "text/plain": [
       "0.27206461780929864"
      ]
     },
     "execution_count": 89,
     "metadata": {},
     "output_type": "execute_result"
    }
   ],
   "source": [
    "#1. The accuracy of your model on the test data\n",
    "\n",
    "from sklearn.metrics import accuracy_score\n",
    "\n",
    "accuracy_score(target_test, target_pred)"
   ]
  },
  {
   "cell_type": "markdown",
   "metadata": {},
   "source": [
    "# Predicting Month Using PCA and Gradient Boosting Classifier"
   ]
  },
  {
   "cell_type": "code",
   "execution_count": 93,
   "metadata": {},
   "outputs": [
    {
     "name": "stdout",
     "output_type": "stream",
     "text": [
      "[5.00991551e-01 4.72104212e-01 2.66569401e-02 2.24028916e-04\n",
      " 1.49634959e-05 4.12207796e-06 1.96150280e-06 1.65903242e-06\n",
      " 4.15305273e-07 1.47484569e-07 2.54526071e-39]\n"
     ]
    }
   ],
   "source": [
    "pca=PCA(n_components=11).fit(data)\n",
    "print(pca.explained_variance_ratio_)"
   ]
  },
  {
   "cell_type": "code",
   "execution_count": 97,
   "metadata": {},
   "outputs": [],
   "source": [
    "from sklearn.ensemble import GradientBoostingClassifier as GBC\n",
    "\n",
    "sampled_data=transform_labels.sample(n=10000)\n",
    "pcad=sampled_data.loc[:,['OFFENSE_CODE', 'OFFENSE_CODE_GROUP',\n",
    "                         'OFFENSE_DESCRIPTION', 'DISTRICT', \n",
    "                         'REPORTING_AREA', 'SHOOTING', \n",
    "                         'YEAR','DAY_OF_WEEK', 'HOUR', \n",
    "                         'UCR_PART', 'STREET']]\n",
    "\n",
    "pcadata = PCA(n_components=2).fit_transform(pcad)\n",
    "\n",
    "target = sampled_data.loc[:,'MONTH']\n",
    "\n",
    "x_train,x_test,y_train,y_test = train_test_split(pcadata,target,test_size=0.2)\n",
    "\n",
    "gbc = GBC(max_depth=10).fit( x_train , y_train )"
   ]
  },
  {
   "cell_type": "code",
   "execution_count": 95,
   "metadata": {},
   "outputs": [
    {
     "name": "stdout",
     "output_type": "stream",
     "text": [
      "0.1015\n"
     ]
    }
   ],
   "source": [
    "prediction=gbc.predict(x_test)\n",
    "print(accuracy_score(y_test,prediction))"
   ]
  },
  {
   "cell_type": "markdown",
   "metadata": {},
   "source": [
    "# Predicting Month Using PCA and Random Forest Classifier"
   ]
  },
  {
   "cell_type": "code",
   "execution_count": 98,
   "metadata": {},
   "outputs": [
    {
     "name": "stderr",
     "output_type": "stream",
     "text": [
      "C:\\Users\\akrit\\Anaconda3\\lib\\site-packages\\sklearn\\ensemble\\forest.py:246: FutureWarning: The default value of n_estimators will change from 10 in version 0.20 to 100 in 0.22.\n",
      "  \"10 in version 0.20 to 100 in 0.22.\", FutureWarning)\n"
     ]
    },
    {
     "data": {
      "text/plain": [
       "RandomForestClassifier(bootstrap=True, class_weight=None, criterion='gini',\n",
       "            max_depth=12, max_features='auto', max_leaf_nodes=None,\n",
       "            min_impurity_decrease=0.0, min_impurity_split=None,\n",
       "            min_samples_leaf=1, min_samples_split=2,\n",
       "            min_weight_fraction_leaf=0.0, n_estimators=10, n_jobs=None,\n",
       "            oob_score=False, random_state=None, verbose=0,\n",
       "            warm_start=False)"
      ]
     },
     "execution_count": 98,
     "metadata": {},
     "output_type": "execute_result"
    }
   ],
   "source": [
    "from sklearn.ensemble import RandomForestClassifier as RFC\n",
    "\n",
    "rfc=RFC(max_depth=12)\n",
    "rfc.fit(x_train,y_train)"
   ]
  },
  {
   "cell_type": "code",
   "execution_count": 99,
   "metadata": {},
   "outputs": [
    {
     "name": "stdout",
     "output_type": "stream",
     "text": [
      "0.097\n"
     ]
    }
   ],
   "source": [
    "prediction=rfc.predict(x_test)\n",
    "print(accuracy_score(y_test,prediction))"
   ]
  },
  {
   "cell_type": "markdown",
   "metadata": {},
   "source": [
    "# ExtraTreeClassifier"
   ]
  },
  {
   "cell_type": "code",
   "execution_count": 100,
   "metadata": {},
   "outputs": [],
   "source": [
    "#Creating Our classifier By Providing Training Data\n",
    "clf2 = tree.ExtraTreeClassifier()\n",
    "\n",
    "clf2 = clf2.fit(features_train, target_train)"
   ]
  },
  {
   "cell_type": "code",
   "execution_count": 101,
   "metadata": {},
   "outputs": [
    {
     "data": {
      "text/plain": [
       "array([11,  1,  7, ...,  2,  4,  7], dtype=int64)"
      ]
     },
     "execution_count": 101,
     "metadata": {},
     "output_type": "execute_result"
    }
   ],
   "source": [
    "#Predicting for the test set using the classifier created above\n",
    "target_pred = clf2.predict(features_test)\n",
    "target_pred"
   ]
  },
  {
   "cell_type": "code",
   "execution_count": 102,
   "metadata": {},
   "outputs": [
    {
     "name": "stdout",
     "output_type": "stream",
     "text": [
      "              precision    recall  f1-score   support\n",
      "\n",
      "           1       0.27      0.28      0.28       747\n",
      "           2       0.25      0.26      0.26       702\n",
      "           3       0.27      0.30      0.28       744\n",
      "           4       0.25      0.27      0.26       716\n",
      "           5       0.25      0.26      0.26       797\n",
      "           6       0.29      0.29      0.29       960\n",
      "           7       0.29      0.27      0.28      1052\n",
      "           8       0.29      0.30      0.30      1076\n",
      "           9       0.29      0.27      0.28      1057\n",
      "          10       0.25      0.24      0.24       819\n",
      "          11       0.28      0.26      0.27       754\n",
      "          12       0.23      0.21      0.22       728\n",
      "\n",
      "   micro avg       0.27      0.27      0.27     10152\n",
      "   macro avg       0.27      0.27      0.27     10152\n",
      "weighted avg       0.27      0.27      0.27     10152\n",
      "\n"
     ]
    }
   ],
   "source": [
    "from sklearn.metrics import classification_report\n",
    "rep = classification_report(target_test, target_pred)\n",
    "print(rep)\n",
    "\n",
    "#Accurate Predictions with more Training Data"
   ]
  },
  {
   "cell_type": "code",
   "execution_count": 103,
   "metadata": {},
   "outputs": [
    {
     "data": {
      "text/plain": [
       "0.2693065405831363"
      ]
     },
     "execution_count": 103,
     "metadata": {},
     "output_type": "execute_result"
    }
   ],
   "source": [
    "#1. The accuracy of your model on the test data\n",
    "\n",
    "from sklearn.metrics import accuracy_score\n",
    "\n",
    "accuracy_score(target_test, target_pred)"
   ]
  },
  {
   "cell_type": "markdown",
   "metadata": {},
   "source": [
    "# KNN"
   ]
  },
  {
   "cell_type": "code",
   "execution_count": 34,
   "metadata": {},
   "outputs": [
    {
     "name": "stderr",
     "output_type": "stream",
     "text": [
      "/anaconda3/lib/python3.7/site-packages/ipykernel_launcher.py:6: DataConversionWarning: A column-vector y was passed when a 1d array was expected. Please change the shape of y to (n_samples, ), for example using ravel().\n",
      "  \n"
     ]
    }
   ],
   "source": [
    "from sklearn.neighbors import KNeighborsClassifier\n",
    "\n",
    "#Creating Our classifier By Providing Training Data\n",
    "clf3 = KNeighborsClassifier()\n",
    "\n",
    "clf3 = clf3.fit(features_train, target_train)"
   ]
  },
  {
   "cell_type": "code",
   "execution_count": 35,
   "metadata": {},
   "outputs": [
    {
     "data": {
      "text/plain": [
       "array([ 9,  7, 10, ...,  3,  9,  9])"
      ]
     },
     "execution_count": 35,
     "metadata": {},
     "output_type": "execute_result"
    }
   ],
   "source": [
    "#Predicting for the test set using the classifier created above\n",
    "target_pred = clf2.predict(features_test)\n",
    "target_pred"
   ]
  },
  {
   "cell_type": "code",
   "execution_count": 36,
   "metadata": {},
   "outputs": [
    {
     "name": "stdout",
     "output_type": "stream",
     "text": [
      "              precision    recall  f1-score   support\n",
      "\n",
      "           1       0.28      0.28      0.28       728\n",
      "           2       0.30      0.27      0.28       752\n",
      "           3       0.26      0.27      0.27       767\n",
      "           4       0.26      0.27      0.27       724\n",
      "           5       0.26      0.27      0.27       826\n",
      "           6       0.28      0.29      0.28       919\n",
      "           7       0.28      0.28      0.28      1069\n",
      "           8       0.31      0.31      0.31      1078\n",
      "           9       0.31      0.30      0.30      1076\n",
      "          10       0.25      0.25      0.25       793\n",
      "          11       0.27      0.25      0.26       725\n",
      "          12       0.25      0.25      0.25       700\n",
      "\n",
      "   micro avg       0.28      0.28      0.28     10157\n",
      "   macro avg       0.28      0.27      0.28     10157\n",
      "weighted avg       0.28      0.28      0.28     10157\n",
      "\n"
     ]
    }
   ],
   "source": [
    "from sklearn.metrics import classification_report\n",
    "rep = classification_report(target_test, target_pred)\n",
    "print(rep)\n",
    "\n",
    "#Accurate Predictions with more Training Data"
   ]
  },
  {
   "cell_type": "code",
   "execution_count": 42,
   "metadata": {},
   "outputs": [
    {
     "data": {
      "text/plain": [
       "0.2712765957446808"
      ]
     },
     "execution_count": 42,
     "metadata": {},
     "output_type": "execute_result"
    }
   ],
   "source": [
    "#1. The accuracy of your model on the test data\n",
    "\n",
    "from sklearn.metrics import accuracy_score\n",
    "\n",
    "accuracy_score(target_test, target_pred)"
   ]
  },
  {
   "cell_type": "markdown",
   "metadata": {},
   "source": [
    "# Random Forest Classifier"
   ]
  },
  {
   "cell_type": "code",
   "execution_count": 46,
   "metadata": {},
   "outputs": [
    {
     "name": "stderr",
     "output_type": "stream",
     "text": [
      "C:\\Users\\akrit\\Anaconda3\\lib\\site-packages\\sklearn\\ensemble\\forest.py:246: FutureWarning: The default value of n_estimators will change from 10 in version 0.20 to 100 in 0.22.\n",
      "  \"10 in version 0.20 to 100 in 0.22.\", FutureWarning)\n",
      "C:\\Users\\akrit\\Anaconda3\\lib\\site-packages\\ipykernel_launcher.py:6: DataConversionWarning: A column-vector y was passed when a 1d array was expected. Please change the shape of y to (n_samples,), for example using ravel().\n",
      "  \n"
     ]
    }
   ],
   "source": [
    "from sklearn.ensemble import RandomForestClassifier\n",
    "\n",
    "#Creating Our classifier By Providing Training Data\n",
    "clf4 = RandomForestClassifier()\n",
    "\n",
    "clf4 = clf4.fit(features_train, target_train)"
   ]
  },
  {
   "cell_type": "code",
   "execution_count": 48,
   "metadata": {},
   "outputs": [
    {
     "data": {
      "text/plain": [
       "array([5, 3, 7, ..., 4, 1, 6], dtype=int64)"
      ]
     },
     "execution_count": 48,
     "metadata": {},
     "output_type": "execute_result"
    }
   ],
   "source": [
    "#Predicting for the test set using the classifier created above\n",
    "target_pred = clf4.predict(features_test)\n",
    "target_pred"
   ]
  },
  {
   "cell_type": "code",
   "execution_count": 49,
   "metadata": {},
   "outputs": [
    {
     "name": "stdout",
     "output_type": "stream",
     "text": [
      "              precision    recall  f1-score   support\n",
      "\n",
      "           1       0.25      0.31      0.28       747\n",
      "           2       0.23      0.27      0.25       702\n",
      "           3       0.25      0.29      0.27       744\n",
      "           4       0.27      0.29      0.28       716\n",
      "           5       0.25      0.27      0.26       797\n",
      "           6       0.27      0.29      0.28       960\n",
      "           7       0.31      0.30      0.31      1052\n",
      "           8       0.31      0.31      0.31      1076\n",
      "           9       0.31      0.28      0.29      1057\n",
      "          10       0.30      0.24      0.27       819\n",
      "          11       0.34      0.25      0.29       754\n",
      "          12       0.26      0.21      0.23       728\n",
      "\n",
      "   micro avg       0.28      0.28      0.28     10152\n",
      "   macro avg       0.28      0.28      0.28     10152\n",
      "weighted avg       0.28      0.28      0.28     10152\n",
      "\n"
     ]
    }
   ],
   "source": [
    "from sklearn.metrics import classification_report\n",
    "rep = classification_report(target_test, target_pred)\n",
    "print(rep)\n",
    "\n",
    "#Accurate Predictions with more Training Data"
   ]
  },
  {
   "cell_type": "code",
   "execution_count": 104,
   "metadata": {},
   "outputs": [
    {
     "data": {
      "text/plain": [
       "0.2693065405831363"
      ]
     },
     "execution_count": 104,
     "metadata": {},
     "output_type": "execute_result"
    }
   ],
   "source": [
    "#1. The accuracy of your model on the test data\n",
    "\n",
    "from sklearn.metrics import accuracy_score\n",
    "\n",
    "accuracy_score(target_test, target_pred)"
   ]
  },
  {
   "cell_type": "markdown",
   "metadata": {},
   "source": [
    "# Correlation Analysis using Pearson Coefficient"
   ]
  },
  {
   "cell_type": "code",
   "execution_count": 105,
   "metadata": {},
   "outputs": [
    {
     "data": {
      "text/html": [
       "<div>\n",
       "<style scoped>\n",
       "    .dataframe tbody tr th:only-of-type {\n",
       "        vertical-align: middle;\n",
       "    }\n",
       "\n",
       "    .dataframe tbody tr th {\n",
       "        vertical-align: top;\n",
       "    }\n",
       "\n",
       "    .dataframe thead th {\n",
       "        text-align: right;\n",
       "    }\n",
       "</style>\n",
       "<table border=\"1\" class=\"dataframe\">\n",
       "  <thead>\n",
       "    <tr style=\"text-align: right;\">\n",
       "      <th></th>\n",
       "      <th>OFFENSE_CODE</th>\n",
       "      <th>OFFENSE_CODE_GROUP</th>\n",
       "      <th>OFFENSE_DESCRIPTION</th>\n",
       "      <th>DISTRICT</th>\n",
       "      <th>REPORTING_AREA</th>\n",
       "      <th>SHOOTING</th>\n",
       "      <th>YEAR</th>\n",
       "      <th>DAY_OF_WEEK</th>\n",
       "      <th>HOUR</th>\n",
       "      <th>UCR_PART</th>\n",
       "      <th>STREET</th>\n",
       "      <th>MONTH</th>\n",
       "    </tr>\n",
       "  </thead>\n",
       "  <tbody>\n",
       "    <tr>\n",
       "      <th>OFFENSE_CODE_GROUP</th>\n",
       "      <td>0.114</td>\n",
       "      <td>1.000</td>\n",
       "      <td>0.483</td>\n",
       "      <td>0.007</td>\n",
       "      <td>-0.042</td>\n",
       "      <td>NaN</td>\n",
       "      <td>0.021</td>\n",
       "      <td>-0.012</td>\n",
       "      <td>-0.050</td>\n",
       "      <td>0.313</td>\n",
       "      <td>-0.025</td>\n",
       "      <td>-0.015</td>\n",
       "    </tr>\n",
       "    <tr>\n",
       "      <th>OFFENSE_DESCRIPTION</th>\n",
       "      <td>0.419</td>\n",
       "      <td>0.483</td>\n",
       "      <td>1.000</td>\n",
       "      <td>0.012</td>\n",
       "      <td>-0.021</td>\n",
       "      <td>NaN</td>\n",
       "      <td>0.015</td>\n",
       "      <td>-0.001</td>\n",
       "      <td>-0.038</td>\n",
       "      <td>-0.058</td>\n",
       "      <td>-0.014</td>\n",
       "      <td>-0.007</td>\n",
       "    </tr>\n",
       "    <tr>\n",
       "      <th>UCR_PART</th>\n",
       "      <td>0.027</td>\n",
       "      <td>0.313</td>\n",
       "      <td>-0.058</td>\n",
       "      <td>-0.035</td>\n",
       "      <td>-0.042</td>\n",
       "      <td>NaN</td>\n",
       "      <td>-0.017</td>\n",
       "      <td>0.005</td>\n",
       "      <td>-0.000</td>\n",
       "      <td>1.000</td>\n",
       "      <td>-0.031</td>\n",
       "      <td>-0.021</td>\n",
       "    </tr>\n",
       "    <tr>\n",
       "      <th>OFFENSE_CODE</th>\n",
       "      <td>1.000</td>\n",
       "      <td>0.114</td>\n",
       "      <td>0.419</td>\n",
       "      <td>-0.008</td>\n",
       "      <td>-0.029</td>\n",
       "      <td>NaN</td>\n",
       "      <td>0.032</td>\n",
       "      <td>-0.002</td>\n",
       "      <td>-0.035</td>\n",
       "      <td>0.027</td>\n",
       "      <td>-0.028</td>\n",
       "      <td>-0.007</td>\n",
       "    </tr>\n",
       "    <tr>\n",
       "      <th>YEAR</th>\n",
       "      <td>0.032</td>\n",
       "      <td>0.021</td>\n",
       "      <td>0.015</td>\n",
       "      <td>0.002</td>\n",
       "      <td>0.017</td>\n",
       "      <td>NaN</td>\n",
       "      <td>1.000</td>\n",
       "      <td>-0.001</td>\n",
       "      <td>0.001</td>\n",
       "      <td>-0.017</td>\n",
       "      <td>-0.000</td>\n",
       "      <td>-0.343</td>\n",
       "    </tr>\n",
       "    <tr>\n",
       "      <th>DISTRICT</th>\n",
       "      <td>-0.008</td>\n",
       "      <td>0.007</td>\n",
       "      <td>0.012</td>\n",
       "      <td>1.000</td>\n",
       "      <td>0.096</td>\n",
       "      <td>NaN</td>\n",
       "      <td>0.002</td>\n",
       "      <td>0.003</td>\n",
       "      <td>0.011</td>\n",
       "      <td>-0.035</td>\n",
       "      <td>-0.014</td>\n",
       "      <td>-0.003</td>\n",
       "    </tr>\n",
       "    <tr>\n",
       "      <th>DAY_OF_WEEK</th>\n",
       "      <td>-0.002</td>\n",
       "      <td>-0.012</td>\n",
       "      <td>-0.001</td>\n",
       "      <td>0.003</td>\n",
       "      <td>-0.005</td>\n",
       "      <td>NaN</td>\n",
       "      <td>-0.001</td>\n",
       "      <td>1.000</td>\n",
       "      <td>0.008</td>\n",
       "      <td>0.005</td>\n",
       "      <td>0.001</td>\n",
       "      <td>0.004</td>\n",
       "    </tr>\n",
       "    <tr>\n",
       "      <th>MONTH</th>\n",
       "      <td>-0.007</td>\n",
       "      <td>-0.015</td>\n",
       "      <td>-0.007</td>\n",
       "      <td>-0.003</td>\n",
       "      <td>0.003</td>\n",
       "      <td>NaN</td>\n",
       "      <td>-0.343</td>\n",
       "      <td>0.004</td>\n",
       "      <td>-0.000</td>\n",
       "      <td>-0.021</td>\n",
       "      <td>0.003</td>\n",
       "      <td>1.000</td>\n",
       "    </tr>\n",
       "    <tr>\n",
       "      <th>STREET</th>\n",
       "      <td>-0.028</td>\n",
       "      <td>-0.025</td>\n",
       "      <td>-0.014</td>\n",
       "      <td>-0.014</td>\n",
       "      <td>0.032</td>\n",
       "      <td>NaN</td>\n",
       "      <td>-0.000</td>\n",
       "      <td>0.001</td>\n",
       "      <td>0.005</td>\n",
       "      <td>-0.031</td>\n",
       "      <td>1.000</td>\n",
       "      <td>0.003</td>\n",
       "    </tr>\n",
       "    <tr>\n",
       "      <th>REPORTING_AREA</th>\n",
       "      <td>-0.029</td>\n",
       "      <td>-0.042</td>\n",
       "      <td>-0.021</td>\n",
       "      <td>0.096</td>\n",
       "      <td>1.000</td>\n",
       "      <td>NaN</td>\n",
       "      <td>0.017</td>\n",
       "      <td>-0.005</td>\n",
       "      <td>-0.016</td>\n",
       "      <td>-0.042</td>\n",
       "      <td>0.032</td>\n",
       "      <td>0.003</td>\n",
       "    </tr>\n",
       "    <tr>\n",
       "      <th>HOUR</th>\n",
       "      <td>-0.035</td>\n",
       "      <td>-0.050</td>\n",
       "      <td>-0.038</td>\n",
       "      <td>0.011</td>\n",
       "      <td>-0.016</td>\n",
       "      <td>NaN</td>\n",
       "      <td>0.001</td>\n",
       "      <td>0.008</td>\n",
       "      <td>1.000</td>\n",
       "      <td>-0.000</td>\n",
       "      <td>0.005</td>\n",
       "      <td>-0.000</td>\n",
       "    </tr>\n",
       "    <tr>\n",
       "      <th>SHOOTING</th>\n",
       "      <td>NaN</td>\n",
       "      <td>NaN</td>\n",
       "      <td>NaN</td>\n",
       "      <td>NaN</td>\n",
       "      <td>NaN</td>\n",
       "      <td>NaN</td>\n",
       "      <td>NaN</td>\n",
       "      <td>NaN</td>\n",
       "      <td>NaN</td>\n",
       "      <td>NaN</td>\n",
       "      <td>NaN</td>\n",
       "      <td>NaN</td>\n",
       "    </tr>\n",
       "  </tbody>\n",
       "</table>\n",
       "</div>"
      ],
      "text/plain": [
       "                     OFFENSE_CODE  OFFENSE_CODE_GROUP  OFFENSE_DESCRIPTION  \\\n",
       "OFFENSE_CODE_GROUP          0.114               1.000                0.483   \n",
       "OFFENSE_DESCRIPTION         0.419               0.483                1.000   \n",
       "UCR_PART                    0.027               0.313               -0.058   \n",
       "OFFENSE_CODE                1.000               0.114                0.419   \n",
       "YEAR                        0.032               0.021                0.015   \n",
       "DISTRICT                   -0.008               0.007                0.012   \n",
       "DAY_OF_WEEK                -0.002              -0.012               -0.001   \n",
       "MONTH                      -0.007              -0.015               -0.007   \n",
       "STREET                     -0.028              -0.025               -0.014   \n",
       "REPORTING_AREA             -0.029              -0.042               -0.021   \n",
       "HOUR                       -0.035              -0.050               -0.038   \n",
       "SHOOTING                      NaN                 NaN                  NaN   \n",
       "\n",
       "                     DISTRICT  REPORTING_AREA  SHOOTING   YEAR  DAY_OF_WEEK  \\\n",
       "OFFENSE_CODE_GROUP      0.007          -0.042       NaN  0.021       -0.012   \n",
       "OFFENSE_DESCRIPTION     0.012          -0.021       NaN  0.015       -0.001   \n",
       "UCR_PART               -0.035          -0.042       NaN -0.017        0.005   \n",
       "OFFENSE_CODE           -0.008          -0.029       NaN  0.032       -0.002   \n",
       "YEAR                    0.002           0.017       NaN  1.000       -0.001   \n",
       "DISTRICT                1.000           0.096       NaN  0.002        0.003   \n",
       "DAY_OF_WEEK             0.003          -0.005       NaN -0.001        1.000   \n",
       "MONTH                  -0.003           0.003       NaN -0.343        0.004   \n",
       "STREET                 -0.014           0.032       NaN -0.000        0.001   \n",
       "REPORTING_AREA          0.096           1.000       NaN  0.017       -0.005   \n",
       "HOUR                    0.011          -0.016       NaN  0.001        0.008   \n",
       "SHOOTING                  NaN             NaN       NaN    NaN          NaN   \n",
       "\n",
       "                      HOUR  UCR_PART  STREET  MONTH  \n",
       "OFFENSE_CODE_GROUP  -0.050     0.313  -0.025 -0.015  \n",
       "OFFENSE_DESCRIPTION -0.038    -0.058  -0.014 -0.007  \n",
       "UCR_PART            -0.000     1.000  -0.031 -0.021  \n",
       "OFFENSE_CODE        -0.035     0.027  -0.028 -0.007  \n",
       "YEAR                 0.001    -0.017  -0.000 -0.343  \n",
       "DISTRICT             0.011    -0.035  -0.014 -0.003  \n",
       "DAY_OF_WEEK          0.008     0.005   0.001  0.004  \n",
       "MONTH               -0.000    -0.021   0.003  1.000  \n",
       "STREET               0.005    -0.031   1.000  0.003  \n",
       "REPORTING_AREA      -0.016    -0.042   0.032  0.003  \n",
       "HOUR                 1.000    -0.000   0.005 -0.000  \n",
       "SHOOTING               NaN       NaN     NaN    NaN  "
      ]
     },
     "execution_count": 105,
     "metadata": {},
     "output_type": "execute_result"
    }
   ],
   "source": [
    "data=transform_labels.loc[:,['OFFENSE_CODE', 'OFFENSE_CODE_GROUP','OFFENSE_DESCRIPTION', \\\n",
    "                 'DISTRICT', 'REPORTING_AREA', 'SHOOTING', 'YEAR','DAY_OF_WEEK', 'HOUR', 'UCR_PART', 'STREET','MONTH']]\n",
    "pearsonMatrix=pd.DataFrame(round(data.corr(method='pearson'),3))\n",
    "pearsonMatrix.sort_values(by='OFFENSE_CODE_GROUP',ascending=False)\n"
   ]
  },
  {
   "cell_type": "code",
   "execution_count": 106,
   "metadata": {},
   "outputs": [],
   "source": [
    "ofdata=sampled_data.loc[:,['YEAR','SHOOTING','UCR_PART']]\n",
    "oftarget=sampled_data.loc[:,'OFFENSE_CODE_GROUP']"
   ]
  },
  {
   "cell_type": "code",
   "execution_count": 107,
   "metadata": {},
   "outputs": [
    {
     "data": {
      "text/html": [
       "<div>\n",
       "<style scoped>\n",
       "    .dataframe tbody tr th:only-of-type {\n",
       "        vertical-align: middle;\n",
       "    }\n",
       "\n",
       "    .dataframe tbody tr th {\n",
       "        vertical-align: top;\n",
       "    }\n",
       "\n",
       "    .dataframe thead th {\n",
       "        text-align: right;\n",
       "    }\n",
       "</style>\n",
       "<table border=\"1\" class=\"dataframe\">\n",
       "  <thead>\n",
       "    <tr style=\"text-align: right;\">\n",
       "      <th></th>\n",
       "      <th>YEAR</th>\n",
       "      <th>SHOOTING</th>\n",
       "      <th>UCR_PART</th>\n",
       "    </tr>\n",
       "  </thead>\n",
       "  <tbody>\n",
       "    <tr>\n",
       "      <th>213309</th>\n",
       "      <td>2016</td>\n",
       "      <td>0</td>\n",
       "      <td>2</td>\n",
       "    </tr>\n",
       "    <tr>\n",
       "      <th>43522</th>\n",
       "      <td>2018</td>\n",
       "      <td>0</td>\n",
       "      <td>2</td>\n",
       "    </tr>\n",
       "    <tr>\n",
       "      <th>30176</th>\n",
       "      <td>2018</td>\n",
       "      <td>0</td>\n",
       "      <td>2</td>\n",
       "    </tr>\n",
       "    <tr>\n",
       "      <th>256644</th>\n",
       "      <td>2016</td>\n",
       "      <td>0</td>\n",
       "      <td>3</td>\n",
       "    </tr>\n",
       "    <tr>\n",
       "      <th>255595</th>\n",
       "      <td>2016</td>\n",
       "      <td>0</td>\n",
       "      <td>2</td>\n",
       "    </tr>\n",
       "    <tr>\n",
       "      <th>227785</th>\n",
       "      <td>2016</td>\n",
       "      <td>0</td>\n",
       "      <td>1</td>\n",
       "    </tr>\n",
       "    <tr>\n",
       "      <th>177586</th>\n",
       "      <td>2016</td>\n",
       "      <td>0</td>\n",
       "      <td>2</td>\n",
       "    </tr>\n",
       "    <tr>\n",
       "      <th>170203</th>\n",
       "      <td>2017</td>\n",
       "      <td>0</td>\n",
       "      <td>3</td>\n",
       "    </tr>\n",
       "    <tr>\n",
       "      <th>42251</th>\n",
       "      <td>2018</td>\n",
       "      <td>0</td>\n",
       "      <td>2</td>\n",
       "    </tr>\n",
       "    <tr>\n",
       "      <th>22539</th>\n",
       "      <td>2018</td>\n",
       "      <td>0</td>\n",
       "      <td>1</td>\n",
       "    </tr>\n",
       "  </tbody>\n",
       "</table>\n",
       "</div>"
      ],
      "text/plain": [
       "        YEAR  SHOOTING  UCR_PART\n",
       "213309  2016         0         2\n",
       "43522   2018         0         2\n",
       "30176   2018         0         2\n",
       "256644  2016         0         3\n",
       "255595  2016         0         2\n",
       "227785  2016         0         1\n",
       "177586  2016         0         2\n",
       "170203  2017         0         3\n",
       "42251   2018         0         2\n",
       "22539   2018         0         1"
      ]
     },
     "execution_count": 107,
     "metadata": {},
     "output_type": "execute_result"
    }
   ],
   "source": [
    "ofdata.head(10)"
   ]
  },
  {
   "cell_type": "code",
   "execution_count": 108,
   "metadata": {},
   "outputs": [
    {
     "name": "stderr",
     "output_type": "stream",
     "text": [
      "C:\\Users\\akrit\\Anaconda3\\lib\\site-packages\\sklearn\\model_selection\\_split.py:2179: FutureWarning: From version 0.21, test_size will always complement train_size unless both are specified.\n",
      "  FutureWarning)\n"
     ]
    }
   ],
   "source": [
    "x_train,x_test, y_train,y_test = train_test_split(ofdata,oftarget,train_size=0.8)"
   ]
  },
  {
   "cell_type": "code",
   "execution_count": 109,
   "metadata": {},
   "outputs": [
    {
     "name": "stdout",
     "output_type": "stream",
     "text": [
      "0.453\n"
     ]
    }
   ],
   "source": [
    "clf=tree.DecisionTreeClassifier()\n",
    "clf.fit(x_train,y_train)\n",
    "prediction=clf.predict(x_test)\n",
    "print(accuracy_score(y_test,prediction))"
   ]
  },
  {
   "cell_type": "markdown",
   "metadata": {},
   "source": [
    "# Predicting Offense Code Group"
   ]
  },
  {
   "cell_type": "markdown",
   "metadata": {},
   "source": [
    "Using PCA and GBC"
   ]
  },
  {
   "cell_type": "code",
   "execution_count": 136,
   "metadata": {},
   "outputs": [],
   "source": [
    "ofdata=sample.loc[:,['OFFENSE_CODE', 'OFFENSE_CODE_GROUP','OFFENSE_DESCRIPTION', \n",
    "                 'DISTRICT', 'REPORTING_AREA', 'SHOOTING', 'YEAR','DAY_OF_WEEK', 'HOUR', 'UCR_PART', 'STREET','MONTH']]\n",
    "oftarget=sample.loc[:,'OFFENSE_CODE_GROUP']\n",
    "\n",
    "pcadata=PCA(n_components=2).fit_transform(ofdata)"
   ]
  },
  {
   "cell_type": "code",
   "execution_count": 167,
   "metadata": {},
   "outputs": [
    {
     "name": "stderr",
     "output_type": "stream",
     "text": [
      "C:\\Users\\akrit\\Anaconda3\\lib\\site-packages\\sklearn\\model_selection\\_split.py:2179: FutureWarning: From version 0.21, test_size will always complement train_size unless both are specified.\n",
      "  FutureWarning)\n"
     ]
    }
   ],
   "source": [
    "x_train,x_test, y_train,y_test = train_test_split(pcadata,oftarget,train_size=0.8)\n",
    "pcaGBC=GBC(max_depth=66).fit(x_train,y_train)"
   ]
  },
  {
   "cell_type": "code",
   "execution_count": 168,
   "metadata": {},
   "outputs": [],
   "source": [
    "pred = pcaGBC.predict(x_test)"
   ]
  },
  {
   "cell_type": "code",
   "execution_count": 169,
   "metadata": {},
   "outputs": [
    {
     "name": "stdout",
     "output_type": "stream",
     "text": [
      "0.88\n"
     ]
    }
   ],
   "source": [
    "print(accuracy_score(y_test,pred))"
   ]
  },
  {
   "cell_type": "code",
   "execution_count": 170,
   "metadata": {},
   "outputs": [
    {
     "data": {
      "text/plain": [
       "0.88"
      ]
     },
     "execution_count": 170,
     "metadata": {},
     "output_type": "execute_result"
    }
   ],
   "source": [
    "# 2. The precision and recall values\n",
    "# calculate Precision Value\n",
    "\n",
    "from sklearn import metrics\n",
    "\n",
    "metrics.precision_score(y_test, pred, average='micro')\n"
   ]
  },
  {
   "cell_type": "code",
   "execution_count": 171,
   "metadata": {},
   "outputs": [
    {
     "data": {
      "text/plain": [
       "0.88"
      ]
     },
     "execution_count": 171,
     "metadata": {},
     "output_type": "execute_result"
    }
   ],
   "source": [
    "# Calculate Recall Value\n",
    "# recall = TP/(TP+FN)\n",
    "metrics.recall_score(y_test, pred, average='micro')\n"
   ]
  },
  {
   "cell_type": "code",
   "execution_count": 172,
   "metadata": {},
   "outputs": [
    {
     "data": {
      "text/plain": [
       "(0.88, 0.88, 0.88, None)"
      ]
     },
     "execution_count": 172,
     "metadata": {},
     "output_type": "execute_result"
    }
   ],
   "source": [
    "#Calculate precision, recall and fscore\n",
    "\n",
    "from sklearn.metrics import precision_recall_fscore_support\n",
    "precision_recall_fscore_support(y_test , pred,  average='micro')"
   ]
  },
  {
   "cell_type": "code",
   "execution_count": 173,
   "metadata": {},
   "outputs": [
    {
     "data": {
      "text/plain": [
       "0.88"
      ]
     },
     "execution_count": 173,
     "metadata": {},
     "output_type": "execute_result"
    }
   ],
   "source": [
    "from sklearn.metrics import f1_score\n",
    "sample=transform_labels.sample(n=1000)\n",
    "f1_score(y_test , pred, average='micro')\n",
    " "
   ]
  },
  {
   "cell_type": "markdown",
   "metadata": {},
   "source": [
    "Using PCA and Decision Tree Classifier"
   ]
  },
  {
   "cell_type": "code",
   "execution_count": 176,
   "metadata": {},
   "outputs": [
    {
     "name": "stdout",
     "output_type": "stream",
     "text": [
      "0.85\n"
     ]
    }
   ],
   "source": [
    "clf=tree.DecisionTreeClassifier()\n",
    "clf.fit(x_train,y_train)\n",
    "prediction=clf.predict(x_test)\n",
    "print(accuracy_score(y_test,prediction))"
   ]
  },
  {
   "cell_type": "code",
   "execution_count": 181,
   "metadata": {},
   "outputs": [
    {
     "data": {
      "text/plain": [
       "0.85"
      ]
     },
     "execution_count": 181,
     "metadata": {},
     "output_type": "execute_result"
    }
   ],
   "source": [
    "# 2. The precision and recall values\n",
    "# calculate Precision Value\n",
    "\n",
    "from sklearn import metrics\n",
    "\n",
    "metrics.precision_score(y_test, prediction, average='micro')\n"
   ]
  },
  {
   "cell_type": "code",
   "execution_count": 182,
   "metadata": {},
   "outputs": [
    {
     "data": {
      "text/plain": [
       "0.85"
      ]
     },
     "execution_count": 182,
     "metadata": {},
     "output_type": "execute_result"
    }
   ],
   "source": [
    "# Calculate Recall Value\n",
    "# recall = TP/(TP+FN)\n",
    "metrics.recall_score(y_test, prediction, average='micro')\n"
   ]
  },
  {
   "cell_type": "code",
   "execution_count": 183,
   "metadata": {},
   "outputs": [
    {
     "data": {
      "text/plain": [
       "(0.85, 0.85, 0.85, None)"
      ]
     },
     "execution_count": 183,
     "metadata": {},
     "output_type": "execute_result"
    }
   ],
   "source": [
    "#Calculate precision, recall and fscore\n",
    "\n",
    "from sklearn.metrics import precision_recall_fscore_support\n",
    "precision_recall_fscore_support(y_test , prediction,  average='micro')"
   ]
  },
  {
   "cell_type": "code",
   "execution_count": 184,
   "metadata": {},
   "outputs": [
    {
     "data": {
      "text/plain": [
       "0.85"
      ]
     },
     "execution_count": 184,
     "metadata": {},
     "output_type": "execute_result"
    }
   ],
   "source": [
    "from sklearn.metrics import f1_score\n",
    "sample=transform_labels.sample(n=1000)\n",
    "f1_score(y_test , prediction, average='micro')\n",
    " "
   ]
  },
  {
   "cell_type": "markdown",
   "metadata": {},
   "source": [
    "Using PCA and KNN"
   ]
  },
  {
   "cell_type": "code",
   "execution_count": 185,
   "metadata": {},
   "outputs": [
    {
     "name": "stdout",
     "output_type": "stream",
     "text": [
      "0.89\n"
     ]
    }
   ],
   "source": [
    "from sklearn.neighbors import KNeighborsClassifier\n",
    "\n",
    "clf = KNeighborsClassifier()\n",
    "clf = clf.fit(x_train, y_train)\n",
    "pred = clf.predict(x_test)\n",
    "print(accuracy_score(y_test , pred))"
   ]
  },
  {
   "cell_type": "code",
   "execution_count": 186,
   "metadata": {},
   "outputs": [
    {
     "data": {
      "text/plain": [
       "0.89"
      ]
     },
     "execution_count": 186,
     "metadata": {},
     "output_type": "execute_result"
    }
   ],
   "source": [
    "# 2. The precision and recall values\n",
    "# calculate Precision Value\n",
    "\n",
    "from sklearn import metrics\n",
    "\n",
    "metrics.precision_score(y_test, pred, average='micro')\n"
   ]
  },
  {
   "cell_type": "code",
   "execution_count": 187,
   "metadata": {},
   "outputs": [
    {
     "data": {
      "text/plain": [
       "0.89"
      ]
     },
     "execution_count": 187,
     "metadata": {},
     "output_type": "execute_result"
    }
   ],
   "source": [
    "# Calculate Recall Value\n",
    "# recall = TP/(TP+FN)\n",
    "metrics.recall_score(y_test, pred, average='micro')\n"
   ]
  },
  {
   "cell_type": "code",
   "execution_count": 188,
   "metadata": {},
   "outputs": [
    {
     "data": {
      "text/plain": [
       "(0.89, 0.89, 0.89, None)"
      ]
     },
     "execution_count": 188,
     "metadata": {},
     "output_type": "execute_result"
    }
   ],
   "source": [
    "#Calculate precision, recall and fscore\n",
    "\n",
    "from sklearn.metrics import precision_recall_fscore_support\n",
    "precision_recall_fscore_support(y_test , pred,  average='micro')"
   ]
  },
  {
   "cell_type": "code",
   "execution_count": 189,
   "metadata": {},
   "outputs": [
    {
     "data": {
      "text/plain": [
       "0.89"
      ]
     },
     "execution_count": 189,
     "metadata": {},
     "output_type": "execute_result"
    }
   ],
   "source": [
    "from sklearn.metrics import f1_score\n",
    "sample=transform_labels.sample(n=1000)\n",
    "f1_score(y_test , pred, average='micro')\n",
    " "
   ]
  },
  {
   "cell_type": "markdown",
   "metadata": {},
   "source": [
    "Using PCA and Random Forest Classifier"
   ]
  },
  {
   "cell_type": "code",
   "execution_count": 210,
   "metadata": {},
   "outputs": [
    {
     "name": "stdout",
     "output_type": "stream",
     "text": [
      "0.905\n"
     ]
    },
    {
     "name": "stderr",
     "output_type": "stream",
     "text": [
      "C:\\Users\\akrit\\Anaconda3\\lib\\site-packages\\sklearn\\ensemble\\forest.py:246: FutureWarning: The default value of n_estimators will change from 10 in version 0.20 to 100 in 0.22.\n",
      "  \"10 in version 0.20 to 100 in 0.22.\", FutureWarning)\n"
     ]
    }
   ],
   "source": [
    "clf = RandomForestClassifier()\n",
    "clf = clf.fit(x_train, y_train)\n",
    "prediction=clf.predict(x_test)\n",
    "print(accuracy_score(y_test,prediction))"
   ]
  },
  {
   "cell_type": "code",
   "execution_count": 211,
   "metadata": {},
   "outputs": [
    {
     "data": {
      "text/plain": [
       "0.905"
      ]
     },
     "execution_count": 211,
     "metadata": {},
     "output_type": "execute_result"
    }
   ],
   "source": [
    "# 2. The precision and recall values\n",
    "# calculate Precision Value\n",
    "\n",
    "from sklearn import metrics\n",
    "\n",
    "metrics.precision_score(y_test, prediction, average='micro')\n"
   ]
  },
  {
   "cell_type": "code",
   "execution_count": 213,
   "metadata": {},
   "outputs": [
    {
     "data": {
      "text/plain": [
       "0.905"
      ]
     },
     "execution_count": 213,
     "metadata": {},
     "output_type": "execute_result"
    }
   ],
   "source": [
    "# Calculate Recall Value\n",
    "# recall = TP/(TP+FN)\n",
    "metrics.recall_score(y_test, prediction, average='micro')\n"
   ]
  },
  {
   "cell_type": "code",
   "execution_count": 214,
   "metadata": {},
   "outputs": [
    {
     "data": {
      "text/plain": [
       "(0.905, 0.905, 0.905, None)"
      ]
     },
     "execution_count": 214,
     "metadata": {},
     "output_type": "execute_result"
    }
   ],
   "source": [
    "#Calculate precision, recall and fscore\n",
    "\n",
    "from sklearn.metrics import precision_recall_fscore_support\n",
    "precision_recall_fscore_support(y_test , prediction,  average='micro')"
   ]
  },
  {
   "cell_type": "code",
   "execution_count": 215,
   "metadata": {},
   "outputs": [
    {
     "data": {
      "text/plain": [
       "0.905"
      ]
     },
     "execution_count": 215,
     "metadata": {},
     "output_type": "execute_result"
    }
   ],
   "source": [
    "from sklearn.metrics import f1_score\n",
    "sample=transform_labels.sample(n=1000)\n",
    "f1_score(y_test , prediction, average='micro')\n",
    " "
   ]
  },
  {
   "cell_type": "markdown",
   "metadata": {},
   "source": [
    "Earlier when were predicting the month using various classifiers and the results were not good.\n",
    "\n",
    "After Performing Correlation Analysis using Pearson Coefficient, we used the features by PCA and predicted offence code groups."
   ]
  }
 ],
 "metadata": {
  "kernelspec": {
   "display_name": "Python 3",
   "language": "python",
   "name": "python3"
  },
  "language_info": {
   "codemirror_mode": {
    "name": "ipython",
    "version": 3
   },
   "file_extension": ".py",
   "mimetype": "text/x-python",
   "name": "python",
   "nbconvert_exporter": "python",
   "pygments_lexer": "ipython3",
   "version": "3.7.1"
  }
 },
 "nbformat": 4,
 "nbformat_minor": 2
}
