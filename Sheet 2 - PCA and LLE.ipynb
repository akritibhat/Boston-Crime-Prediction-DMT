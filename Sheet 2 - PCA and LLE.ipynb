{
 "cells": [
  {
   "cell_type": "code",
   "execution_count": 59,
   "metadata": {},
   "outputs": [],
   "source": [
    "import numpy as np\n",
    "import matplotlib.pyplot as plt\n",
    "import pandas as pd\n",
    "from sklearn.preprocessing import LabelEncoder\n",
    "from sklearn.decomposition import PCA\n",
    "#Reading The CSV\n",
    "data=pd.read_csv('crime.csv',engine='python')"
   ]
  },
  {
   "cell_type": "code",
   "execution_count": 60,
   "metadata": {},
   "outputs": [
    {
     "data": {
      "text/plain": [
       "array(['N', 'Y'], dtype=object)"
      ]
     },
     "execution_count": 60,
     "metadata": {},
     "output_type": "execute_result"
    }
   ],
   "source": [
    "data['SHOOTING']=data['SHOOTING'].fillna('N')\n",
    "data['SHOOTING'].unique()"
   ]
  },
  {
   "cell_type": "code",
   "execution_count": 61,
   "metadata": {},
   "outputs": [],
   "source": [
    "transform_labels=data.iloc[:,:]\n",
    "transform_labels.loc[:,'STREET']=LabelEncoder().fit_transform(tras.loc[:,'STREET'])\n",
    "transform_labels.loc[:,'UCR_PART']=LabelEncoder().fit_transform(tras.loc[:,'UCR_PART'])\n",
    "transform_labels.loc[:,'OFFENSE_CODE_GROUP']=LabelEncoder().fit_transform(tras.loc[:,'OFFENSE_CODE_GROUP'])\n",
    "transform_labels.loc[:,'OFFENSE_DESCRIPTION']=LabelEncoder().fit_transform(tras.loc[:,'OFFENSE_DESCRIPTION'])\n",
    "transform_labels.loc[:,'DISTRICT']=LabelEncoder().fit_transform(tras.loc[:,'DISTRICT'])\n",
    "transform_labels.loc[:,'REPORTING_AREA']=LabelEncoder().fit_transform(tras.loc[:,'REPORTING_AREA'])\n",
    "transform_labels.loc[:,'SHOOTING']=LabelEncoder().fit_transform(tras.loc[:,'SHOOTING'])\n",
    "transform_labels.loc[:,'DAY_OF_WEEK']=LabelEncoder().fit_transform(tras.loc[:,'DAY_OF_WEEK'])\n"
   ]
  },
  {
   "cell_type": "code",
   "execution_count": 62,
   "metadata": {},
   "outputs": [
    {
     "data": {
      "text/html": [
       "<div>\n",
       "<style scoped>\n",
       "    .dataframe tbody tr th:only-of-type {\n",
       "        vertical-align: middle;\n",
       "    }\n",
       "\n",
       "    .dataframe tbody tr th {\n",
       "        vertical-align: top;\n",
       "    }\n",
       "\n",
       "    .dataframe thead th {\n",
       "        text-align: right;\n",
       "    }\n",
       "</style>\n",
       "<table border=\"1\" class=\"dataframe\">\n",
       "  <thead>\n",
       "    <tr style=\"text-align: right;\">\n",
       "      <th></th>\n",
       "      <th>INCIDENT_NUMBER</th>\n",
       "      <th>OFFENSE_CODE</th>\n",
       "      <th>OFFENSE_CODE_GROUP</th>\n",
       "      <th>OFFENSE_DESCRIPTION</th>\n",
       "      <th>DISTRICT</th>\n",
       "      <th>REPORTING_AREA</th>\n",
       "      <th>SHOOTING</th>\n",
       "      <th>OCCURRED_ON_DATE</th>\n",
       "      <th>YEAR</th>\n",
       "      <th>MONTH</th>\n",
       "      <th>DAY_OF_WEEK</th>\n",
       "      <th>HOUR</th>\n",
       "      <th>UCR_PART</th>\n",
       "      <th>STREET</th>\n",
       "      <th>Lat</th>\n",
       "      <th>Long</th>\n",
       "      <th>Location</th>\n",
       "    </tr>\n",
       "  </thead>\n",
       "  <tbody>\n",
       "    <tr>\n",
       "      <th>0</th>\n",
       "      <td>I182080058</td>\n",
       "      <td>2403</td>\n",
       "      <td>14</td>\n",
       "      <td>62</td>\n",
       "      <td>10</td>\n",
       "      <td>439</td>\n",
       "      <td>1</td>\n",
       "      <td>2018-10-03 20:13:00</td>\n",
       "      <td>2018</td>\n",
       "      <td>10</td>\n",
       "      <td>6</td>\n",
       "      <td>20</td>\n",
       "      <td>3</td>\n",
       "      <td>240</td>\n",
       "      <td>42.262608</td>\n",
       "      <td>-71.121186</td>\n",
       "      <td>(42.26260773, -71.12118637)</td>\n",
       "    </tr>\n",
       "    <tr>\n",
       "      <th>1</th>\n",
       "      <td>I182080053</td>\n",
       "      <td>3201</td>\n",
       "      <td>52</td>\n",
       "      <td>186</td>\n",
       "      <td>7</td>\n",
       "      <td>770</td>\n",
       "      <td>1</td>\n",
       "      <td>2018-08-30 20:00:00</td>\n",
       "      <td>2018</td>\n",
       "      <td>8</td>\n",
       "      <td>4</td>\n",
       "      <td>20</td>\n",
       "      <td>2</td>\n",
       "      <td>143</td>\n",
       "      <td>42.352111</td>\n",
       "      <td>-71.135311</td>\n",
       "      <td>(42.35211146, -71.13531147)</td>\n",
       "    </tr>\n",
       "    <tr>\n",
       "      <th>2</th>\n",
       "      <td>I182080052</td>\n",
       "      <td>2647</td>\n",
       "      <td>46</td>\n",
       "      <td>221</td>\n",
       "      <td>3</td>\n",
       "      <td>256</td>\n",
       "      <td>1</td>\n",
       "      <td>2018-10-03 19:20:00</td>\n",
       "      <td>2018</td>\n",
       "      <td>10</td>\n",
       "      <td>6</td>\n",
       "      <td>19</td>\n",
       "      <td>3</td>\n",
       "      <td>1273</td>\n",
       "      <td>42.308126</td>\n",
       "      <td>-71.076930</td>\n",
       "      <td>(42.30812619, -71.07692974)</td>\n",
       "    </tr>\n",
       "    <tr>\n",
       "      <th>3</th>\n",
       "      <td>I182080051</td>\n",
       "      <td>413</td>\n",
       "      <td>0</td>\n",
       "      <td>16</td>\n",
       "      <td>0</td>\n",
       "      <td>835</td>\n",
       "      <td>1</td>\n",
       "      <td>2018-10-03 20:00:00</td>\n",
       "      <td>2018</td>\n",
       "      <td>10</td>\n",
       "      <td>6</td>\n",
       "      <td>20</td>\n",
       "      <td>1</td>\n",
       "      <td>728</td>\n",
       "      <td>42.359454</td>\n",
       "      <td>-71.059648</td>\n",
       "      <td>(42.35945371, -71.05964817)</td>\n",
       "    </tr>\n",
       "    <tr>\n",
       "      <th>4</th>\n",
       "      <td>I182080050</td>\n",
       "      <td>3122</td>\n",
       "      <td>1</td>\n",
       "      <td>4</td>\n",
       "      <td>2</td>\n",
       "      <td>290</td>\n",
       "      <td>1</td>\n",
       "      <td>2018-10-03 20:49:00</td>\n",
       "      <td>2018</td>\n",
       "      <td>10</td>\n",
       "      <td>6</td>\n",
       "      <td>20</td>\n",
       "      <td>2</td>\n",
       "      <td>3408</td>\n",
       "      <td>42.375258</td>\n",
       "      <td>-71.024663</td>\n",
       "      <td>(42.37525782, -71.02466343)</td>\n",
       "    </tr>\n",
       "  </tbody>\n",
       "</table>\n",
       "</div>"
      ],
      "text/plain": [
       "  INCIDENT_NUMBER  OFFENSE_CODE  OFFENSE_CODE_GROUP  OFFENSE_DESCRIPTION  \\\n",
       "0      I182080058          2403                  14                   62   \n",
       "1      I182080053          3201                  52                  186   \n",
       "2      I182080052          2647                  46                  221   \n",
       "3      I182080051           413                   0                   16   \n",
       "4      I182080050          3122                   1                    4   \n",
       "\n",
       "   DISTRICT  REPORTING_AREA  SHOOTING     OCCURRED_ON_DATE  YEAR  MONTH  \\\n",
       "0        10             439         1  2018-10-03 20:13:00  2018     10   \n",
       "1         7             770         1  2018-08-30 20:00:00  2018      8   \n",
       "2         3             256         1  2018-10-03 19:20:00  2018     10   \n",
       "3         0             835         1  2018-10-03 20:00:00  2018     10   \n",
       "4         2             290         1  2018-10-03 20:49:00  2018     10   \n",
       "\n",
       "   DAY_OF_WEEK  HOUR  UCR_PART  STREET        Lat       Long  \\\n",
       "0            6    20         3     240  42.262608 -71.121186   \n",
       "1            4    20         2     143  42.352111 -71.135311   \n",
       "2            6    19         3    1273  42.308126 -71.076930   \n",
       "3            6    20         1     728  42.359454 -71.059648   \n",
       "4            6    20         2    3408  42.375258 -71.024663   \n",
       "\n",
       "                      Location  \n",
       "0  (42.26260773, -71.12118637)  \n",
       "1  (42.35211146, -71.13531147)  \n",
       "2  (42.30812619, -71.07692974)  \n",
       "3  (42.35945371, -71.05964817)  \n",
       "4  (42.37525782, -71.02466343)  "
      ]
     },
     "execution_count": 62,
     "metadata": {},
     "output_type": "execute_result"
    }
   ],
   "source": [
    "transform_labels.head()"
   ]
  },
  {
   "cell_type": "code",
   "execution_count": null,
   "metadata": {},
   "outputs": [],
   "source": []
  },
  {
   "cell_type": "code",
   "execution_count": 71,
   "metadata": {},
   "outputs": [],
   "source": [
    "data=transform_labels.loc[:,['OFFENSE_CODE', 'OFFENSE_CODE_GROUP','OFFENSE_DESCRIPTION', 'DISTRICT', 'REPORTING_AREA', \n",
    "                             'SHOOTING', 'YEAR','DAY_OF_WEEK', 'HOUR', 'UCR_PART', 'STREET']]"
   ]
  },
  {
   "cell_type": "code",
   "execution_count": 73,
   "metadata": {},
   "outputs": [],
   "source": [
    "pca=PCA(n_components=9).fit(data)"
   ]
  },
  {
   "cell_type": "code",
   "execution_count": 74,
   "metadata": {},
   "outputs": [
    {
     "name": "stdout",
     "output_type": "stream",
     "text": [
      "[5.91470026e-01 3.89432647e-01 1.81139273e-02 9.70870072e-04\n",
      " 1.09700932e-05 1.14439377e-06 2.81988125e-07 1.32480820e-07\n",
      " 8.84336679e-10]\n"
     ]
    }
   ],
   "source": [
    "print(pca.explained_variance_ratio_)\n"
   ]
  },
  {
   "cell_type": "code",
   "execution_count": 76,
   "metadata": {},
   "outputs": [
    {
     "name": "stdout",
     "output_type": "stream",
     "text": [
      "[5.91470026e-01 3.89432647e-01 1.81139273e-02 9.70870072e-04\n",
      " 1.09700932e-05]\n"
     ]
    }
   ],
   "source": [
    "pca=PCA(n_components=5).fit(data)\n",
    "print(pca.explained_variance_ratio_)"
   ]
  },
  {
   "cell_type": "code",
   "execution_count": null,
   "metadata": {},
   "outputs": [],
   "source": []
  }
 ],
 "metadata": {
  "kernelspec": {
   "display_name": "Python 3",
   "language": "python",
   "name": "python3"
  },
  "language_info": {
   "codemirror_mode": {
    "name": "ipython",
    "version": 3
   },
   "file_extension": ".py",
   "mimetype": "text/x-python",
   "name": "python",
   "nbconvert_exporter": "python",
   "pygments_lexer": "ipython3",
   "version": "3.7.1"
  }
 },
 "nbformat": 4,
 "nbformat_minor": 2
}
